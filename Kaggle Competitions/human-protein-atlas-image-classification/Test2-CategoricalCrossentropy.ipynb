{
 "cells": [
  {
   "cell_type": "markdown",
   "metadata": {},
   "source": [
    "#### Human Protein Atlas Image Classification"
   ]
  },
  {
   "cell_type": "markdown",
   "metadata": {},
   "source": [
    "URL: https://www.kaggle.com/c/human-protein-atlas-image-classification"
   ]
  },
  {
   "cell_type": "code",
   "execution_count": 1,
   "metadata": {},
   "outputs": [],
   "source": [
    "import os\n",
    "import skimage\n",
    "import pandas as pd\n",
    "import numpy as np\n",
    "from skimage.transform import resize\n",
    "from PIL import Image\n",
    "from sklearn.preprocessing import MultiLabelBinarizer\n",
    "from IPython.display import display, clear_output"
   ]
  },
  {
   "cell_type": "code",
   "execution_count": 2,
   "metadata": {},
   "outputs": [],
   "source": [
    "def split_random(matrix, percent_train=70, percent_test=15):\n",
    "    percent_validation = 100 - percent_train - percent_test\n",
    "\n",
    "    if percent_validation < 0:\n",
    "        percent_validation = 0\n",
    "\n",
    "    rows = matrix.shape[0]\n",
    "    np.random.shuffle(matrix)\n",
    "\n",
    "    end_training = int(rows * percent_train / 100)    \n",
    "    end_testing = end_training + int((rows * percent_test / 100))\n",
    "\n",
    "    training = matrix[:end_training]\n",
    "    testing = matrix[end_training:end_testing]\n",
    "    validation = matrix[end_testing:]\n",
    "    return training, testing, validation\n"
   ]
  },
  {
   "cell_type": "code",
   "execution_count": 3,
   "metadata": {},
   "outputs": [],
   "source": [
    "from random import shuffle\n",
    "\n",
    "def get_shuffled_x_y(type_dataset, percent_train=70, percent_test=15):\n",
    "    multilabel = MultiLabelBinarizer()\n",
    "    x_names = []\n",
    "    x = []\n",
    "    y = []\n",
    "    df = pd.read_csv('datasets/' + type_dataset + '.csv', index_col=0)\n",
    "    for indice_fila in df.iterrows():\n",
    "        x_names.append(indice_fila[0])\n",
    "        labels = (indice_fila[1]['Target']).split(\" \")\n",
    "        labels = [int(i) for i in labels]\n",
    "        y.append(labels)\n",
    "    \n",
    "    y_multilabel = multilabel.fit_transform(y)\n",
    "    total = len(x_names)\n",
    "    total_train = int((percent_train * total) / 100)\n",
    "    total_test = int((percent_test * total) / 100)\n",
    "    total_val = total - total_train - total_test\n",
    "    x_names = np.array(x_names)\n",
    "    \n",
    "    shuffle = np.arange(x_names.shape[0])\n",
    "    np.random.shuffle(shuffle)\n",
    "    x_names = x_names[shuffle]\n",
    "    y_multilabel = y_multilabel[shuffle]\n",
    "    \n",
    "    # Train\n",
    "    last_train = total_train\n",
    "    x_train = x_names[0:last_train]\n",
    "    y_train = y_multilabel[0:last_train]\n",
    "    \n",
    "    # Test\n",
    "    first_test = last_train\n",
    "    last_test = first_test + total_test\n",
    "    x_test = x_names[first_test:last_test]\n",
    "    y_test = y_multilabel[first_test:last_test]\n",
    "    \n",
    "    # Validation\n",
    "    first_val = last_test\n",
    "    last_val = first_val + total_val\n",
    "    x_val = x_names[first_val:last_val]\n",
    "    y_val = y_multilabel[first_val:last_val]\n",
    "    \n",
    "    return x_train, y_train, x_test, y_test, x_val, y_val\n"
   ]
  },
  {
   "cell_type": "code",
   "execution_count": 4,
   "metadata": {},
   "outputs": [],
   "source": [
    "def get_image(type_dataset, x):\n",
    "    result_x = []\n",
    "    i = 0\n",
    "    for names in x:\n",
    "        if(i % 100 == 0):\n",
    "            clear_output(wait=True)\n",
    "            display(str(i) + ' / ' + str(len(x)))\n",
    "        i = i + 1\n",
    "        path = './datasets/' + type_dataset + '/' + names\n",
    "    \n",
    "        img_blue = np.array(Image.open(path + '_blue.png'))\n",
    "        img_blue = np.asarray(skimage.transform.resize(img_blue, (150, 150, 3)))\n",
    "        \n",
    "        img_green = np.array(Image.open(path + '_green.png'))\n",
    "        img_green = np.asarray(skimage.transform.resize(img_green, (150, 150, 3)))\n",
    "        \n",
    "        img_red = np.array(Image.open(path +'_red.png'))\n",
    "        img_red = np.asarray(skimage.transform.resize(img_red, (150, 150, 3)))\n",
    "        \n",
    "        img_yellow = np.array(Image.open(path + '_yellow.png'))\n",
    "        img_yellow = np.asarray(skimage.transform.resize(img_yellow, (150, 150, 3)))\n",
    "    \n",
    "        result = np.concatenate((img_blue, img_green, img_red, img_yellow), axis=2)\n",
    "        result_x.append(result)\n",
    "\n",
    "    print(\"FIN\")\n",
    "    return np.array(result_x)\n"
   ]
  },
  {
   "cell_type": "code",
   "execution_count": 5,
   "metadata": {},
   "outputs": [],
   "source": [
    "x_label_train, y_train, x_label_test, y_test, x_label_val, y_val = get_shuffled_x_y('train')"
   ]
  },
  {
   "cell_type": "code",
   "execution_count": 6,
   "metadata": {},
   "outputs": [
    {
     "data": {
      "text/plain": [
       "'21700 / 21750'"
      ]
     },
     "metadata": {},
     "output_type": "display_data"
    },
    {
     "name": "stdout",
     "output_type": "stream",
     "text": [
      "FIN\n"
     ]
    }
   ],
   "source": [
    "x_train = get_image('train', x_label_train)"
   ]
  },
  {
   "cell_type": "code",
   "execution_count": 7,
   "metadata": {},
   "outputs": [
    {
     "data": {
      "text/plain": [
       "'4600 / 4660'"
      ]
     },
     "metadata": {},
     "output_type": "display_data"
    },
    {
     "name": "stdout",
     "output_type": "stream",
     "text": [
      "FIN\n"
     ]
    }
   ],
   "source": [
    "x_test = get_image('train', x_label_test)"
   ]
  },
  {
   "cell_type": "code",
   "execution_count": 8,
   "metadata": {},
   "outputs": [
    {
     "data": {
      "text/plain": [
       "'4600 / 4662'"
      ]
     },
     "metadata": {},
     "output_type": "display_data"
    },
    {
     "name": "stdout",
     "output_type": "stream",
     "text": [
      "FIN\n"
     ]
    }
   ],
   "source": [
    "x_val = get_image('train', x_label_val)"
   ]
  },
  {
   "cell_type": "code",
   "execution_count": 9,
   "metadata": {},
   "outputs": [
    {
     "name": "stderr",
     "output_type": "stream",
     "text": [
      "/anaconda3/lib/python3.6/site-packages/h5py/__init__.py:36: FutureWarning: Conversion of the second argument of issubdtype from `float` to `np.floating` is deprecated. In future, it will be treated as `np.float64 == np.dtype(float).type`.\n",
      "  from ._conv import register_converters as _register_converters\n",
      "Using TensorFlow backend.\n"
     ]
    }
   ],
   "source": [
    "from keras.models import Sequential\n",
    "from keras.layers import Convolution2D\n",
    "from keras.layers.core import Dense, Dropout, Activation, Flatten\n",
    "from keras.layers.normalization import BatchNormalization\n",
    "from keras import optimizers\n",
    "from keras.callbacks import ModelCheckpoint\n",
    "from keras.optimizers import SGD\n",
    "\n",
    "import sys\n",
    "sys.path.insert(0, '../../Utils')\n",
    "from fnn_helper import PlotLosses"
   ]
  },
  {
   "cell_type": "code",
   "execution_count": 10,
   "metadata": {},
   "outputs": [
    {
     "name": "stdout",
     "output_type": "stream",
     "text": [
      "_________________________________________________________________\n",
      "Layer (type)                 Output Shape              Param #   \n",
      "=================================================================\n",
      "conv2d_1 (Conv2D)            (None, 150, 150, 6)       2598      \n",
      "_________________________________________________________________\n",
      "batch_normalization_1 (Batch (None, 150, 150, 6)       24        \n",
      "_________________________________________________________________\n",
      "activation_1 (Activation)    (None, 150, 150, 6)       0         \n",
      "_________________________________________________________________\n",
      "dropout_1 (Dropout)          (None, 150, 150, 6)       0         \n",
      "_________________________________________________________________\n",
      "conv2d_2 (Conv2D)            (None, 75, 75, 12)        1812      \n",
      "_________________________________________________________________\n",
      "batch_normalization_2 (Batch (None, 75, 75, 12)        48        \n",
      "_________________________________________________________________\n",
      "activation_2 (Activation)    (None, 75, 75, 12)        0         \n",
      "_________________________________________________________________\n",
      "dropout_2 (Dropout)          (None, 75, 75, 12)        0         \n",
      "_________________________________________________________________\n",
      "conv2d_3 (Conv2D)            (None, 38, 38, 24)        4632      \n",
      "_________________________________________________________________\n",
      "batch_normalization_3 (Batch (None, 38, 38, 24)        96        \n",
      "_________________________________________________________________\n",
      "activation_3 (Activation)    (None, 38, 38, 24)        0         \n",
      "_________________________________________________________________\n",
      "dropout_3 (Dropout)          (None, 38, 38, 24)        0         \n",
      "_________________________________________________________________\n",
      "conv2d_4 (Conv2D)            (None, 19, 19, 48)        10416     \n",
      "_________________________________________________________________\n",
      "batch_normalization_4 (Batch (None, 19, 19, 48)        192       \n",
      "_________________________________________________________________\n",
      "activation_4 (Activation)    (None, 19, 19, 48)        0         \n",
      "_________________________________________________________________\n",
      "dropout_4 (Dropout)          (None, 19, 19, 48)        0         \n",
      "_________________________________________________________________\n",
      "conv2d_5 (Conv2D)            (None, 10, 10, 96)        18528     \n",
      "_________________________________________________________________\n",
      "batch_normalization_5 (Batch (None, 10, 10, 96)        384       \n",
      "_________________________________________________________________\n",
      "activation_5 (Activation)    (None, 10, 10, 96)        0         \n",
      "_________________________________________________________________\n",
      "dropout_5 (Dropout)          (None, 10, 10, 96)        0         \n",
      "_________________________________________________________________\n",
      "flatten_1 (Flatten)          (None, 9600)              0         \n",
      "_________________________________________________________________\n",
      "dense_1 (Dense)              (None, 200)               1920200   \n",
      "_________________________________________________________________\n",
      "batch_normalization_6 (Batch (None, 200)               800       \n",
      "_________________________________________________________________\n",
      "activation_6 (Activation)    (None, 200)               0         \n",
      "_________________________________________________________________\n",
      "dropout_6 (Dropout)          (None, 200)               0         \n",
      "_________________________________________________________________\n",
      "dense_2 (Dense)              (None, 28)                5628      \n",
      "=================================================================\n",
      "Total params: 1,965,358\n",
      "Trainable params: 1,964,586\n",
      "Non-trainable params: 772\n",
      "_________________________________________________________________\n"
     ]
    }
   ],
   "source": [
    "dropout = 0.15\n",
    "output_size = y_train.shape[1]\n",
    "\n",
    "model = Sequential()\n",
    "model.add(Convolution2D(filters=6, strides=1, kernel_size=6, padding='same',input_shape=(150,150,12)))\n",
    "model.add(BatchNormalization())\n",
    "model.add(Activation('relu'))\n",
    "model.add(Dropout(dropout))\n",
    "\n",
    "model.add(Convolution2D(filters=12, strides=2, kernel_size=5, padding='same'))\n",
    "model.add(BatchNormalization())\n",
    "model.add(Activation('relu'))\n",
    "model.add(Dropout(dropout))\n",
    "\n",
    "model.add(Convolution2D(filters=24, strides=2, kernel_size=4, padding='same'))\n",
    "model.add(BatchNormalization())\n",
    "model.add(Activation('relu'))\n",
    "model.add(Dropout(dropout))\n",
    "\n",
    "model.add(Convolution2D(filters=48, strides=2, kernel_size=3, padding='same'))\n",
    "model.add(BatchNormalization())\n",
    "model.add(Activation('relu'))\n",
    "model.add(Dropout(dropout))\n",
    "\n",
    "model.add(Convolution2D(filters=96, strides=2, kernel_size=2, padding='same'))\n",
    "model.add(BatchNormalization())\n",
    "model.add(Activation('relu'))\n",
    "model.add(Dropout(dropout))\n",
    "\n",
    "model.add(Flatten())\n",
    "model.add(Dense(200))\n",
    "model.add(BatchNormalization())\n",
    "model.add(Activation('sigmoid'))\n",
    "model.add(Dropout(dropout))\n",
    "model.add(Dense(output_size, activation='sigmoid'))\n",
    "model.summary()"
   ]
  },
  {
   "cell_type": "code",
   "execution_count": 11,
   "metadata": {},
   "outputs": [],
   "source": [
    "import tensorflow as tf\n",
    "\n",
    "def f1_score_metrics(y_true, y_pred):\n",
    "    TP = tf.count_nonzero(y_pred * y_true)\n",
    "    TN = tf.count_nonzero((y_pred - 1) * (y_true - 1))\n",
    "    FP = tf.count_nonzero(y_pred * (y_true - 1))\n",
    "    FN = tf.count_nonzero((y_pred - 1) * y_true)\n",
    "    precision = TP / (TP + FP)\n",
    "    recall = TP / (TP + FN)\n",
    "    f1 = 2 * precision * recall / (precision + recall)\n",
    "    return f1\n"
   ]
  },
  {
   "cell_type": "code",
   "execution_count": 28,
   "metadata": {},
   "outputs": [],
   "source": [
    "from keras import backend as K\n",
    "\n",
    "def f1(y_true, y_pred):\n",
    "    def recall(y_true, y_pred):\n",
    "        true_positives = K.sum(K.round(K.clip(y_true * y_pred, 0, 1)))\n",
    "        possible_positives = K.sum(K.round(K.clip(y_true, 0, 1)))\n",
    "        recall = true_positives / (possible_positives + K.epsilon())\n",
    "        return recall\n",
    "\n",
    "    def precision(y_true, y_pred):\n",
    "        true_positives = K.sum(K.round(K.clip(y_true * y_pred, 0, 1)))\n",
    "        predicted_positives = K.sum(K.round(K.clip(y_pred, 0, 1)))\n",
    "        precision = true_positives / (predicted_positives + K.epsilon())\n",
    "        return precision\n",
    "    precision = precision(y_true, y_pred)\n",
    "    recall = recall(y_true, y_pred)\n",
    "    return 2*((precision*recall)/(precision+recall+K.epsilon()))\n"
   ]
  },
  {
   "cell_type": "code",
   "execution_count": 25,
   "metadata": {},
   "outputs": [],
   "source": [
    "from sklearn.metrics import precision_recall_fscore_support as score\n",
    "\n",
    "def f1_sklearn(y_true, y_pred):\n",
    "    _, _, fscore, _ = score(y_true, y_pred)\n",
    "    return fscore\n"
   ]
  },
  {
   "cell_type": "code",
   "execution_count": null,
   "metadata": {},
   "outputs": [],
   "source": [
    "import numpy as np\n",
    "from keras.callbacks import Callback\n",
    "from sklearn.metrics import confusion_matrix, f1_score, precision_score, recall_score\n",
    "\n",
    "class Metrics(Callback):\n",
    "    def on_train_begin(self, logs={}):\n",
    "        self.val_f1s = []\n",
    "        self.val_recalls = []\n",
    "        self.val_precisions = []\n",
    " \n",
    "    def on_epoch_end(self, epoch, logs={}):\n",
    "        val_predict = (np.asarray(self.model.predict(self.model.validation_data[0]))).round()\n",
    "        val_targ = self.model.validation_data[1]\n",
    "        _val_f1 = f1_score(val_targ, val_predict)\n",
    "        _val_recall = recall_score(val_targ, val_predict)\n",
    "        _val_precision = precision_score(val_targ, val_predict)\n",
    "        self.val_f1s.append(_val_f1)\n",
    "        self.val_recalls.append(_val_recall)\n",
    "        self.val_precisions.append(_val_precision)\n",
    "        print(\" — val_f1: %f — val_precision: %f — val_recall: %f\" %(_val_f1, _val_precision, _val_recall))\n",
    "        return\n",
    "\n",
    "metrics = Metrics()"
   ]
  },
  {
   "cell_type": "code",
   "execution_count": 30,
   "metadata": {},
   "outputs": [],
   "source": [
    "lr = 1e-3\n",
    "plot_interval = 1\n",
    "epochs = 25\n",
    "batch_size = 256\n",
    "\n",
    "sgd = SGD(lr=0.01, decay=1e-6, momentum=0.9)\n",
    "#adam = optimizers.Adam(lr=lr, decay=lr / epochs)\n",
    "model.compile(loss = 'binary_crossentropy', optimizer=sgd, metrics=[f1], loss_weights=[0.7])"
   ]
  },
  {
   "cell_type": "code",
   "execution_count": 31,
   "metadata": {},
   "outputs": [
    {
     "data": {
      "image/png": "[encoded data removed]",
      "text/plain": [
       "<matplotlib.figure.Figure at 0x1c23d0f978>"
      ]
     },
     "metadata": {},
     "output_type": "display_data"
    },
    {
     "name": "stdout",
     "output_type": "stream",
     "text": [
      "\n",
      "Epoch 00025: val_loss did not improve\n"
     ]
    },
    {
     "data": {
      "text/plain": [
       "<keras.callbacks.History at 0x1c2398e278>"
      ]
     },
     "execution_count": 31,
     "metadata": {},
     "output_type": "execute_result"
    }
   ],
   "source": [
    "checkpointer = ModelCheckpoint(filepath='Test2.weights.best.hdf5', verbose=1, save_best_only=True)\n",
    "plot_losses = PlotLosses(plot_interval=plot_interval, evaluate_interval=None, x_val=x_test, y_val_categorical=y_test)\n",
    "\n",
    "model.fit(x_train, \n",
    "          y_train,\n",
    "          epochs=epochs, \n",
    "          batch_size=batch_size, \n",
    "          #verbose=1, \n",
    "          validation_data=(x_test, y_test), \n",
    "          callbacks=[plot_losses, \n",
    "                     checkpointer],\n",
    "         )"
   ]
  },
  {
   "cell_type": "code",
   "execution_count": 32,
   "metadata": {},
   "outputs": [
    {
     "name": "stdout",
     "output_type": "stream",
     "text": [
      "loss:  0.11312416179887934\n",
      "accuracy:  0.328091633519304\n"
     ]
    }
   ],
   "source": [
    "model.load_weights('Test2.weights.best.hdf5')\n",
    "score = model.evaluate(x_val, y_val, verbose=0)\n",
    "print(\"loss: \", score[0])\n",
    "print(\"accuracy: \", score[1])"
   ]
  },
  {
   "cell_type": "code",
   "execution_count": 15,
   "metadata": {},
   "outputs": [],
   "source": [
    "x_names = []\n",
    "x = []\n",
    "y = []\n",
    "df = pd.read_csv('datasets/sample_submission.csv', index_col=0)\n",
    "for indice_fila in df.iterrows():\n",
    "    x_names.append(indice_fila[0])\n"
   ]
  },
  {
   "cell_type": "code",
   "execution_count": 16,
   "metadata": {},
   "outputs": [
    {
     "data": {
      "text/plain": [
       "'11700 / 11702'"
      ]
     },
     "metadata": {},
     "output_type": "display_data"
    },
    {
     "name": "stdout",
     "output_type": "stream",
     "text": [
      "FIN\n"
     ]
    }
   ],
   "source": [
    "x_sample_submission = get_image('test', x_names)"
   ]
  },
  {
   "cell_type": "code",
   "execution_count": 17,
   "metadata": {},
   "outputs": [],
   "source": [
    "def generate_csv(labels, data, name, limit=0.1):\n",
    "    ids = []\n",
    "    predicted = []\n",
    "    index = 0\n",
    "    for x_label in labels:\n",
    "        ids.append(x_label)\n",
    "        predicts = model.predict(data[index:index+1])\n",
    "        predict_index = 0\n",
    "        predict_label = \"\"\n",
    "        for predict in predicts[0]:\n",
    "            if(predict >= limit):\n",
    "                predict_label = predict_label + str(predict_index) + \" \"\n",
    "            predict_index = predict_index + 1\n",
    "        predicted.append(predict_label.strip())\n",
    "        index = index + 1\n",
    "    \n",
    "    d = {'Id': ids, 'Predicted': predicted}\n",
    "    df = pd.DataFrame(data=d)\n",
    "    df.to_csv('./' + name + '-' + str(limit) + '.csv', index=False)\n",
    "    "
   ]
  },
  {
   "cell_type": "code",
   "execution_count": 33,
   "metadata": {},
   "outputs": [
    {
     "data": {
      "text/plain": [
       "array([[0.30795434, 0.03099131, 0.16663504, 0.10642631, 0.10352517,\n",
       "        0.15357588, 0.01639196, 0.11429948, 0.00246165, 0.00191379,\n",
       "        0.0030194 , 0.02801343, 0.00928308, 0.01134987, 0.01234277,\n",
       "        0.00172634, 0.01388026, 0.00578812, 0.03204632, 0.06394819,\n",
       "        0.00666772, 0.02155918, 0.02597374, 0.07356549, 0.0135458 ,\n",
       "        0.04371748, 0.01198684, 0.00223886]], dtype=float32)"
      ]
     },
     "execution_count": 33,
     "metadata": {},
     "output_type": "execute_result"
    }
   ],
   "source": [
    "model.predict(x_sample_submission[0:1])"
   ]
  },
  {
   "cell_type": "code",
   "execution_count": 34,
   "metadata": {},
   "outputs": [],
   "source": [
    "generate_csv(x_names, x_sample_submission, 'result-test2', limit=0.11)"
   ]
  },
  {
   "cell_type": "code",
   "execution_count": 35,
   "metadata": {},
   "outputs": [],
   "source": [
    "generate_csv(x_names, x_sample_submission, 'result-test2', limit=0.1)"
   ]
  },
  {
   "cell_type": "code",
   "execution_count": 36,
   "metadata": {},
   "outputs": [],
   "source": [
    "generate_csv(x_names, x_sample_submission, 'result-test2', limit=0.09)"
   ]
  },
  {
   "cell_type": "code",
   "execution_count": 37,
   "metadata": {},
   "outputs": [],
   "source": [
    "generate_csv(x_names, x_sample_submission, 'result-test2', limit=0.08)"
   ]
  }
 ],
 "metadata": {
  "kernelspec": {
   "display_name": "Python 3",
   "language": "python",
   "name": "python3"
  },
  "language_info": {
   "codemirror_mode": {
    "name": "ipython",
    "version": 3
   },
   "file_extension": ".py",
   "mimetype": "text/x-python",
   "name": "python",
   "nbconvert_exporter": "python",
   "pygments_lexer": "ipython3",
   "version": "3.6.4"
  }
 },
 "nbformat": 4,
 "nbformat_minor": 2
}
