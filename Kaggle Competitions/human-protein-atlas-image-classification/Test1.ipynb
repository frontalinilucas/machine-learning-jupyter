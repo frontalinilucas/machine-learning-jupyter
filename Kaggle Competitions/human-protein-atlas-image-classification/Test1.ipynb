{
 "cells": [
  {
   "cell_type": "markdown",
   "metadata": {},
   "source": [
    "#### Human Protein Atlas Image Classification"
   ]
  },
  {
   "cell_type": "markdown",
   "metadata": {},
   "source": [
    "URL: https://www.kaggle.com/c/human-protein-atlas-image-classification"
   ]
  },
  {
   "cell_type": "code",
   "execution_count": 35,
   "metadata": {},
   "outputs": [],
   "source": [
    "import os\n",
    "import skimage\n",
    "import pandas as pd\n",
    "import numpy as np\n",
    "from skimage.transform import resize\n",
    "from PIL import Image\n",
    "from sklearn.preprocessing import MultiLabelBinarizer"
   ]
  },
  {
   "cell_type": "code",
   "execution_count": 36,
   "metadata": {},
   "outputs": [],
   "source": [
    "def get_x_y(type_dataset):\n",
    "    multilabel = MultiLabelBinarizer()\n",
    "    x_names = []\n",
    "    x = []\n",
    "    y = []\n",
    "    df = pd.read_csv('datasets/' + type_dataset + '.csv', index_col=0)\n",
    "    for indice_fila in df.iterrows():\n",
    "        x_names.append(indice_fila[0])\n",
    "        labels = (indice_fila[1]['Target']).split(\" \")\n",
    "        labels = [int(i) for i in labels]\n",
    "        y.append(labels)\n",
    "    \n",
    "    y_multilabel = multilabel.fit_transform(y)\n",
    "    for names in x_names:\n",
    "        path = './datasets/' + type_dataset + '/' + names\n",
    "    \n",
    "        img_blue = np.array(Image.open(path + '_blue.png'))\n",
    "        img_blue = np.asarray(skimage.transform.resize(img, (150, 150, 3)))\n",
    "        \n",
    "        img_green = np.array(Image.open(path + '_green.png'))\n",
    "        img_green = np.asarray(skimage.transform.resize(img, (150, 150, 3)))\n",
    "        \n",
    "        img_red = np.array(Image.open(path +'_red.png'))\n",
    "        img_red = np.asarray(skimage.transform.resize(img, (150, 150, 3)))\n",
    "        \n",
    "        img_yellow = np.array(Image.open(path + '_yellow.png'))\n",
    "        img_yellow = np.asarray(skimage.transform.resize(img, (150, 150, 3)))\n",
    "    \n",
    "        result = np.concatenate((img_blue, img_green, img_red, img_yellow), axis=2)\n",
    "        x.append(result)\n",
    "\n",
    "    x = np.array(x)\n",
    "    return x, y_multilabel\n"
   ]
  },
  {
   "cell_type": "code",
   "execution_count": 37,
   "metadata": {},
   "outputs": [
    {
     "name": "stdout",
     "output_type": "stream",
     "text": [
      "<class 'numpy.ndarray'>\n",
      "<class 'numpy.ndarray'>\n",
      "28\n"
     ]
    },
    {
     "name": "stderr",
     "output_type": "stream",
     "text": [
      "/anaconda3/lib/python3.6/site-packages/skimage/transform/_warps.py:84: UserWarning: The default mode, 'constant', will be changed to 'reflect' in skimage 0.15.\n",
      "  warn(\"The default mode, 'constant', will be changed to 'reflect' in \"\n"
     ]
    }
   ],
   "source": [
    "x_train, y_train = get_x_y('train')\n",
    "print(type(y_train))\n",
    "print(type(x_train))\n",
    "print(y_train.shape[1])"
   ]
  },
  {
   "cell_type": "code",
   "execution_count": null,
   "metadata": {},
   "outputs": [],
   "source": []
  },
  {
   "cell_type": "code",
   "execution_count": 30,
   "metadata": {},
   "outputs": [],
   "source": [
    "from keras.models import Sequential\n",
    "from keras.layers import Convolution2D\n",
    "from keras.layers.core import Dense, Dropout, Activation, Flatten\n",
    "from keras.layers.normalization import BatchNormalization\n",
    "from keras import optimizers"
   ]
  },
  {
   "cell_type": "code",
   "execution_count": 33,
   "metadata": {},
   "outputs": [
    {
     "name": "stdout",
     "output_type": "stream",
     "text": [
      "_________________________________________________________________\n",
      "Layer (type)                 Output Shape              Param #   \n",
      "=================================================================\n",
      "conv2d_4 (Conv2D)            (None, 150, 150, 6)       2598      \n",
      "_________________________________________________________________\n",
      "batch_normalization_5 (Batch (None, 150, 150, 6)       24        \n",
      "_________________________________________________________________\n",
      "activation_5 (Activation)    (None, 150, 150, 6)       0         \n",
      "_________________________________________________________________\n",
      "dropout_5 (Dropout)          (None, 150, 150, 6)       0         \n",
      "_________________________________________________________________\n",
      "conv2d_5 (Conv2D)            (None, 75, 75, 12)        1812      \n",
      "_________________________________________________________________\n",
      "batch_normalization_6 (Batch (None, 75, 75, 12)        48        \n",
      "_________________________________________________________________\n",
      "activation_6 (Activation)    (None, 75, 75, 12)        0         \n",
      "_________________________________________________________________\n",
      "dropout_6 (Dropout)          (None, 75, 75, 12)        0         \n",
      "_________________________________________________________________\n",
      "conv2d_6 (Conv2D)            (None, 38, 38, 24)        4632      \n",
      "_________________________________________________________________\n",
      "batch_normalization_7 (Batch (None, 38, 38, 24)        96        \n",
      "_________________________________________________________________\n",
      "activation_7 (Activation)    (None, 38, 38, 24)        0         \n",
      "_________________________________________________________________\n",
      "dropout_7 (Dropout)          (None, 38, 38, 24)        0         \n",
      "_________________________________________________________________\n",
      "flatten_2 (Flatten)          (None, 34656)             0         \n",
      "_________________________________________________________________\n",
      "dense_3 (Dense)              (None, 200)               6931400   \n",
      "_________________________________________________________________\n",
      "batch_normalization_8 (Batch (None, 200)               800       \n",
      "_________________________________________________________________\n",
      "activation_8 (Activation)    (None, 200)               0         \n",
      "_________________________________________________________________\n",
      "dropout_8 (Dropout)          (None, 200)               0         \n",
      "_________________________________________________________________\n",
      "dense_4 (Dense)              (None, 28)                5628      \n",
      "=================================================================\n",
      "Total params: 6,947,038\n",
      "Trainable params: 6,946,554\n",
      "Non-trainable params: 484\n",
      "_________________________________________________________________\n"
     ]
    }
   ],
   "source": [
    "dropout = 0.25\n",
    "output_size = y_multilabel.shape[1]\n",
    "\n",
    "model = Sequential()\n",
    "model.add(Convolution2D(filters=6, strides=1, kernel_size=6, padding='same',input_shape=(150,150,12)))\n",
    "model.add(BatchNormalization())\n",
    "model.add(Activation('relu'))\n",
    "model.add(Dropout(dropout))\n",
    "model.add(Convolution2D(filters=12, strides=2, kernel_size=5, padding='same'))\n",
    "model.add(BatchNormalization())\n",
    "model.add(Activation('relu'))\n",
    "model.add(Dropout(dropout))\n",
    "model.add(Convolution2D(filters=24, strides=2, kernel_size=4, padding='same'))\n",
    "model.add(BatchNormalization())\n",
    "model.add(Activation('relu'))\n",
    "model.add(Dropout(dropout))\n",
    "model.add(Flatten())\n",
    "model.add(Dense(200))\n",
    "model.add(BatchNormalization())\n",
    "model.add(Activation('sigmoid'))\n",
    "model.add(Dropout(dropout))\n",
    "model.add(Dense(output_size, activation='sigmoid'))\n",
    "model.summary()"
   ]
  },
  {
   "cell_type": "code",
   "execution_count": null,
   "metadata": {},
   "outputs": [],
   "source": [
    "lr = 0.001\n",
    "plot_interval = 1\n",
    "epochs = 80\n",
    "batch_size = 512\n",
    "\n",
    "adam = optimizers.Adam(lr=lr)\n",
    "model.compile(loss = 'binary_crossentropy', optimizer=adam, metrics=['accuracy'])"
   ]
  },
  {
   "cell_type": "code",
   "execution_count": null,
   "metadata": {},
   "outputs": [],
   "source": [
    "checkpointer = ModelCheckpoint(filepath='Test1.weights.best.hdf5', verbose=1, save_best_only=True)\n",
    "plot_losses = PlotLosses(plot_interval=plot_interval, evaluate_interval=None, x_val=x_test, y_val_categorical=y_test)\n",
    "\n",
    "model.fit(x_train, \n",
    "          y_train,\n",
    "          epochs=epochs, \n",
    "          batch_size=batch_size, \n",
    "          #verbose=1, \n",
    "          validation_data=(x_test, y_test), \n",
    "          callbacks=[plot_losses, \n",
    "                     checkpointer],\n",
    "         )"
   ]
  },
  {
   "cell_type": "code",
   "execution_count": null,
   "metadata": {},
   "outputs": [],
   "source": [
    "model.load_weights('Test1.weights.best.hdf5')\n",
    "score = model.evaluate(x_val, y_val, verbose=0)\n",
    "print(\"loss: \", score[0])\n",
    "print(\"accuracy: \", score[1])"
   ]
  },
  {
   "cell_type": "code",
   "execution_count": null,
   "metadata": {},
   "outputs": [],
   "source": [
    "model.load_weights('Test1.weights.best.hdf5')\n",
    "plot_confusion_matrix(model.predict_classes(x_val), y_val)"
   ]
  }
 ],
 "metadata": {
  "kernelspec": {
   "display_name": "Python 3",
   "language": "python",
   "name": "python3"
  },
  "language_info": {
   "codemirror_mode": {
    "name": "ipython",
    "version": 3
   },
   "file_extension": ".py",
   "mimetype": "text/x-python",
   "name": "python",
   "nbconvert_exporter": "python",
   "pygments_lexer": "ipython3",
   "version": "3.6.4"
  }
 },
 "nbformat": 4,
 "nbformat_minor": 2
}
