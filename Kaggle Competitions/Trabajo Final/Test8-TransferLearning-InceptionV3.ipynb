{
 "cells": [
  {
   "cell_type": "markdown",
   "metadata": {},
   "source": [
    "#### Chest X-Ray Images (Pneumonia)"
   ]
  },
  {
   "cell_type": "markdown",
   "metadata": {},
   "source": [
    "URL: https://www.kaggle.com/paultimothymooney/chest-xray-pneumonia"
   ]
  },
  {
   "cell_type": "code",
   "execution_count": 1,
   "metadata": {},
   "outputs": [
    {
     "name": "stderr",
     "output_type": "stream",
     "text": [
      "/anaconda3/lib/python3.6/site-packages/h5py/__init__.py:36: FutureWarning: Conversion of the second argument of issubdtype from `float` to `np.floating` is deprecated. In future, it will be treated as `np.float64 == np.dtype(float).type`.\n",
      "  from ._conv import register_converters as _register_converters\n",
      "Using TensorFlow backend.\n"
     ]
    }
   ],
   "source": [
    "import os\n",
    "import skimage\n",
    "import numpy as np\n",
    "from skimage.transform import resize\n",
    "from PIL import Image\n",
    "from keras.utils import to_categorical"
   ]
  },
  {
   "cell_type": "code",
   "execution_count": 2,
   "metadata": {},
   "outputs": [],
   "source": [
    "def get_x_y(type_dataset, type_label):\n",
    "    x = []\n",
    "    path = './datasets/' + type_dataset + \"/\" + type_label + \"/\"\n",
    "    files = os.listdir(path)\n",
    "    for file in files:\n",
    "        if os.path.splitext(path + file)[1] == '.jpeg':\n",
    "            img = np.array(Image.open(path + file))\n",
    "            img = np.asarray(skimage.transform.resize(img, (150, 150, 3)))\n",
    "            x.append(img)\n",
    "    x = np.asarray(x)\n",
    "    y = np.zeros(x.shape[0]) if type_label == 'NORMAL' else np.ones(x.shape[0])\n",
    "    return x, y\n"
   ]
  },
  {
   "cell_type": "code",
   "execution_count": 3,
   "metadata": {},
   "outputs": [],
   "source": [
    "def get_shuffled_x_y(type_dataset):\n",
    "    train_normal_x, train_normal_y = get_x_y(type_dataset, 'NORMAL')\n",
    "    train_pneumonia_x, train_pneumonia_y = get_x_y(type_dataset, 'PNEUMONIA')\n",
    "    x = np.concatenate([train_normal_x, train_pneumonia_x])\n",
    "    y = to_categorical(np.concatenate([train_normal_y, train_pneumonia_y]))\n",
    "    shuffle = np.arange(x.shape[0])\n",
    "    np.random.shuffle(shuffle)\n",
    "    x = x[shuffle]\n",
    "    y = y[shuffle]\n",
    "    return x, y\n"
   ]
  },
  {
   "cell_type": "code",
   "execution_count": 4,
   "metadata": {},
   "outputs": [],
   "source": [
    "import seaborn as sn\n",
    "import pandas as pd\n",
    "import matplotlib.pyplot as plt\n",
    "\n",
    "def inverse_to_categorical(val):\n",
    "    return np.argmax(val, axis=None, out=None)\n",
    "\n",
    "def plot_confusion_matrix(predict_values, real_values):\n",
    "    matrix = np.zeros([2, 2])\n",
    "    for i in range(predict_values.shape[0]):\n",
    "        true_y = inverse_to_categorical(real_values[i])\n",
    "        predict_y = predict_values[i]\n",
    "        matrix[true_y][predict_y] = matrix[true_y][predict_y] + 1\n",
    "    \n",
    "    df_cm = pd.DataFrame(matrix, range(2), range(2))\n",
    "    sn.set(font_scale=1.4)\n",
    "    sn.heatmap(df_cm, annot=True, annot_kws={\"size\": 15}, cmap=\"Blues\", linewidths=0.1, linecolor='Black', square=True)\n",
    "    plt.ylabel('True label')\n",
    "    plt.xlabel('Predicted label')\n",
    "    print(matrix)\n"
   ]
  },
  {
   "cell_type": "code",
   "execution_count": 5,
   "metadata": {},
   "outputs": [],
   "source": [
    "from keras.models import Sequential\n",
    "from keras.layers import Convolution2D, GlobalAveragePooling2D\n",
    "from keras.layers.core import Dense, Dropout, Activation, Flatten\n",
    "from keras.layers.normalization import BatchNormalization\n",
    "from keras import optimizers\n",
    "from keras.callbacks import ModelCheckpoint\n",
    "from keras import regularizers\n",
    "import keras\n",
    "\n",
    "import sys\n",
    "sys.path.insert(0, '../../Utils')\n",
    "from fnn_helper import PlotLosses"
   ]
  },
  {
   "cell_type": "code",
   "execution_count": 6,
   "metadata": {},
   "outputs": [
    {
     "name": "stderr",
     "output_type": "stream",
     "text": [
      "/anaconda3/lib/python3.6/site-packages/skimage/transform/_warps.py:84: UserWarning: The default mode, 'constant', will be changed to 'reflect' in skimage 0.15.\n",
      "  warn(\"The default mode, 'constant', will be changed to 'reflect' in \"\n"
     ]
    }
   ],
   "source": [
    "x_train, y_train = get_shuffled_x_y('train')"
   ]
  },
  {
   "cell_type": "code",
   "execution_count": 7,
   "metadata": {},
   "outputs": [
    {
     "name": "stderr",
     "output_type": "stream",
     "text": [
      "/anaconda3/lib/python3.6/site-packages/skimage/transform/_warps.py:84: UserWarning: The default mode, 'constant', will be changed to 'reflect' in skimage 0.15.\n",
      "  warn(\"The default mode, 'constant', will be changed to 'reflect' in \"\n"
     ]
    }
   ],
   "source": [
    "x_test, y_test = get_shuffled_x_y('test')"
   ]
  },
  {
   "cell_type": "code",
   "execution_count": 8,
   "metadata": {},
   "outputs": [
    {
     "name": "stderr",
     "output_type": "stream",
     "text": [
      "/anaconda3/lib/python3.6/site-packages/skimage/transform/_warps.py:84: UserWarning: The default mode, 'constant', will be changed to 'reflect' in skimage 0.15.\n",
      "  warn(\"The default mode, 'constant', will be changed to 'reflect' in \"\n"
     ]
    }
   ],
   "source": [
    "x_val, y_val = get_shuffled_x_y('val')"
   ]
  },
  {
   "cell_type": "code",
   "execution_count": 9,
   "metadata": {},
   "outputs": [
    {
     "name": "stdout",
     "output_type": "stream",
     "text": [
      "(4100, 150, 150, 3)\n",
      "(4100, 2)\n"
     ]
    }
   ],
   "source": [
    "print(x_train.shape)\n",
    "print(y_train.shape)"
   ]
  },
  {
   "cell_type": "code",
   "execution_count": 10,
   "metadata": {},
   "outputs": [],
   "source": [
    "# create the base pre-trained model\n",
    "base_model = keras.applications.inception_v3.InceptionV3(weights='imagenet', input_shape=(150, 150, 3))\n",
    "for x in range(0, 151):\n",
    "    base_model.layers[x].trainable = False"
   ]
  },
  {
   "cell_type": "code",
   "execution_count": 11,
   "metadata": {},
   "outputs": [],
   "source": [
    "add_model = Sequential()\n",
    "add_model.add(base_model)\n",
    "add_model.add(Dropout(0.5))\n",
    "add_model.add(Dense(2, activation='softmax'))"
   ]
  },
  {
   "cell_type": "code",
   "execution_count": 12,
   "metadata": {},
   "outputs": [
    {
     "name": "stdout",
     "output_type": "stream",
     "text": [
      "_________________________________________________________________\n",
      "Layer (type)                 Output Shape              Param #   \n",
      "=================================================================\n",
      "inception_v3 (Model)         (None, 1000)              23851784  \n",
      "_________________________________________________________________\n",
      "dropout_1 (Dropout)          (None, 1000)              0         \n",
      "_________________________________________________________________\n",
      "dense_1 (Dense)              (None, 2)                 2002      \n",
      "=================================================================\n",
      "Total params: 23,853,786\n",
      "Trainable params: 19,417,978\n",
      "Non-trainable params: 4,435,808\n",
      "_________________________________________________________________\n"
     ]
    }
   ],
   "source": [
    "lr = 0.0001\n",
    "plot_interval = 1\n",
    "epochs = 40\n",
    "batch_size = 1024\n",
    "\n",
    "model = add_model\n",
    "adam = optimizers.Adam(lr=lr)\n",
    "model.compile(loss = 'categorical_crossentropy', optimizer=adam, metrics=['accuracy'])\n",
    "model.summary()"
   ]
  },
  {
   "cell_type": "code",
   "execution_count": 13,
   "metadata": {},
   "outputs": [
    {
     "data": {
      "image/png": "[encoded data removed]",
      "text/plain": [
       "<matplotlib.figure.Figure at 0x1c3b1fa320>"
      ]
     },
     "metadata": {},
     "output_type": "display_data"
    },
    {
     "name": "stdout",
     "output_type": "stream",
     "text": [
      "\n",
      "Epoch 00040: val_loss improved from 0.65116 to 0.65036, saving model to Test8-TransferLearning-InceptionV3.weights.best.hdf5\n"
     ]
    },
    {
     "data": {
      "text/plain": [
       "<keras.callbacks.History at 0x1c319b41d0>"
      ]
     },
     "execution_count": 13,
     "metadata": {},
     "output_type": "execute_result"
    }
   ],
   "source": [
    "checkpointer = ModelCheckpoint(filepath='Test8-TransferLearning-InceptionV3.weights.best.hdf5', verbose=1, save_best_only=True)\n",
    "plot_losses = PlotLosses(plot_interval=plot_interval, evaluate_interval=None, x_val=x_test, y_val_categorical=y_test)\n",
    "\n",
    "model.fit(x_train, \n",
    "          y_train,\n",
    "          epochs=epochs, \n",
    "          batch_size=batch_size, \n",
    "          #verbose=1, \n",
    "          validation_data=(x_test, y_test), \n",
    "          callbacks=[plot_losses, \n",
    "                     checkpointer],\n",
    "         )"
   ]
  },
  {
   "cell_type": "code",
   "execution_count": 14,
   "metadata": {},
   "outputs": [
    {
     "name": "stdout",
     "output_type": "stream",
     "text": [
      "loss:  0.6478625519672124\n",
      "accuracy:  0.7380410018705833\n"
     ]
    }
   ],
   "source": [
    "model.load_weights('Test8-TransferLearning-InceptionV3.weights.best.hdf5')\n",
    "score = model.evaluate(x_val, y_val, verbose=0)\n",
    "print(\"loss: \", score[0])\n",
    "print(\"accuracy: \", score[1])"
   ]
  },
  {
   "cell_type": "code",
   "execution_count": 15,
   "metadata": {},
   "outputs": [
    {
     "name": "stdout",
     "output_type": "stream",
     "text": [
      "[[  8. 229.]\n",
      " [  1. 640.]]\n"
     ]
    },
    {
     "data": {
      "image/png": "[encoded data removed]",
      "text/plain": [
       "<matplotlib.figure.Figure at 0x1c31993240>"
      ]
     },
     "metadata": {},
     "output_type": "display_data"
    }
   ],
   "source": [
    "model.load_weights('Test8-TransferLearning-InceptionV3.weights.best.hdf5')\n",
    "plot_confusion_matrix(model.predict_classes(x_val), y_val)"
   ]
  }
 ],
 "metadata": {
  "kernelspec": {
   "display_name": "Python 3",
   "language": "python",
   "name": "python3"
  },
  "language_info": {
   "codemirror_mode": {
    "name": "ipython",
    "version": 3
   },
   "file_extension": ".py",
   "mimetype": "text/x-python",
   "name": "python",
   "nbconvert_exporter": "python",
   "pygments_lexer": "ipython3",
   "version": "3.6.4"
  }
 },
 "nbformat": 4,
 "nbformat_minor": 2
}
