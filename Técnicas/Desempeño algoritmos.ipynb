{
 "cells": [
  {
   "cell_type": "markdown",
   "metadata": {},
   "source": [
    "## Desempeño de algoritmos"
   ]
  },
  {
   "cell_type": "markdown",
   "metadata": {},
   "source": [
    "#### Matriz de confusión (Confusion matrix):\n",
    "Cada columna de la matriz representa el número de predicciones de cada clase, mientras que cada fila representa a las instancias en la clase real. Uno de los beneficios de las matrices de confusión es que facilitan ver si el sistema está confundiendo dos clases."
   ]
  },
  {
   "cell_type": "markdown",
   "metadata": {},
   "source": [
    "<img src=\"../Imagenes/confusion_matrix.png\" alt=\"confusion_matrix\" width=\"550\"/>"
   ]
  },
  {
   "cell_type": "markdown",
   "metadata": {},
   "source": [
    "---\n",
    "#### Sensitivity (Recall - True Positive Rate - Probability Of Detection):\n",
    "La sensibilidad mide la proporción de positivos reales que se identifican correctamente como tales (por ejemplo, el porcentaje de personas enfermas, que realmente están identificadas como enfermas).\n",
    "\n",
    "<img src=\"../Imagenes/sensitivity.png\" alt=\"Sensitivity\" width=\"550\"/>"
   ]
  },
  {
   "cell_type": "markdown",
   "metadata": {},
   "source": [
    "---\n",
    "#### Specificity (True Negative Rate):\n",
    "La especificidad mide la proporción de negativos reales que se identifican correctamente como tales (por ejemplo, el porcentaje de personas sanas, que realmente están identificadas como sanas).\n",
    "\n",
    "<img src=\"../Imagenes/specificity.png\" alt=\"Specificity\" width=\"550\"/>"
   ]
  },
  {
   "cell_type": "markdown",
   "metadata": {},
   "source": [
    "---\n",
    "#### False Positive Rate ($\\alpha$):\n",
    "\n",
    "La tasa de falsos positivos mide la proporción de negativos reales que se identifican erroneamente como positivos (por ejemplo, el porcentaje de personas enfermas, que realmente están identificadas como sanas).\n",
    "\n",
    "<img src=\"../Imagenes/false_positive.png\" alt=\"False_positive\" width=\"550\"/>"
   ]
  },
  {
   "cell_type": "markdown",
   "metadata": {},
   "source": [
    "---\n",
    "#### False Negative Rate ($\\beta$):\n",
    "La tasa de falsos negativos mide la proporción de positivos reales que se identifican erroneamente como negativos (por ejemplo, el porcentaje de personas sanas, que realmente están identificadas como enfermas).\n",
    "\n",
    "<img src=\"../Imagenes/false_negative.png\" alt=\"False_negative\" width=\"550\"/>"
   ]
  },
  {
   "cell_type": "markdown",
   "metadata": {},
   "source": [
    "---\n",
    "#### Accuracy (Exactitud):\n",
    "La exactitud mide la proporción de aciertos (tanto positivos, como negativos), en el total de las muestras (por ejemplo, el porcentaje de personas enfermas, que realmente están identificadas como enfermas + el porcentaje de personas sanas, que realmente están identificadas como sanas)\n",
    "\n",
    "<img src=\"../Imagenes/accuracy.png\" alt=\"Accuracy\" width=\"550\"/>"
   ]
  }
 ],
 "metadata": {
  "kernelspec": {
   "display_name": "Python 3",
   "language": "python",
   "name": "python3"
  },
  "language_info": {
   "codemirror_mode": {
    "name": "ipython",
    "version": 3
   },
   "file_extension": ".py",
   "mimetype": "text/x-python",
   "name": "python",
   "nbconvert_exporter": "python",
   "pygments_lexer": "ipython3",
   "version": "3.6.4"
  }
 },
 "nbformat": 4,
 "nbformat_minor": 2
}
