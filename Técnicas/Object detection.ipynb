{
 "cells": [
  {
   "cell_type": "markdown",
   "metadata": {},
   "source": [
    "# Detección de Objetos"
   ]
  },
  {
   "cell_type": "markdown",
   "metadata": {},
   "source": [
    "**SSD**: Single Shot Detection  \n",
    "**YOLO**: You Only Look Once"
   ]
  },
  {
   "cell_type": "markdown",
   "metadata": {},
   "source": [
    "Aplicaciones:\n",
    "- Self Driven car entre otras. \n",
    "Necesita precisión y velocidad (video)"
   ]
  },
  {
   "cell_type": "markdown",
   "metadata": {},
   "source": [
    "## Localización de objetos"
   ]
  },
  {
   "cell_type": "markdown",
   "metadata": {},
   "source": [
    "![idea-basica-obj-loc](../Imagenes/object-detection1.png)"
   ]
  },
  {
   "cell_type": "markdown",
   "metadata": {},
   "source": [
    "Si por ejemplo tenemos 3 clases:\n",
    "- Auto\n",
    "- Peaton\n",
    "- Moto\n",
    "\n",
    "Se define un vector de 8:\n",
    "- $P_c$: Hay o no objeto\n",
    "- $b_x$: Posición central del objeto X\n",
    "- $b_y$: Posición central del objeto Y\n",
    "- $b_h$: Alto\n",
    "- $b_w$: Ancho\n",
    "- $c_1$: Auto\n",
    "- $c_2$: Peaton\n",
    "- $c_3$: Moto"
   ]
  },
  {
   "cell_type": "markdown",
   "metadata": {},
   "source": [
    "Como es la función de costo?"
   ]
  },
  {
   "cell_type": "markdown",
   "metadata": {},
   "source": [
    "![loss-func-obj-dect](../Imagenes/object-detection2.png)"
   ]
  },
  {
   "cell_type": "markdown",
   "metadata": {},
   "source": [
    "![loss-eq-obj-dect](../Imagenes/object-detection3.png)"
   ]
  },
  {
   "cell_type": "markdown",
   "metadata": {},
   "source": [
    "Huber loss: Similar a MSE pero lineal para valores grandes\n",
    "![](../Imagenes/object-detection4.png)"
   ]
  },
  {
   "cell_type": "markdown",
   "metadata": {},
   "source": [
    "## Landmark detection:\n",
    "Con las mismas técnicas de localización detectar por ejemplo puntos especificos en una cara, posiciones de personas, etc"
   ]
  },
  {
   "cell_type": "markdown",
   "metadata": {},
   "source": [
    "## Detección de Objetos"
   ]
  },
  {
   "cell_type": "markdown",
   "metadata": {},
   "source": [
    "![](../Imagenes/object-detection5.png)"
   ]
  },
  {
   "cell_type": "markdown",
   "metadata": {},
   "source": [
    "---\n",
    "## Algoritmo de Sliding Window"
   ]
  },
  {
   "cell_type": "code",
   "execution_count": 1,
   "metadata": {},
   "outputs": [
    {
     "name": "stderr",
     "output_type": "stream",
     "text": [
      "/anaconda3/lib/python3.6/site-packages/h5py/__init__.py:36: FutureWarning: Conversion of the second argument of issubdtype from `float` to `np.floating` is deprecated. In future, it will be treated as `np.float64 == np.dtype(float).type`.\n",
      "  from ._conv import register_converters as _register_converters\n",
      "Using TensorFlow backend.\n"
     ]
    },
    {
     "name": "stdout",
     "output_type": "stream",
     "text": [
      "_________________________________________________________________\n",
      "Layer (type)                 Output Shape              Param #   \n",
      "=================================================================\n",
      "dense_1 (Dense)              (None, 100)               2600      \n",
      "=================================================================\n",
      "Total params: 2,600\n",
      "Trainable params: 2,600\n",
      "Non-trainable params: 0\n",
      "_________________________________________________________________\n"
     ]
    }
   ],
   "source": [
    "from keras.models import Sequential\n",
    "from keras.layers import Dense, Convolution2D, MaxPooling2D\n",
    "model_dense = Sequential()\n",
    "model_dense.add(Dense(100, input_shape=(25,)))\n",
    "model_dense.summary()"
   ]
  },
  {
   "cell_type": "code",
   "execution_count": 2,
   "metadata": {},
   "outputs": [
    {
     "name": "stdout",
     "output_type": "stream",
     "text": [
      "_________________________________________________________________\n",
      "Layer (type)                 Output Shape              Param #   \n",
      "=================================================================\n",
      "conv2d_1 (Conv2D)            (None, 1, 1, 100)         2600      \n",
      "=================================================================\n",
      "Total params: 2,600\n",
      "Trainable params: 2,600\n",
      "Non-trainable params: 0\n",
      "_________________________________________________________________\n"
     ]
    }
   ],
   "source": [
    "model_slide = Sequential()\n",
    "model_slide.add(Convolution2D(filters= 100, kernel_size=5, input_shape=(5,5,1)))\n",
    "model_slide.summary()"
   ]
  },
  {
   "cell_type": "markdown",
   "metadata": {},
   "source": [
    "![](../Imagenes/object-detection6.png)"
   ]
  },
  {
   "cell_type": "code",
   "execution_count": 7,
   "metadata": {},
   "outputs": [
    {
     "name": "stdout",
     "output_type": "stream",
     "text": [
      "_________________________________________________________________\n",
      "Layer (type)                 Output Shape              Param #   \n",
      "=================================================================\n",
      "conv2d_14 (Conv2D)           (None, 10, 10, 16)        1216      \n",
      "_________________________________________________________________\n",
      "max_pooling2d_2 (MaxPooling2 (None, 5, 5, 16)          0         \n",
      "_________________________________________________________________\n",
      "conv2d_15 (Conv2D)           (None, 1, 1, 400)         160400    \n",
      "_________________________________________________________________\n",
      "conv2d_16 (Conv2D)           (None, 1, 1, 400)         160400    \n",
      "=================================================================\n",
      "Total params: 322,016\n",
      "Trainable params: 322,016\n",
      "Non-trainable params: 0\n",
      "_________________________________________________________________\n"
     ]
    }
   ],
   "source": [
    "model_image = Sequential()\n",
    "model_image.add(Convolution2D(filters= 16, kernel_size=5, input_shape=(14,14,3)))\n",
    "model_image.add(MaxPooling2D(2))\n",
    "model_image.add(Convolution2D(filters= 400, kernel_size=5))\n",
    "model_image.add(Convolution2D(filters= 400, kernel_size=1))\n",
    "model_image.summary()"
   ]
  },
  {
   "cell_type": "markdown",
   "metadata": {},
   "source": [
    "## Yolo\n",
    "Combinación entre Sliding Window con convolución + Localización de objetos\n",
    "\n",
    "Se divide la imagen en una grilla y se aplica la localización a cada celda de la grilla. El barrido  de la grilla se realiza con una convolucional.\n",
    "\n",
    "Y se agregan las siguientes tecnicas:"
   ]
  },
  {
   "cell_type": "markdown",
   "metadata": {},
   "source": [
    "### IoU (Indice de Jaccard)"
   ]
  },
  {
   "cell_type": "markdown",
   "metadata": {},
   "source": [
    "- Para evaluar performance del algoritmo\n",
    "- Para decidir que detección sobrevive en el algoritmo de max-supression"
   ]
  },
  {
   "cell_type": "markdown",
   "metadata": {},
   "source": [
    "## Max-supression\n",
    "Elimina las multiples detecciones\n",
    "- Mira el $P_c$' mas alto y lo toma como valido\n",
    "- Luego elimina todas las detecciones que se superponen significativamente con la del mayor $P_c$ y las elimina\n"
   ]
  },
  {
   "cell_type": "markdown",
   "metadata": {},
   "source": [
    "![](../Imagenes/object-detection7.png)"
   ]
  },
  {
   "cell_type": "markdown",
   "metadata": {},
   "source": [
    "### Anchor boxes"
   ]
  },
  {
   "cell_type": "markdown",
   "metadata": {},
   "source": [
    "![](../Imagenes/object-detection8.png)"
   ]
  }
 ],
 "metadata": {
  "kernelspec": {
   "display_name": "Python 3",
   "language": "python",
   "name": "python3"
  },
  "language_info": {
   "codemirror_mode": {
    "name": "ipython",
    "version": 3
   },
   "file_extension": ".py",
   "mimetype": "text/x-python",
   "name": "python",
   "nbconvert_exporter": "python",
   "pygments_lexer": "ipython3",
   "version": "3.6.4"
  }
 },
 "nbformat": 4,
 "nbformat_minor": 2
}
