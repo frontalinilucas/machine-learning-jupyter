{
 "cells": [
  {
   "cell_type": "markdown",
   "metadata": {},
   "source": [
    "# Random Projections\n",
    "Es una técnica utilizada para reducir la dimensionalidad de un conjunto de puntos que se encuentran en el espacio euclidiano. Los métodos de proyección aleatoria son métodos potentes conocidos por su simplicidad y resultados menos erróneos en comparación con otros métodos. De acuerdo con los resultados experimentales, la proyección aleatoria preserva bien las distancias, pero los resultados empíricos son escasos."
   ]
  },
  {
   "cell_type": "code",
   "execution_count": 55,
   "metadata": {},
   "outputs": [],
   "source": [
    "import numpy as np\n",
    "import random\n",
    "import matplotlib.pyplot as plot\n",
    "import math"
   ]
  },
  {
   "cell_type": "code",
   "execution_count": 56,
   "metadata": {},
   "outputs": [],
   "source": [
    "from sklearn.model_selection import train_test_split\n",
    "from sklearn import random_projection"
   ]
  },
  {
   "cell_type": "code",
   "execution_count": 57,
   "metadata": {},
   "outputs": [],
   "source": [
    "data = np.genfromtxt(fname='../../datasets/cancer.txt', delimiter=',')\n",
    "data = np.delete(data, np.s_[0], axis=1)\n",
    "data = data[~np.isnan(data).any(axis=1)] #Eliminamos los nan\n",
    "\n",
    "labels = data[:, -1]\n",
    "features = data[:, :-1]\n",
    "\n",
    "X_train, X_valid, Y_train, Y_valid = train_test_split(features, labels, test_size = 0.1)"
   ]
  },
  {
   "cell_type": "code",
   "execution_count": 58,
   "metadata": {},
   "outputs": [],
   "source": [
    "#Preprocesamiento de datos\n",
    "X_train = np.concatenate((X_train, X_train), axis=0)\n",
    "X_train = np.concatenate((X_train, X_train), axis=0)\n",
    "X_train = np.concatenate((X_train, X_train), axis=0)\n",
    "X_train = np.concatenate((X_train, X_train), axis=0)\n",
    "X_train = np.concatenate((X_train, X_train), axis=0)\n",
    "\n",
    "X_train = X_train.transpose()"
   ]
  },
  {
   "cell_type": "code",
   "execution_count": 59,
   "metadata": {},
   "outputs": [
    {
     "name": "stdout",
     "output_type": "stream",
     "text": [
      "[[ 1.  5.  8. ...  8.  4.  4.]\n",
      " [ 1.  8. 10. ...  8.  1.  2.]\n",
      " [ 1.  8.  8. ...  7.  3.  1.]\n",
      " ...\n",
      " [ 1.  8.  7. ...  7.  2.  1.]\n",
      " [ 1. 10.  7. ...  8.  1.  1.]\n",
      " [ 1.  3.  1. ...  7.  1.  1.]]\n",
      "(9, 19648)\n"
     ]
    }
   ],
   "source": [
    "print(X_train)\n",
    "print(X_train.shape)"
   ]
  },
  {
   "cell_type": "markdown",
   "metadata": {},
   "source": [
    "### 1. Gaussian random projection\n",
    "Reduce la dimensionalidad al proyectar el espacio de entrada original, en una matriz generada aleatoriamente donde los componentes se extraen de una distribución Gausiana."
   ]
  },
  {
   "cell_type": "code",
   "execution_count": 61,
   "metadata": {},
   "outputs": [
    {
     "name": "stdout",
     "output_type": "stream",
     "text": [
      "[[ 15.19183096 -10.16414927 -17.44909937 ...  19.65384016  15.06068732\n",
      "    2.61785873]\n",
      " [ -5.3367115   -6.96024007  -3.00135264 ...  19.31847843   8.62332117\n",
      "   17.09704725]\n",
      " [ -1.21132274  -6.61948234  -0.65136157 ...  21.80617776   5.84355229\n",
      "   14.28034118]\n",
      " ...\n",
      " [ -1.63565767 -10.19289235  -5.5159568  ...  21.75301588   8.06806928\n",
      "   11.24590236]\n",
      " [ -0.9106085  -10.53912188  -3.13063048 ...  20.15322357  -0.31472641\n",
      "    9.276318  ]\n",
      " [  1.83862368  -9.48524673   7.59671268 ...  13.21339553   3.44819347\n",
      "    0.7366958 ]]\n",
      "(9, 1883)\n"
     ]
    }
   ],
   "source": [
    "from sklearn import random_projection\n",
    "\n",
    "transformer = random_projection.GaussianRandomProjection()\n",
    "X_train_grp = transformer.fit_transform(X_train)\n",
    "\n",
    "print(X_train_grp)\n",
    "print(X_train_grp.shape)"
   ]
  },
  {
   "cell_type": "markdown",
   "metadata": {},
   "source": [
    "### 2. Sparse random projection\n",
    "Reduce la dimensionalidad al proyectar el espacio de entrada original, utilizando una matriz aleatoria dispersa.\n",
    "<br>Las matrices aleatorias dispersas garantizan una calidad de inclusión similar a la Gausiana y a su vez que son mucho más eficientes en cuanto a la memoria y permiten un cálculo más rápido de los datos proyectados."
   ]
  },
  {
   "cell_type": "code",
   "execution_count": 62,
   "metadata": {},
   "outputs": [
    {
     "name": "stdout",
     "output_type": "stream",
     "text": [
      "[[ 2.72837730e-01  2.72837730e+00  2.10085052e+01 ...  3.16491767e+01\n",
      "  -1.33226763e-15 -2.86479616e+01]\n",
      " [-1.55517506e+01 -1.90986411e+00  1.96443166e+01 ...  1.58245883e+01\n",
      "   6.54810552e+00 -1.17320224e+01]\n",
      " [-1.30962110e+01 -6.00243006e+00  2.04628297e+01 ...  1.69159393e+01\n",
      "  -5.18391687e+00 -1.88258034e+01]\n",
      " ...\n",
      " [-2.45553957e+00 -1.36418865e+00  1.69159393e+01 ...  2.37368825e+01\n",
      "   2.45553957e+00 -1.93714788e+01]\n",
      " [-1.60974261e+01 -6.82094325e+00  1.63702638e+01 ...  1.20048601e+01\n",
      "   5.45675460e+00 -2.45553957e+01]\n",
      " [ 3.54689049e+00  6.54810552e+00  1.22776978e+01 ...  8.73080736e+00\n",
      "   1.63702638e+00 -1.44603997e+01]]\n",
      "(9, 1883)\n"
     ]
    }
   ],
   "source": [
    "from sklearn import random_projection\n",
    "\n",
    "transformer = random_projection.SparseRandomProjection()\n",
    "X_train_srp = transformer.fit_transform(X_train)\n",
    "\n",
    "print(X_train_srp)\n",
    "print(X_train_srp.shape)"
   ]
  }
 ],
 "metadata": {
  "kernelspec": {
   "display_name": "Python 3",
   "language": "python",
   "name": "python3"
  },
  "language_info": {
   "codemirror_mode": {
    "name": "ipython",
    "version": 3
   },
   "file_extension": ".py",
   "mimetype": "text/x-python",
   "name": "python",
   "nbconvert_exporter": "python",
   "pygments_lexer": "ipython3",
   "version": "3.6.4"
  }
 },
 "nbformat": 4,
 "nbformat_minor": 2
}
