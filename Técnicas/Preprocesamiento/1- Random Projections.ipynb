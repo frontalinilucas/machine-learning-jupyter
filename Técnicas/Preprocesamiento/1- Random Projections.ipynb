{
 "cells": [
  {
   "cell_type": "markdown",
   "metadata": {},
   "source": [
    "# Random Projections\n",
    "Es una técnica utilizada para reducir la dimensionalidad de un conjunto de puntos que se encuentran en el espacio euclidiano. Los métodos de proyección aleatoria son métodos potentes conocidos por su simplicidad y resultados menos erróneos en comparación con otros métodos. De acuerdo con los resultados experimentales, la proyección aleatoria preserva bien las distancias, pero los resultados empíricos son escasos."
   ]
  },
  {
   "cell_type": "code",
   "execution_count": 1,
   "metadata": {},
   "outputs": [],
   "source": [
    "import numpy as np\n",
    "import random\n",
    "import matplotlib.pyplot as plot\n",
    "import math"
   ]
  },
  {
   "cell_type": "code",
   "execution_count": 2,
   "metadata": {},
   "outputs": [],
   "source": [
    "from sklearn.model_selection import train_test_split\n",
    "from sklearn.preprocessing import StandardScaler"
   ]
  },
  {
   "cell_type": "code",
   "execution_count": 3,
   "metadata": {},
   "outputs": [],
   "source": [
    "data = np.genfromtxt(fname='../../datasets/cancer.txt', delimiter=',')\n",
    "data = np.delete(data, np.s_[0], axis=1)\n",
    "data = data[~np.isnan(data).any(axis=1)] #Eliminamos los nan\n",
    "\n",
    "labels = data[:, -1]\n",
    "features = data[:, :-1]\n",
    "\n",
    "X_train, X_valid, Y_train, Y_valid = train_test_split(features, labels, test_size = 0.1)"
   ]
  },
  {
   "cell_type": "code",
   "execution_count": 4,
   "metadata": {},
   "outputs": [
    {
     "name": "stdout",
     "output_type": "stream",
     "text": [
      "[[ 3.  1.  1. ...  3.  1.  1.]\n",
      " [ 1.  1.  1. ...  3.  1.  1.]\n",
      " [ 8. 10.  8. ...  7.  7.  1.]\n",
      " ...\n",
      " [ 3.  1.  1. ...  2.  1.  1.]\n",
      " [ 3.  1.  1. ...  2.  1.  1.]\n",
      " [ 8.  9.  9. ...  7.  7.  1.]]\n",
      "(614, 9)\n"
     ]
    }
   ],
   "source": [
    "print(X_train)\n",
    "print(X_train.shape)"
   ]
  },
  {
   "cell_type": "code",
   "execution_count": 5,
   "metadata": {},
   "outputs": [
    {
     "name": "stdout",
     "output_type": "stream",
     "text": [
      "[[-0.51542599 -0.70343474 -0.7469279  ... -0.18490008 -0.61360094\n",
      "  -0.34836428]\n",
      " [-1.21947839 -0.70343474 -0.7469279  ... -0.18490008 -0.61360094\n",
      "  -0.34836428]\n",
      " [ 1.24470502  2.20395522  1.58274998 ...  1.44275077  1.35376709\n",
      "  -0.34836428]\n",
      " ...\n",
      " [-0.51542599 -0.70343474 -0.7469279  ... -0.59181279 -0.61360094\n",
      "  -0.34836428]\n",
      " [-0.51542599 -0.70343474 -0.7469279  ... -0.59181279 -0.61360094\n",
      "  -0.34836428]\n",
      " [ 1.24470502  1.88091189  1.91556111 ...  1.44275077  1.35376709\n",
      "  -0.34836428]]\n",
      "(614, 9)\n"
     ]
    }
   ],
   "source": [
    "scaler = StandardScaler()\n",
    "\n",
    "x_train_final = scaler.fit_transform(X_train)\n",
    "x_valid_final = scaler.transform(X_valid)\n",
    "\n",
    "\n",
    "print(x_train_final)\n",
    "print(x_train_final.shape)"
   ]
  }
 ],
 "metadata": {
  "kernelspec": {
   "display_name": "Python 3",
   "language": "python",
   "name": "python3"
  },
  "language_info": {
   "codemirror_mode": {
    "name": "ipython",
    "version": 3
   },
   "file_extension": ".py",
   "mimetype": "text/x-python",
   "name": "python",
   "nbconvert_exporter": "python",
   "pygments_lexer": "ipython3",
   "version": "3.6.4"
  }
 },
 "nbformat": 4,
 "nbformat_minor": 2
}
