{
 "cells": [
  {
   "cell_type": "markdown",
   "metadata": {},
   "source": [
    "# Principal Component Analysis\n",
    "Reduccion de dimensiones. Cuando tenes una gran cantidad de features, se achica la cantidad sin perder la correlacion entre los datos.\n",
    "Por lo general, si es muy grande, primero aplicamos Random Projections y luego PCA."
   ]
  },
  {
   "cell_type": "code",
   "execution_count": 43,
   "metadata": {},
   "outputs": [],
   "source": [
    "import numpy as np\n",
    "import random\n",
    "import matplotlib.pyplot as plot\n",
    "import math\n",
    "from sklearn.model_selection import train_test_split\n",
    "from  sklearn.decomposition import PCA"
   ]
  },
  {
   "cell_type": "code",
   "execution_count": 44,
   "metadata": {},
   "outputs": [],
   "source": [
    "data = np.genfromtxt(fname='../../datasets/cancer.txt', delimiter=',')\n",
    "data = np.delete(data, np.s_[0], axis=1)\n",
    "data = data[~np.isnan(data).any(axis=1)] #Eliminamos los nan\n",
    "\n",
    "labels = data[:, -1]\n",
    "features = data[:, :-1]\n",
    "\n",
    "X_train, X_valid, Y_train, Y_valid = train_test_split(features, labels, test_size = 0.1)"
   ]
  },
  {
   "cell_type": "code",
   "execution_count": 45,
   "metadata": {},
   "outputs": [
    {
     "name": "stdout",
     "output_type": "stream",
     "text": [
      "[[ 2.  1.  1. ...  2.  1.  1.]\n",
      " [ 3.  5.  7. ...  7. 10.  7.]\n",
      " [ 5.  1.  1. ...  2.  1.  1.]\n",
      " ...\n",
      " [ 4.  1.  1. ...  2.  1.  1.]\n",
      " [ 3. 10.  3. ...  5.  1.  4.]\n",
      " [ 5.  1.  3. ...  2.  1.  1.]]\n",
      "(614, 9)\n"
     ]
    }
   ],
   "source": [
    "print(X_train)\n",
    "print(X_train.shape)"
   ]
  },
  {
   "cell_type": "code",
   "execution_count": 46,
   "metadata": {},
   "outputs": [
    {
     "name": "stdout",
     "output_type": "stream",
     "text": [
      "[[-5.60436455  0.23195758  0.71575231 ...  0.31703556  0.06872281\n",
      "   0.14803184]\n",
      " [11.43908416  1.82113214  5.59998253 ... -1.50330728  3.8070408\n",
      "   1.30250454]\n",
      " [-4.72873127  0.07237989 -1.83076    ... -0.8840029  -0.21599178\n",
      "   0.25974292]\n",
      " ...\n",
      " [-5.27340217 -0.09987218 -1.02402883 ... -0.72781672 -0.52712348\n",
      "   0.16416085]\n",
      " [ 8.38014524 -3.92178204  4.97928159 ...  0.09194993  2.22191769\n",
      "  -0.04217728]\n",
      " [-3.94443924  0.38620755 -2.03151134 ... -0.14236106 -0.40952756\n",
      "  -0.25743771]]\n",
      "(614, 7)\n"
     ]
    }
   ],
   "source": [
    "pca = PCA(n_components = 0.95)\n",
    "\n",
    "x_train_final = pca.fit_transform(X_train)\n",
    "x_valid_final = pca.transform(X_valid)\n",
    "\n",
    "print(x_train_final)\n",
    "print(x_train_final.shape)"
   ]
  },
  {
   "cell_type": "code",
   "execution_count": null,
   "metadata": {},
   "outputs": [],
   "source": []
  }
 ],
 "metadata": {
  "kernelspec": {
   "display_name": "Python 3",
   "language": "python",
   "name": "python3"
  },
  "language_info": {
   "codemirror_mode": {
    "name": "ipython",
    "version": 3
   },
   "file_extension": ".py",
   "mimetype": "text/x-python",
   "name": "python",
   "nbconvert_exporter": "python",
   "pygments_lexer": "ipython3",
   "version": "3.6.4"
  }
 },
 "nbformat": 4,
 "nbformat_minor": 2
}
