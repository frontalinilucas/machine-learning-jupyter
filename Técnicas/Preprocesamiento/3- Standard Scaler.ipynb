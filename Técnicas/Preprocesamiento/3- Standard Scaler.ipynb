{
 "cells": [
  {
   "cell_type": "markdown",
   "metadata": {},
   "source": [
    "# Standard Scaler\n",
    "Esta técnica es útil cuando se quiere comparar datos que corresponden a diferentes unidades, transformará sus datos de modo que su distribución tendrá un valor medio 0 y una desviación estándar de 1."
   ]
  },
  {
   "cell_type": "code",
   "execution_count": 2,
   "metadata": {},
   "outputs": [],
   "source": [
    "import numpy as np\n",
    "import random\n",
    "import matplotlib.pyplot as plot\n",
    "import math"
   ]
  },
  {
   "cell_type": "code",
   "execution_count": 3,
   "metadata": {},
   "outputs": [],
   "source": [
    "from sklearn.model_selection import train_test_split\n",
    "from sklearn.preprocessing import StandardScaler"
   ]
  },
  {
   "cell_type": "code",
   "execution_count": 4,
   "metadata": {},
   "outputs": [],
   "source": [
    "data = np.genfromtxt(fname='../../datasets/cancer.txt', delimiter=',')\n",
    "data = np.delete(data, np.s_[0], axis=1)\n",
    "data = data[~np.isnan(data).any(axis=1)] #Eliminamos los nan\n",
    "\n",
    "labels = data[:, -1]\n",
    "features = data[:, :-1]\n",
    "\n",
    "X_train, X_valid, Y_train, Y_valid = train_test_split(features, labels, test_size = 0.1)"
   ]
  },
  {
   "cell_type": "code",
   "execution_count": 5,
   "metadata": {},
   "outputs": [
    {
     "name": "stdout",
     "output_type": "stream",
     "text": [
      "[[8. 3. 3. ... 3. 2. 1.]\n",
      " [3. 1. 1. ... 1. 1. 1.]\n",
      " [2. 1. 1. ... 1. 1. 1.]\n",
      " ...\n",
      " [7. 5. 3. ... 7. 5. 5.]\n",
      " [4. 1. 1. ... 3. 1. 1.]\n",
      " [3. 1. 1. ... 3. 1. 1.]]\n",
      "(614, 9)\n"
     ]
    }
   ],
   "source": [
    "print(X_train)\n",
    "print(X_train.shape)"
   ]
  },
  {
   "cell_type": "code",
   "execution_count": 6,
   "metadata": {},
   "outputs": [
    {
     "name": "stdout",
     "output_type": "stream",
     "text": [
      "[[ 1.24382223 -0.0723981  -0.0814919  ... -0.19375998 -0.29985444\n",
      "  -0.35358906]\n",
      " [-0.52729755 -0.71200148 -0.74422071 ... -1.00032695 -0.62456453\n",
      "  -0.35358906]\n",
      " [-0.88152151 -0.71200148 -0.74422071 ... -1.00032695 -0.62456453\n",
      "  -0.35358906]\n",
      " ...\n",
      " [ 0.88959828  0.56720527 -0.0814919  ...  1.41937396  0.67427585\n",
      "   1.86175464]\n",
      " [-0.17307359 -0.71200148 -0.74422071 ... -0.19375998 -0.62456453\n",
      "  -0.35358906]\n",
      " [-0.52729755 -0.71200148 -0.74422071 ... -0.19375998 -0.62456453\n",
      "  -0.35358906]]\n",
      "(614, 9)\n"
     ]
    }
   ],
   "source": [
    "scaler = StandardScaler()\n",
    "\n",
    "x_train_final = scaler.fit_transform(X_train)\n",
    "x_valid_final = scaler.transform(X_valid)\n",
    "\n",
    "print(x_train_final)\n",
    "print(x_train_final.shape)"
   ]
  }
 ],
 "metadata": {
  "kernelspec": {
   "display_name": "Python 3",
   "language": "python",
   "name": "python3"
  },
  "language_info": {
   "codemirror_mode": {
    "name": "ipython",
    "version": 3
   },
   "file_extension": ".py",
   "mimetype": "text/x-python",
   "name": "python",
   "nbconvert_exporter": "python",
   "pygments_lexer": "ipython3",
   "version": "3.6.4"
  }
 },
 "nbformat": 4,
 "nbformat_minor": 2
}
