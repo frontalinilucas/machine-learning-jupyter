{
 "cells": [
  {
   "cell_type": "markdown",
   "metadata": {},
   "source": [
    "## Verificación de locutores\n",
    "\n",
    "Dado un segmento de voz Y, y un locutor hipotético S, la tarea de la verificación de locutores es determinar si Y fue dicho por S.  \n",
    "Supondremos que Y siempre tiene locuciones de un solo locutor."
   ]
  },
  {
   "cell_type": "code",
   "execution_count": 1,
   "metadata": {},
   "outputs": [],
   "source": [
    "from python_speech_features import mfcc \n",
    "from python_speech_features import logfbank\n",
    "from python_speech_features import base\n",
    "import scipy.io.wavfile as wav\n",
    "import matplotlib.pyplot as plt\n",
    "import numpy as np\n",
    "from sklearn import mixture\n",
    "import itertools\n",
    "from scipy import linalg\n",
    "import matplotlib as mpl"
   ]
  },
  {
   "cell_type": "code",
   "execution_count": 2,
   "metadata": {},
   "outputs": [],
   "source": [
    "def mfcc_wav(file):\n",
    "    (rate,sig) = wav.read(file)\n",
    "    mfcc_feat = mfcc(sig,rate,nfft=512,appendEnergy=True)\n",
    "    return mfcc_feat"
   ]
  },
  {
   "cell_type": "code",
   "execution_count": 3,
   "metadata": {},
   "outputs": [],
   "source": [
    "def next_batch(num, data, labels):\n",
    "    '''\n",
    "    Return a total of `num` random samples and labels. \n",
    "    '''\n",
    "    idx = np.arange(0 , len(data))\n",
    "    np.random.shuffle(idx)\n",
    "    idx = idx[:num]\n",
    "    data_shuffle = [data[i] for i in idx]\n",
    "    labels_shuffle = [labels[i] for i in idx]\n",
    "    return np.asarray(data_shuffle), np.asarray(labels_shuffle)"
   ]
  },
  {
   "cell_type": "code",
   "execution_count": 4,
   "metadata": {},
   "outputs": [],
   "source": [
    "WINDOW_SIZE = 20\n",
    "\n",
    "def preprocess(file_wav, matrix):\n",
    "    mundo_size = file_wav.shape[0] - WINDOW_SIZE + 1\n",
    "    mundo = np.array([file_wav[i:i+WINDOW_SIZE].reshape(1,WINDOW_SIZE*file_wav.shape[1])[0] for i in range(mundo_size)])\n",
    "    mundo_labels = np.array(matrix * mundo.shape[0])\n",
    "    return mundo_size, mundo, mundo_labels"
   ]
  },
  {
   "cell_type": "code",
   "execution_count": 5,
   "metadata": {},
   "outputs": [
    {
     "data": {
      "image/png": "[encoded data removed]",
      "text/plain": [
       "<matplotlib.figure.Figure at 0x10f08fcf8>"
      ]
     },
     "metadata": {},
     "output_type": "display_data"
    }
   ],
   "source": [
    "mfcc_feat = mfcc_wav(\"./mundo.wav\")\n",
    "plt.hist(mfcc_feat.T[5], bins=40)\n",
    "plt.title(\"Histogram\")\n",
    "plt.xlabel(\"Value\")\n",
    "plt.ylabel(\"Frequency\")\n",
    "plt.show()"
   ]
  },
  {
   "cell_type": "markdown",
   "metadata": {},
   "source": [
    "#### Preprocesamiento Train"
   ]
  },
  {
   "cell_type": "code",
   "execution_count": 6,
   "metadata": {},
   "outputs": [],
   "source": [
    "mfcc_feat = mfcc_wav(\"./mundo.wav\")\n",
    "mundo_size, mundo, mundo_labels = preprocess(mfcc_feat, [[0,1]])"
   ]
  },
  {
   "cell_type": "code",
   "execution_count": 7,
   "metadata": {},
   "outputs": [],
   "source": [
    "mfcc_feat = mfcc_wav(\"./homero.wav\")\n",
    "homero_size, homero, homero_labels = preprocess(mfcc_feat, [[1,0]])"
   ]
  },
  {
   "cell_type": "code",
   "execution_count": 8,
   "metadata": {},
   "outputs": [],
   "source": [
    "train_labels = np.vstack([homero_labels,mundo_labels])\n",
    "train_set = np.vstack([homero,mundo])"
   ]
  },
  {
   "cell_type": "markdown",
   "metadata": {},
   "source": [
    "#### Preprocesamiento Test"
   ]
  },
  {
   "cell_type": "code",
   "execution_count": 9,
   "metadata": {},
   "outputs": [],
   "source": [
    "mfcc_feat = mfcc_wav(\"./mundo_test_1.wav\")\n",
    "mundo_size, mundo, mundo_labels = preprocess(mfcc_feat, [[0,1]])"
   ]
  },
  {
   "cell_type": "code",
   "execution_count": 10,
   "metadata": {},
   "outputs": [],
   "source": [
    "mfcc_feat = mfcc_wav(\"./homero_test.wav\")\n",
    "homero_size, homero, homero_labels = preprocess(mfcc_feat, [[1,0]])"
   ]
  },
  {
   "cell_type": "code",
   "execution_count": 11,
   "metadata": {},
   "outputs": [],
   "source": [
    "test_labels = np.vstack([homero_labels,mundo_labels])\n",
    "test_set = np.vstack([homero,mundo])"
   ]
  },
  {
   "cell_type": "code",
   "execution_count": 12,
   "metadata": {},
   "outputs": [],
   "source": [
    "mfcc_feat = mfcc_wav(\"./mundo_test_2.wav\")\n",
    "mundo_size, mundo, mundo_labels = preprocess(mfcc_feat, [[0,1]])"
   ]
  },
  {
   "cell_type": "code",
   "execution_count": 13,
   "metadata": {},
   "outputs": [],
   "source": [
    "mfcc_feat = mfcc_wav(\"./homero_test_2.wav\")\n",
    "homero_size, homero, homero_labels = preprocess(mfcc_feat, [[1,0]])"
   ]
  },
  {
   "cell_type": "code",
   "execution_count": 14,
   "metadata": {},
   "outputs": [],
   "source": [
    "test2_labels = np.vstack([homero_labels,mundo_labels])\n",
    "test2_set = np.vstack([homero,mundo])"
   ]
  },
  {
   "cell_type": "markdown",
   "metadata": {},
   "source": [
    "#### TRAINING"
   ]
  },
  {
   "cell_type": "code",
   "execution_count": 15,
   "metadata": {},
   "outputs": [
    {
     "name": "stderr",
     "output_type": "stream",
     "text": [
      "/anaconda3/lib/python3.6/site-packages/h5py/__init__.py:36: FutureWarning: Conversion of the second argument of issubdtype from `float` to `np.floating` is deprecated. In future, it will be treated as `np.float64 == np.dtype(float).type`.\n",
      "  from ._conv import register_converters as _register_converters\n"
     ]
    }
   ],
   "source": [
    "import tensorflow as tf\n",
    "import shutil\n",
    "from time import time\n",
    "from tensorboard import summary as summary_lib"
   ]
  },
  {
   "cell_type": "code",
   "execution_count": 16,
   "metadata": {},
   "outputs": [],
   "source": [
    "logs_path=\"log_dir\"\n",
    "logs_path1=\"log_dir/train\"\n",
    "logs_path2=\"log_dir/test\"\n",
    "# Parameters\n",
    "learning_rate = 0.01\n",
    "training_epochs = 42\n",
    "batch_size = 256\n",
    "display_step = 1\n",
    "hidden_units=50\n",
    "\n",
    "# Network Parameters\n",
    "n_input =  train_set.shape[1] \n",
    "n_classes = 2 # classes"
   ]
  },
  {
   "cell_type": "code",
   "execution_count": 17,
   "metadata": {},
   "outputs": [],
   "source": [
    "import tensorflow as tf\n",
    "import shutil\n",
    "from tensorboard import summary as summary_lib\n",
    "shutil.rmtree(logs_path)\n",
    "\n",
    "logs_path=\"log_dir\"\n",
    "logs_path1=\"log_dir/train\"\n",
    "logs_path2=\"log_dir/test\"\n",
    "# Parameters\n",
    "learning_rate = 0.01\n",
    "training_epochs = 40\n",
    "batch_size = 256\n",
    "display_step = 1\n",
    "hidden_units=50\n",
    "\n",
    "# Network Parameters\n",
    "n_input =  train_set.shape[1] \n",
    "n_classes = 2 # classes\n",
    "\n",
    "with tf.name_scope(\"inputs\"):\n",
    "    # tf Graph input\n",
    "    X = tf.placeholder(\"float\", [None, n_input],name=\"X\")\n",
    "with tf.name_scope(\"labels\"):\n",
    "    Y = tf.placeholder(\"float\", [None, n_classes],name=\"Y\")\n",
    "\n",
    "# Construct model\n",
    "with tf.name_scope('Capa1'):\n",
    "    # Model\n",
    "    weights1= tf.Variable(tf.random_normal([n_input, hidden_units]),name=\"weights1\")\n",
    "    bias1= tf.Variable(tf.random_normal([hidden_units]),name=\"bias1\")\n",
    "    act1= tf.nn.sigmoid(tf.matmul(X,weights1)+bias1, name=\"activacion_1\")\n",
    "\n",
    "with tf.name_scope('Capa2'):\n",
    "    # Model\n",
    "    weights2= tf.Variable(tf.random_normal([hidden_units, n_classes]),name=\"weights2\")\n",
    "    bias2= tf.Variable(tf.random_normal([n_classes]),name=\"bias2\")\n",
    "    logits= tf.matmul(act1,weights2)+bias2\n",
    "\n",
    "with tf.name_scope('Loss'):\n",
    "# Define loss and optimizer\n",
    "    loss_op = tf.reduce_mean(tf.nn.softmax_cross_entropy_with_logits_v2(\n",
    "        logits=logits, labels=Y),name=\"costo\")\n",
    "    \n",
    "with tf.name_scope('BGD'):\n",
    "    optimizer = tf.train.AdamOptimizer(learning_rate=learning_rate,name=\"optimizador\")\n",
    "    train_op = optimizer.minimize(loss_op)\n",
    "    \n",
    "with tf.name_scope('Accuracy'):\n",
    "    # Accuracy\n",
    "    #pred = tf.nn.softmax(logits) # Softmax\n",
    "    acc_op = tf.equal(tf.argmax(logits, 1), tf.argmax(Y, 1))\n",
    "    acc_op = tf.reduce_mean(tf.cast(acc_op, tf.float32),name=\"acc_red_mean\")\n",
    "    \n",
    "# Initializing the variables\n",
    "init = tf.global_variables_initializer()\n",
    "# Create a summary to monitor cost tensor\n",
    "tf.summary.scalar(\"loss\", loss_op)\n",
    "# Create a summary to monitor accuracy tensor\n",
    "tf.summary.scalar(\"accuracy\", acc_op)\n",
    "# Merge all summaries into a single op\n",
    "tf.summary.histogram('histogram', weights1)\n",
    "merged_summary_op = tf.summary.merge_all()"
   ]
  },
  {
   "cell_type": "code",
   "execution_count": 19,
   "metadata": {},
   "outputs": [
    {
     "name": "stdout",
     "output_type": "stream",
     "text": [
      "Epoch: 0001 train loss=0.546499757 crossval loss=0.714378417\n",
      "Epoch: 0002 train loss=0.301690379 crossval loss=0.598416030\n",
      "Epoch: 0003 train loss=0.251917460 crossval loss=0.489704788\n",
      "Epoch: 0004 train loss=0.238510499 crossval loss=0.440272391\n",
      "Epoch: 0005 train loss=0.202511396 crossval loss=0.433369040\n",
      "Epoch: 0006 train loss=0.187487204 crossval loss=0.392052978\n",
      "Epoch: 0007 train loss=0.190280578 crossval loss=0.387104303\n",
      "Epoch: 0008 train loss=0.170770225 crossval loss=0.392110825\n",
      "Epoch: 0009 train loss=0.157750651 crossval loss=0.403307050\n",
      "Epoch: 0010 train loss=0.148441961 crossval loss=0.374005795\n",
      "Epoch: 0011 train loss=0.135285046 crossval loss=0.356921673\n",
      "Epoch: 0012 train loss=0.137784038 crossval loss=0.350148976\n",
      "Epoch: 0013 train loss=0.134704304 crossval loss=0.430408210\n",
      "Epoch: 0014 train loss=0.120154468 crossval loss=0.417015314\n",
      "Epoch: 0015 train loss=0.119650879 crossval loss=0.435506880\n",
      "Epoch: 0016 train loss=0.115339637 crossval loss=0.466883183\n",
      "Epoch: 0017 train loss=0.109623900 crossval loss=0.379001856\n",
      "Epoch: 0018 train loss=0.113657331 crossval loss=0.400356650\n",
      "Epoch: 0019 train loss=0.115736139 crossval loss=0.392147779\n",
      "Epoch: 0020 train loss=0.103131968 crossval loss=0.396031350\n",
      "Epoch: 0021 train loss=0.100772671 crossval loss=0.364354521\n",
      "Epoch: 0022 train loss=0.097720542 crossval loss=0.357980102\n",
      "Epoch: 0023 train loss=0.102291546 crossval loss=0.443484873\n",
      "Epoch: 0024 train loss=0.093216159 crossval loss=0.385799795\n",
      "Epoch: 0025 train loss=0.092156511 crossval loss=0.351593614\n",
      "Epoch: 0026 train loss=0.097239284 crossval loss=0.301350087\n",
      "Epoch: 0027 train loss=0.086979403 crossval loss=0.345307440\n",
      "Epoch: 0028 train loss=0.088157971 crossval loss=0.319685161\n",
      "Epoch: 0029 train loss=0.078669210 crossval loss=0.354800493\n",
      "Epoch: 0030 train loss=0.077177680 crossval loss=0.351036310\n",
      "Epoch: 0031 train loss=0.072555761 crossval loss=0.250801980\n",
      "Epoch: 0032 train loss=0.065263297 crossval loss=0.287037283\n",
      "Epoch: 0033 train loss=0.068488815 crossval loss=0.287579805\n",
      "Epoch: 0034 train loss=0.068775449 crossval loss=0.261745542\n",
      "Epoch: 0035 train loss=0.067036404 crossval loss=0.259370536\n",
      "Epoch: 0036 train loss=0.069525961 crossval loss=0.280288309\n",
      "Epoch: 0037 train loss=0.068925396 crossval loss=0.303365231\n",
      "Epoch: 0038 train loss=0.063409837 crossval loss=0.421605080\n",
      "Epoch: 0039 train loss=0.074098277 crossval loss=0.344243914\n",
      "Epoch: 0040 train loss=0.071575857 crossval loss=0.300495476\n",
      "Optimization Finished\n",
      "Accuracy homero1: 0.74871796\n",
      "Accuracy mundo1: 0.9778271\n",
      "done in 3.571s.\n"
     ]
    }
   ],
   "source": [
    "t0=time()\n",
    "with tf.Session() as sess:\n",
    "    sess.run(init)\n",
    "    # op to write logs to Tensorboard\n",
    "    summary_writer = tf.summary.FileWriter(logs_path1, graph=sess.graph)\n",
    "    summary_writer_test = tf.summary.FileWriter(logs_path2, graph=sess.graph)\n",
    "    # Training cycle\n",
    "    for epoch in range(training_epochs):\n",
    "        avg_cost = 0.\n",
    "        total_batch = int(train_set.shape[0]/batch_size)\n",
    "        # Loop over all batches\n",
    "        for i in range(total_batch):\n",
    "            batch_x, batch_y = next_batch(batch_size,train_set,train_labels)\n",
    "            # Run optimization op (backprop) and cost op (to get loss value)\n",
    "            _, c= sess.run([train_op, loss_op], feed_dict={Y: batch_y,\n",
    "                                                            X: batch_x})\n",
    "            # Compute average loss\n",
    "            avg_cost += c / total_batch\n",
    "        # Display logs per epoch step\n",
    "        if epoch % display_step == 0:\n",
    "            summary, test_cost,_ = sess.run([merged_summary_op,loss_op,acc_op],\n",
    "                                  feed_dict={X: test_set, Y: test_labels})\n",
    "            summary_writer_test.add_summary(summary, epoch)\n",
    "            print(\"Epoch:\", '%04d' % (epoch+1), \"train loss={:.9f} crossval loss={:.9f}\".format(avg_cost,test_cost))\n",
    "            summary, test_cost,_ = sess.run([merged_summary_op,loss_op,acc_op],\n",
    "                                  feed_dict={X: train_set, Y: train_labels})\n",
    "            summary_writer.add_summary(summary, epoch)\n",
    "    print(\"Optimization Finished\")        \n",
    "\n",
    "    # Test model\n",
    "    pred = tf.nn.softmax(logits)  # Apply softmax to logits\n",
    "    correct_prediction = tf.equal(tf.argmax(pred, 1), tf.argmax(Y, 1))\n",
    "    # Calculate accuracy\n",
    "    accuracy = tf.reduce_mean(tf.cast(correct_prediction, \"float\"))\n",
    "    print(\"Accuracy homero1:\", accuracy.eval({X: homero, Y: homero_labels})) \n",
    "    accuracy = tf.reduce_mean(tf.cast(correct_prediction, \"float\"))\n",
    "    print(\"Accuracy mundo1:\", accuracy.eval({X: mundo, Y: mundo_labels}))\n",
    "print(\"done in %0.3fs.\" % (time() - t0))"
   ]
  },
  {
   "cell_type": "code",
   "execution_count": null,
   "metadata": {},
   "outputs": [],
   "source": []
  }
 ],
 "metadata": {
  "kernelspec": {
   "display_name": "Python 3",
   "language": "python",
   "name": "python3"
  },
  "language_info": {
   "codemirror_mode": {
    "name": "ipython",
    "version": 3
   },
   "file_extension": ".py",
   "mimetype": "text/x-python",
   "name": "python",
   "nbconvert_exporter": "python",
   "pygments_lexer": "ipython3",
   "version": "3.6.4"
  }
 },
 "nbformat": 4,
 "nbformat_minor": 2
}
