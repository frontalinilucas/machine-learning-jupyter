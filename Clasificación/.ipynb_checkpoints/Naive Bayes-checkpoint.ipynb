{
 "cells": [
  {
   "cell_type": "markdown",
   "metadata": {},
   "source": [
    "# Naive Bayes\n",
    "\n",
    "- Modelo Supervizado de CLASIFICACIÓN.\n",
    "- Dado una serie de datos y su etiqueta resultante, te predice la etiqueta resultante para \n",
    "una serie de datos de entrada.\n",
    "- No es muy bueno para datos NO independientes.\n",
    "\n",
    "##### Multinomial Naive Bayes\n",
    "- Tiene en cuenta la cantidad de apariciones de los datos de entrada.\n",
    "\n",
    "##### Bernoulli Naive Bayes\n",
    "- Solo tiene en cuenta si aparece o no los datos de entrada. No tiene en cuenta la cantidad de apariciones.\n",
    "\n",
    "##### Gaussian Naive Bayes\n",
    "- Asumo que los datos de entrada tienen una distribucion Gaussiana. Por ejemplo, el peso, la altura, etc de una persona."
   ]
  },
  {
   "cell_type": "code",
   "execution_count": 1,
   "metadata": {},
   "outputs": [],
   "source": [
    "import numpy as np\n",
    "from sklearn.model_selection import train_test_split\n",
    "from sklearn.naive_bayes import MultinomialNB\n",
    "from sklearn.naive_bayes import BernoulliNB\n",
    "from sklearn.naive_bayes import GaussianNB\n",
    "from sklearn.feature_extraction.text import CountVectorizer\n",
    "from random import randint\n",
    "np.set_printoptions(threshold=np.inf) #Print complete matrix/array"
   ]
  },
  {
   "cell_type": "code",
   "execution_count": 2,
   "metadata": {},
   "outputs": [],
   "source": [
    "def multinomialNaiveBayes(initial_priorities, feature_matrix, labels, feature_matrix_test):\n",
    "    nb = MultinomialNB(alpha=1, class_prior=initial_priorities, fit_prior=False)\n",
    "    \n",
    "    #Entrenamos el modelo\n",
    "    nb.fit(feature_matrix, labels)\n",
    "    \n",
    "    #Puntaje del modelo\n",
    "    score = nb.score(feature_matrix, labels)\n",
    "    \n",
    "    #Predice el resultado (La categoria resultante)\n",
    "    predict = nb.predict(feature_matrix_test)\n",
    "    \n",
    "    #Devuelve las probabilidades de cada una de las etiquetas\n",
    "    predict_proba = nb.predict_proba(feature_matrix_test)\n",
    "    \n",
    "    return score, predict, predict_proba\n"
   ]
  },
  {
   "cell_type": "code",
   "execution_count": 3,
   "metadata": {},
   "outputs": [],
   "source": [
    "def BernoulliNaiveBayes(initial_priorities, binarize, feature_matrix, labels, feature_matrix_test):\n",
    "    #Si es mayor a binarize, lo toma como 1 (como que aparece). Si es menor lo toma como 0 (como que no aparece).\n",
    "    nb = BernoulliNB(alpha=1, class_prior=initial_priorities, fit_prior=False, binarize=binarize)\n",
    "    \n",
    "    #Entrenamos el modelo\n",
    "    nb.fit(feature_matrix, labels)\n",
    "    \n",
    "    #Puntaje del modelo\n",
    "    score = nb.score(feature_matrix, labels)\n",
    "    \n",
    "    #Predice el resultado (La categoria resultante)\n",
    "    predict = nb.predict(feature_matrix_test)\n",
    "    \n",
    "    #Devuelve las probabilidades de cada una de las etiquetas\n",
    "    predict_proba = nb.predict_proba(feature_matrix_test)\n",
    "    \n",
    "    return score, predict, predict_proba\n"
   ]
  },
  {
   "cell_type": "code",
   "execution_count": 4,
   "metadata": {},
   "outputs": [],
   "source": [
    "def GaussianNaiveBayes(features_matrix, labels, feature_matrix_test):\n",
    "    gnb = GaussianNB()\n",
    "    \n",
    "    #Entrenamos el modelo\n",
    "    gnb.fit(features_matrix, labels)\n",
    "    \n",
    "    #Puntaje del modelo\n",
    "    #score = gnb.score(feature_matrix, labels)\n",
    "    \n",
    "    #Predice el resultado (La categoria resultante)\n",
    "    predict = gnb.predict(feature_matrix_test)\n",
    "    \n",
    "    #Devuelve las probabilidades de cada una de las etiquetas\n",
    "    predict_proba = gnb.predict_proba(feature_matrix_test)\n",
    "    \n",
    "    return predict, predict_proba\n"
   ]
  },
  {
   "cell_type": "markdown",
   "metadata": {},
   "source": [
    "## Examples"
   ]
  },
  {
   "cell_type": "markdown",
   "metadata": {},
   "source": [
    "### SPAM o HAM"
   ]
  },
  {
   "cell_type": "code",
   "execution_count": 5,
   "metadata": {},
   "outputs": [],
   "source": [
    "labels = np.array(['SPAM', 'HAM', 'HAM', 'SPAM', 'HAM', 'HAM', 'NN'])\n",
    "vocabulary = np.array(['alargue', 'automóvil', 'casa', 'novedoso'])\n",
    "# Simulo que lee los mails y obtiene esta cantidad de palabras\n",
    "train_mails = [\"alargue alargue alargue automóvil automóvil automóvil casa novedoso novedoso novedoso novedoso novedoso novedoso\", \n",
    "        \"alargue automóvil automóvil automóvil automóvil casa casa casa casa casa casa casa novedoso\",\n",
    "        \"alargue automóvil automóvil automóvil automóvil casa casa casa novedoso\",\n",
    "        \"alargue alargue alargue alargue automóvil automóvil casa novedoso novedoso novedoso novedoso novedoso\",\n",
    "        \"alargue automóvil automóvil automóvil casa casa casa casa novedoso novedoso\",\n",
    "        \"alargue alargue automóvil automóvil automóvil automóvil casa casa casa casa casa novedoso\",\n",
    "        \"alargue alargue alargue alargue alargue alargue alargue alargue alargue automóvil casa novedoso\"]\n",
    "test_mails = [\"alargue alargue alargue alargue alargue alargue alargue alargue alargue automóvil casa aguila\"]\n",
    "\n",
    "vectorizer = CountVectorizer()\n",
    "train_matrix = vectorizer.fit_transform(train_mails)\n",
    "test_matrix = vectorizer.transform(test_mails)\n",
    "\n",
    "score, predict, predict_proba = multinomialNaiveBayes([0.286, 0.57, 0.14], train_matrix, labels, test_matrix)\n",
    "score, predict, predict_proba = BernoulliNaiveBayes([0.286, 0.57, 0.14], 0.5, train_matrix, labels, test_matrix)\n"
   ]
  },
  {
   "cell_type": "code",
   "execution_count": 6,
   "metadata": {},
   "outputs": [],
   "source": [
    "data = [{'altura': 183, 'genero': 'hombre', 'peso': 82, 'pie': 12},\n",
    "         {'altura': 180, 'genero': 'hombre', 'peso': 86, 'pie': 11},\n",
    "         {'altura': 170,'genero': 'hombre','peso': 77,'pie': 12},\n",
    "         {'altura': 180, 'genero': 'hombre', 'peso': 75, 'pie': 10},\n",
    "         {'altura': 152, 'genero': 'mujer', 'peso': 45, 'pie': 6},\n",
    "         {'altura': 167, 'genero': 'mujer', 'peso': 68, 'pie': 8},\n",
    "         {'altura': 165, 'genero': 'mujer', 'peso': 59, 'pie': 7},\n",
    "         {'altura': 175, 'genero': 'mujer', 'peso': 68, 'pie': 9}]\n",
    "train_matrix = np.zeros((len(data),3))\n",
    "labels = np.empty((len(data)), dtype=object)\n",
    "\n",
    "for i, person in enumerate(data):\n",
    "    train_matrix[i, 0] = person['altura']\n",
    "    train_matrix[i, 1] = person['peso']\n",
    "    train_matrix[i, 2] = person['pie']\n",
    "    labels[i] = person['genero']\n",
    "\n",
    "test_matrix = np.array([[180,90,10], [160, 70, 8], [178, 73, 9], [178, 74, 9]])\n",
    "predict, predict_proba = GaussianNaiveBayes(train_matrix, labels, test_matrix)\n"
   ]
  },
  {
   "cell_type": "markdown",
   "metadata": {},
   "source": [
    "### Cancer test"
   ]
  },
  {
   "cell_type": "code",
   "execution_count": 9,
   "metadata": {},
   "outputs": [
    {
     "name": "stdout",
     "output_type": "stream",
     "text": [
      "Se predice que la muestra es del tipo benigno con un 75.15% de certeza\n"
     ]
    }
   ],
   "source": [
    "data = np.genfromtxt(fname='../datasets/cancer.txt', delimiter=',')\n",
    "data = np.delete(data, np.s_[0], axis=1)\n",
    "data = data[~np.isnan(data).any(axis=1)] #Eliminamos los nan\n",
    "\n",
    "labels = data[:, -1]\n",
    "features = data[:, :-1]\n",
    "#x_train, x_test, y_train, y_test = train_test_split(features, labels, test_size=0.3, random_state=randint(0, 99))\n",
    "\n",
    "labels_bening = np.extract(labels == 2, labels)\n",
    "labels_malignant = np.extract(labels == 4, labels)\n",
    "initial_priorities = np.array([labels_bening.size / labels.size, labels_malignant.size / labels.size])\n",
    "\n",
    "test = np.matrix([10,1,1,10,2,1,3,10,1])\n",
    "score, predict, predict_proba = multinomialNaiveBayes(initial_priorities, features, labels, test)\n",
    "\n",
    "cancer_type = \"benigno\" if int(predict) == 2 else \"maligno\"\n",
    "percent = round(float(np.amax(predict_proba, axis=1)) * 100, 2)\n",
    "print(f\"Se predice que la muestra es del tipo {cancer_type} con un {percent}% de certeza\")"
   ]
  }
 ],
 "metadata": {
  "kernelspec": {
   "display_name": "Python 3",
   "language": "python",
   "name": "python3"
  },
  "language_info": {
   "codemirror_mode": {
    "name": "ipython",
    "version": 3
   },
   "file_extension": ".py",
   "mimetype": "text/x-python",
   "name": "python",
   "nbconvert_exporter": "python",
   "pygments_lexer": "ipython3",
   "version": "3.6.4"
  }
 },
 "nbformat": 4,
 "nbformat_minor": 2
}
