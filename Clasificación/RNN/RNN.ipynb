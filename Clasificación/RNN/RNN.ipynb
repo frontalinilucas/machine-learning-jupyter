{
 "cells": [
  {
   "cell_type": "markdown",
   "metadata": {},
   "source": [
    "# Redes Neuronales Recurrentes (RNN)"
   ]
  },
  {
   "cell_type": "markdown",
   "metadata": {},
   "source": [
    "- MLP y CNN solo aceptan un vector de entrada de tamaño fijo y devuelve un vector de salida de tamaño fijo, en cambio, RNN trabaja con secuencias variables tanto a la entrada como a la salida.\n",
    "- Encontrar una fórmula que explique una secuencia ordenada, recursivamente. \n",
    "- Usar la salida de una red, para entrenar otra red.\n",
    "- RNN tiene memoria a corto plazo, y a largo plazo suele tener problemas. Es ahí donde aparecen las LSTM (redes de memoria a largo plazo), para mejorar este aspecto."
   ]
  },
  {
   "cell_type": "markdown",
   "metadata": {},
   "source": [
    "![rnn.jpeg](../../Imagenes/rnn.jpeg)"
   ]
  },
  {
   "cell_type": "markdown",
   "metadata": {},
   "source": [
    "Aclaraciones: \n",
    "- Cada cuadrado NO es una neurona si no una capa que puede contener N neuronas\n",
    "- Cada flecha representa la interconexión entre dos capas. Los pesos forman una matriz de la N1xN2 donde N1 y N2 son la cantidad de neuronas en cada capa respectivamente."
   ]
  },
  {
   "cell_type": "markdown",
   "metadata": {},
   "source": [
    "#### Tipos\n",
    "- **One to One**: CNN, MLP\n",
    "- **One to many**: [Image captioning](https://www.youtube.com/watch?v=xKt21ucdBY0)\n",
    "- **Many to one**: Sentiment Analisys, Detectar voz de hombre vs voz de mujer\n",
    "- **Many to Many** [(sequence to sequence)](https://youtu.be/dkHdEAJnV_w): [Traducción](https://github.com/jganzabal/aind2-nlp-capstone/blob/master/machine_translation.ipynb)\n",
    "- **Many to Many Sincronizado**: Etiquetado de tramas de video, Controlar una silla de ruedas, POS (Part of Speech) cada palabra se clasifica en verbo, articulo, etc"
   ]
  },
  {
   "cell_type": "markdown",
   "metadata": {},
   "source": [
    "#### Usos\n",
    "- Predecir la proxima palabra en funcion de las anteriores\n",
    "- Predecir el proximo caracter en función de los anteriores\n",
    "- **No es buena** para predecir el futuro en secuencias temporales\n",
    "\n",
    "**Resultado**: Probabilidad en función de una secuencia\n",
    "\n",
    "(Mas allá de la posibilidad de generar texto):\n",
    "- OCR\n",
    "- Speach2Text\n",
    "- Detección de autores"
   ]
  },
  {
   "cell_type": "markdown",
   "metadata": {},
   "source": [
    "---\n",
    "**Parámetros**: \n",
    "- N => Cantidad de muestras\n",
    "- T => Longitud de la secuencia (Cantidad de caracteres de cada muestra)\n",
    "- D => Cantidad de features"
   ]
  },
  {
   "cell_type": "code",
   "execution_count": 1,
   "metadata": {},
   "outputs": [
    {
     "name": "stderr",
     "output_type": "stream",
     "text": [
      "/anaconda3/lib/python3.6/site-packages/h5py/__init__.py:36: FutureWarning: Conversion of the second argument of issubdtype from `float` to `np.floating` is deprecated. In future, it will be treated as `np.float64 == np.dtype(float).type`.\n",
      "  from ._conv import register_converters as _register_converters\n",
      "Using TensorFlow backend.\n"
     ]
    }
   ],
   "source": [
    "from keras.layers import SimpleRNN, Dense\n",
    "from keras.models import Sequential\n",
    "from RNN_utils import encode_io_pairs, chars_to_one_hot, sample, window_transform_text\n",
    "import numpy as np\n",
    "\n",
    "import sys\n",
    "sys.path.insert(0, '../../Utils')\n",
    "from fnn_helper import PlotLosses"
   ]
  },
  {
   "cell_type": "code",
   "execution_count": 4,
   "metadata": {},
   "outputs": [
    {
     "name": "stdout",
     "output_type": "stream",
     "text": [
      "[[[0 0 0 0 0 0 0 0 1 0 0]\n",
      "  [0 1 0 0 0 0 0 0 0 0 0]\n",
      "  [0 0 1 0 0 0 0 0 0 0 0]\n",
      "  [0 0 0 0 0 1 0 0 0 0 0]\n",
      "  [0 0 0 0 0 0 1 0 0 0 0]\n",
      "  [0 0 0 0 0 0 0 0 0 1 0]\n",
      "  [0 0 0 1 0 0 0 0 0 0 0]\n",
      "  [1 0 0 0 0 0 0 0 0 0 0]\n",
      "  [0 0 0 0 0 0 0 1 0 0 0]\n",
      "  [0 0 0 1 0 0 0 0 0 0 0]\n",
      "  [0 1 0 0 0 0 0 0 0 0 0]\n",
      "  [0 0 0 0 0 0 0 0 0 0 1]\n",
      "  [0 0 0 0 0 0 0 0 0 1 0]\n",
      "  [0 0 0 0 0 0 1 0 0 0 0]\n",
      "  [0 0 0 0 0 0 0 0 0 1 0]\n",
      "  [0 0 0 0 1 0 0 0 0 0 0]]]\n"
     ]
    }
   ],
   "source": [
    "text = \"MACHINE LEARNING\"\n",
    "chars = sorted(set(text))\n",
    "window_size = 1\n",
    "indices_to_chars = dict((i, c) for i, c in enumerate(chars))\n",
    "chars_to_indices = dict((c, i) for i, c in enumerate(chars))\n",
    "one_hot_text = chars_to_one_hot(text, chars, chars_to_indices, window_size)*1\n",
    "print(one_hot_text)"
   ]
  },
  {
   "cell_type": "markdown",
   "metadata": {},
   "source": [
    "### T = 1\n",
    "#### Stateless"
   ]
  },
  {
   "cell_type": "code",
   "execution_count": 5,
   "metadata": {},
   "outputs": [
    {
     "name": "stdout",
     "output_type": "stream",
     "text": [
      "N:  15\n",
      "T:  1\n",
      "D:  11\n"
     ]
    }
   ],
   "source": [
    "step_size = 1\n",
    "# encode_io_pairs llama a window_transform_text y despues codifica en one-hot\n",
    "X, y = encode_io_pairs(text, chars, window_size, step_size)\n",
    "print('N: ', X.shape[0])\n",
    "print('T: ', X.shape[1])\n",
    "print('D: ', X.shape[2])"
   ]
  },
  {
   "cell_type": "code",
   "execution_count": 6,
   "metadata": {},
   "outputs": [
    {
     "name": "stdout",
     "output_type": "stream",
     "text": [
      "[[0 0 0 0 0 0 0 0 1 0 0]] M\n",
      "[[0 1 0 0 0 0 0 0 0 0 0]] A\n",
      "[[0 0 1 0 0 0 0 0 0 0 0]] C\n",
      "[[0 0 0 0 0 1 0 0 0 0 0]] H\n",
      "[[0 0 0 0 0 0 1 0 0 0 0]] I\n",
      "[[0 0 0 0 0 0 0 0 0 1 0]] N\n",
      "[[0 0 0 1 0 0 0 0 0 0 0]] E\n",
      "[[1 0 0 0 0 0 0 0 0 0 0]]  \n",
      "[[0 0 0 0 0 0 0 1 0 0 0]] L\n",
      "[[0 0 0 1 0 0 0 0 0 0 0]] E\n",
      "[[0 1 0 0 0 0 0 0 0 0 0]] A\n",
      "[[0 0 0 0 0 0 0 0 0 0 1]] R\n",
      "[[0 0 0 0 0 0 0 0 0 1 0]] N\n",
      "[[0 0 0 0 0 0 1 0 0 0 0]] I\n",
      "[[0 0 0 0 0 0 0 0 0 1 0]] N\n"
     ]
    }
   ],
   "source": [
    "\n",
    "for xi in X:\n",
    "    print(xi*1, indices_to_chars[np.argmax(xi)])"
   ]
  },
  {
   "cell_type": "code",
   "execution_count": 7,
   "metadata": {},
   "outputs": [
    {
     "name": "stdout",
     "output_type": "stream",
     "text": [
      "[0 1 0 0 0 0 0 0 0 0 0] A\n",
      "[0 0 1 0 0 0 0 0 0 0 0] C\n",
      "[0 0 0 0 0 1 0 0 0 0 0] H\n",
      "[0 0 0 0 0 0 1 0 0 0 0] I\n",
      "[0 0 0 0 0 0 0 0 0 1 0] N\n",
      "[0 0 0 1 0 0 0 0 0 0 0] E\n",
      "[1 0 0 0 0 0 0 0 0 0 0]  \n",
      "[0 0 0 0 0 0 0 1 0 0 0] L\n",
      "[0 0 0 1 0 0 0 0 0 0 0] E\n",
      "[0 1 0 0 0 0 0 0 0 0 0] A\n",
      "[0 0 0 0 0 0 0 0 0 0 1] R\n",
      "[0 0 0 0 0 0 0 0 0 1 0] N\n",
      "[0 0 0 0 0 0 1 0 0 0 0] I\n",
      "[0 0 0 0 0 0 0 0 0 1 0] N\n",
      "[0 0 0 0 1 0 0 0 0 0 0] G\n"
     ]
    }
   ],
   "source": [
    "for yi in y:\n",
    "    print(yi*1, indices_to_chars[np.argmax(yi)])"
   ]
  },
  {
   "cell_type": "code",
   "execution_count": 8,
   "metadata": {},
   "outputs": [
    {
     "name": "stdout",
     "output_type": "stream",
     "text": [
      "_________________________________________________________________\n",
      "Layer (type)                 Output Shape              Param #   \n",
      "=================================================================\n",
      "simple_rnn_1 (SimpleRNN)     (None, 10)                220       \n",
      "_________________________________________________________________\n",
      "dense_1 (Dense)              (None, 11)                121       \n",
      "=================================================================\n",
      "Total params: 341\n",
      "Trainable params: 341\n",
      "Non-trainable params: 0\n",
      "_________________________________________________________________\n"
     ]
    }
   ],
   "source": [
    "model = Sequential()\n",
    "model.add(SimpleRNN(10, input_shape=(window_size,len(chars))))\n",
    "model.add(Dense(len(chars), activation=\"softmax\"))\n",
    "model.summary()"
   ]
  },
  {
   "cell_type": "code",
   "execution_count": 9,
   "metadata": {},
   "outputs": [
    {
     "data": {
      "image/png": "[encoded data removed]",
      "text/plain": [
       "<matplotlib.figure.Figure at 0x181ec12320>"
      ]
     },
     "metadata": {},
     "output_type": "display_data"
    },
    {
     "name": "stdout",
     "output_type": "stream",
     "text": [
      "Epoch 492/500\n",
      "15/15 [==============================] - 0s 1ms/step - loss: 0.4213 - acc: 0.7333\n",
      "Epoch 493/500\n",
      "15/15 [==============================] - 0s 2ms/step - loss: 0.4225 - acc: 0.6667\n",
      "Epoch 494/500\n",
      "15/15 [==============================] - 0s 2ms/step - loss: 0.4233 - acc: 0.6000\n",
      "Epoch 495/500\n",
      "15/15 [==============================] - 0s 2ms/step - loss: 0.4240 - acc: 0.6000\n",
      "Epoch 496/500\n",
      "15/15 [==============================] - 0s 2ms/step - loss: 0.4232 - acc: 0.5333\n",
      "Epoch 497/500\n",
      "15/15 [==============================] - 0s 2ms/step - loss: 0.4226 - acc: 0.6000\n",
      "Epoch 498/500\n",
      "15/15 [==============================] - 0s 2ms/step - loss: 0.4214 - acc: 0.7333\n",
      "Epoch 499/500\n",
      "15/15 [==============================] - 0s 2ms/step - loss: 0.4226 - acc: 0.6667\n",
      "Epoch 500/500\n",
      "15/15 [==============================] - 0s 2ms/step - loss: 0.4228 - acc: 0.6000\n"
     ]
    },
    {
     "data": {
      "text/plain": [
       "<keras.callbacks.History at 0x181e85bc88>"
      ]
     },
     "execution_count": 9,
     "metadata": {},
     "output_type": "execute_result"
    }
   ],
   "source": [
    "model.compile(optimizer='adam', loss='categorical_crossentropy', metrics=['accuracy'])\n",
    "plot_losses = PlotLosses(plot_interval=10, evaluate_interval=None)\n",
    "model.fit(X,y, epochs=500, batch_size=1, verbose=1, callbacks=[plot_losses])"
   ]
  },
  {
   "cell_type": "code",
   "execution_count": 10,
   "metadata": {},
   "outputs": [
    {
     "name": "stdout",
     "output_type": "stream",
     "text": [
      "A 0.97194666\n"
     ]
    }
   ],
   "source": [
    "char_to_predict = text[0] # M\n",
    "to_predict = chars_to_one_hot(char_to_predict, chars, chars_to_indices, window_size)*1\n",
    "predicted = model.predict(to_predict)\n",
    "print(indices_to_chars[np.argmax(predicted)], np.max(predicted))"
   ]
  },
  {
   "cell_type": "markdown",
   "metadata": {},
   "source": [
    "### T = 3"
   ]
  },
  {
   "cell_type": "code",
   "execution_count": 11,
   "metadata": {},
   "outputs": [
    {
     "name": "stdout",
     "output_type": "stream",
     "text": [
      "MAC -> H\n",
      "ACH -> I\n",
      "CHI -> N\n",
      "HIN -> E\n",
      "INE ->  \n",
      "NE  -> L\n",
      "E L -> E\n",
      " LE -> A\n",
      "LEA -> R\n",
      "EAR -> N\n",
      "ARN -> I\n",
      "RNI -> N\n",
      "NIN -> G\n"
     ]
    }
   ],
   "source": [
    "window_size = 3\n",
    "x_3_t, y_3_t = window_transform_text(text, window_size, step_size)\n",
    "for i, te in enumerate(x_3_t):\n",
    "    print(te, '->' ,y_3_t[i])\n",
    "X_3, y_3 = encode_io_pairs(text, chars, window_size, step_size)"
   ]
  },
  {
   "cell_type": "code",
   "execution_count": 12,
   "metadata": {},
   "outputs": [
    {
     "name": "stdout",
     "output_type": "stream",
     "text": [
      "_________________________________________________________________\n",
      "Layer (type)                 Output Shape              Param #   \n",
      "=================================================================\n",
      "simple_rnn_2 (SimpleRNN)     (None, 10)                220       \n",
      "_________________________________________________________________\n",
      "dense_2 (Dense)              (None, 11)                121       \n",
      "=================================================================\n",
      "Total params: 341\n",
      "Trainable params: 341\n",
      "Non-trainable params: 0\n",
      "_________________________________________________________________\n"
     ]
    }
   ],
   "source": [
    "model_3 = Sequential()\n",
    "model_3.add(SimpleRNN(10, input_shape=(window_size,len(chars))))\n",
    "model_3.add(Dense(len(chars), activation=\"softmax\"))\n",
    "model_3.summary()"
   ]
  },
  {
   "cell_type": "code",
   "execution_count": 13,
   "metadata": {},
   "outputs": [
    {
     "data": {
      "image/png": "[encoded data removed]",
      "text/plain": [
       "<matplotlib.figure.Figure at 0x181ed54cc0>"
      ]
     },
     "metadata": {},
     "output_type": "display_data"
    },
    {
     "name": "stdout",
     "output_type": "stream",
     "text": [
      "Epoch 492/500\n",
      "13/13 [==============================] - 0s 593us/step - loss: 0.0600 - acc: 1.0000\n",
      "Epoch 493/500\n",
      "13/13 [==============================] - 0s 582us/step - loss: 0.0598 - acc: 1.0000\n",
      "Epoch 494/500\n",
      "13/13 [==============================] - 0s 548us/step - loss: 0.0595 - acc: 1.0000\n",
      "Epoch 495/500\n",
      "13/13 [==============================] - 0s 827us/step - loss: 0.0592 - acc: 1.0000\n",
      "Epoch 496/500\n",
      "13/13 [==============================] - 0s 568us/step - loss: 0.0589 - acc: 1.0000\n",
      "Epoch 497/500\n",
      "13/13 [==============================] - 0s 659us/step - loss: 0.0586 - acc: 1.0000\n",
      "Epoch 498/500\n",
      "13/13 [==============================] - 0s 712us/step - loss: 0.0584 - acc: 1.0000\n",
      "Epoch 499/500\n",
      "13/13 [==============================] - 0s 560us/step - loss: 0.0581 - acc: 1.0000\n",
      "Epoch 500/500\n",
      "13/13 [==============================] - 0s 765us/step - loss: 0.0579 - acc: 1.0000\n"
     ]
    },
    {
     "data": {
      "text/plain": [
       "<keras.callbacks.History at 0x18201b0f98>"
      ]
     },
     "execution_count": 13,
     "metadata": {},
     "output_type": "execute_result"
    }
   ],
   "source": [
    "model_3.compile(optimizer='adam', loss='categorical_crossentropy', metrics=['accuracy'])\n",
    "plot_losses = PlotLosses(plot_interval=10, evaluate_interval=None)\n",
    "model_3.fit(X_3,y_3, epochs=500, batch_size=4, verbose=1, callbacks=[plot_losses])"
   ]
  },
  {
   "cell_type": "code",
   "execution_count": 14,
   "metadata": {},
   "outputs": [
    {
     "name": "stdout",
     "output_type": "stream",
     "text": [
      "H 0.9502071\n"
     ]
    }
   ],
   "source": [
    "char_to_predict = x_3_t[0] # MAC\n",
    "to_predict = chars_to_one_hot(char_to_predict, chars, chars_to_indices, window_size)*1\n",
    "predicted = model_3.predict(to_predict)\n",
    "print(indices_to_chars[np.argmax(predicted)], np.max(predicted))"
   ]
  },
  {
   "cell_type": "markdown",
   "metadata": {},
   "source": [
    "#### Stateful RNN"
   ]
  },
  {
   "cell_type": "code",
   "execution_count": 15,
   "metadata": {},
   "outputs": [
    {
     "name": "stdout",
     "output_type": "stream",
     "text": [
      "_________________________________________________________________\n",
      "Layer (type)                 Output Shape              Param #   \n",
      "=================================================================\n",
      "simple_rnn_3 (SimpleRNN)     (1, 10)                   220       \n",
      "_________________________________________________________________\n",
      "dense_3 (Dense)              (1, 11)                   121       \n",
      "=================================================================\n",
      "Total params: 341\n",
      "Trainable params: 341\n",
      "Non-trainable params: 0\n",
      "_________________________________________________________________\n"
     ]
    }
   ],
   "source": [
    "window_transform_text(text, 1, 1)\n",
    "batch_size = 1\n",
    "model_4 = Sequential()\n",
    "model_4.add(SimpleRNN(10, batch_input_shape=(batch_size,1,len(chars)), stateful=True))\n",
    "model_4.add(Dense(len(chars), activation=\"softmax\"))\n",
    "model_4.summary()"
   ]
  },
  {
   "cell_type": "code",
   "execution_count": 18,
   "metadata": {},
   "outputs": [
    {
     "name": "stdout",
     "output_type": "stream",
     "text": [
      "Epoch 1/1\n",
      "15/15 [==============================] - 0s 19ms/step - loss: 2.5098 - acc: 0.0000e+00\n",
      "Epoch 1/1\n",
      "15/15 [==============================] - 0s 1ms/step - loss: 2.4805 - acc: 0.0667\n",
      "Epoch 1/1\n",
      "15/15 [==============================] - 0s 2ms/step - loss: 2.4569 - acc: 0.0667\n",
      "Epoch 1/1\n",
      "15/15 [==============================] - 0s 2ms/step - loss: 2.4341 - acc: 0.0667\n",
      "Epoch 1/1\n",
      "15/15 [==============================] - 0s 1ms/step - loss: 2.4115 - acc: 0.1333\n",
      "Epoch 1/1\n",
      "15/15 [==============================] - 0s 2ms/step - loss: 2.3890 - acc: 0.1333\n",
      "Epoch 1/1\n",
      "15/15 [==============================] - 0s 1ms/step - loss: 2.3671 - acc: 0.1333\n",
      "Epoch 1/1\n",
      "15/15 [==============================] - 0s 2ms/step - loss: 2.3452 - acc: 0.2000\n",
      "Epoch 1/1\n",
      "15/15 [==============================] - 0s 2ms/step - loss: 2.3236 - acc: 0.2667\n",
      "Epoch 1/1\n",
      "15/15 [==============================] - 0s 2ms/step - loss: 2.3023 - acc: 0.2667\n",
      "Epoch 1/1\n",
      "15/15 [==============================] - 0s 2ms/step - loss: 2.2813 - acc: 0.2667\n",
      "Epoch 1/1\n",
      "15/15 [==============================] - 0s 2ms/step - loss: 2.2602 - acc: 0.2667\n",
      "Epoch 1/1\n",
      "15/15 [==============================] - 0s 1ms/step - loss: 2.2392 - acc: 0.2667\n",
      "Epoch 1/1\n",
      "15/15 [==============================] - 0s 2ms/step - loss: 2.2183 - acc: 0.2667\n",
      "Epoch 1/1\n",
      "15/15 [==============================] - 0s 2ms/step - loss: 2.1978 - acc: 0.3333\n",
      "Epoch 1/1\n",
      "15/15 [==============================] - 0s 1ms/step - loss: 2.1775 - acc: 0.2667\n",
      "Epoch 1/1\n",
      "15/15 [==============================] - 0s 2ms/step - loss: 2.1574 - acc: 0.2667\n",
      "Epoch 1/1\n",
      "15/15 [==============================] - 0s 2ms/step - loss: 2.1375 - acc: 0.2667\n",
      "Epoch 1/1\n",
      "15/15 [==============================] - 0s 1ms/step - loss: 2.1170 - acc: 0.4667\n",
      "Epoch 1/1\n",
      "15/15 [==============================] - 0s 2ms/step - loss: 2.0972 - acc: 0.4667\n",
      "Epoch 1/1\n",
      "15/15 [==============================] - 0s 2ms/step - loss: 2.0778 - acc: 0.4667\n",
      "Epoch 1/1\n",
      "15/15 [==============================] - 0s 2ms/step - loss: 2.0588 - acc: 0.4667\n",
      "Epoch 1/1\n",
      "15/15 [==============================] - 0s 2ms/step - loss: 2.0401 - acc: 0.4667\n",
      "Epoch 1/1\n",
      "15/15 [==============================] - 0s 2ms/step - loss: 2.0216 - acc: 0.4667\n",
      "Epoch 1/1\n",
      "15/15 [==============================] - 0s 2ms/step - loss: 2.0033 - acc: 0.4667\n",
      "Epoch 1/1\n",
      "15/15 [==============================] - 0s 2ms/step - loss: 1.9852 - acc: 0.4667\n",
      "Epoch 1/1\n",
      "15/15 [==============================] - 0s 2ms/step - loss: 1.9669 - acc: 0.4667\n",
      "Epoch 1/1\n",
      "15/15 [==============================] - 0s 2ms/step - loss: 1.9493 - acc: 0.4667\n",
      "Epoch 1/1\n",
      "15/15 [==============================] - 0s 2ms/step - loss: 1.9322 - acc: 0.4667\n",
      "Epoch 1/1\n",
      "15/15 [==============================] - 0s 2ms/step - loss: 1.9141 - acc: 0.4667\n",
      "Epoch 1/1\n",
      "15/15 [==============================] - 0s 2ms/step - loss: 1.8971 - acc: 0.4667\n",
      "Epoch 1/1\n",
      "15/15 [==============================] - 0s 2ms/step - loss: 1.8805 - acc: 0.4667\n",
      "Epoch 1/1\n",
      "15/15 [==============================] - 0s 2ms/step - loss: 1.8636 - acc: 0.4667\n",
      "Epoch 1/1\n",
      "15/15 [==============================] - 0s 2ms/step - loss: 1.8474 - acc: 0.4667\n",
      "Epoch 1/1\n",
      "15/15 [==============================] - 0s 2ms/step - loss: 1.8315 - acc: 0.4667\n",
      "Epoch 1/1\n",
      "15/15 [==============================] - 0s 2ms/step - loss: 1.8151 - acc: 0.4667\n",
      "Epoch 1/1\n",
      "15/15 [==============================] - 0s 2ms/step - loss: 1.7995 - acc: 0.4667\n",
      "Epoch 1/1\n",
      "15/15 [==============================] - 0s 2ms/step - loss: 1.7844 - acc: 0.4667\n",
      "Epoch 1/1\n",
      "15/15 [==============================] - 0s 2ms/step - loss: 1.7696 - acc: 0.4667\n",
      "Epoch 1/1\n",
      "15/15 [==============================] - 0s 2ms/step - loss: 1.7551 - acc: 0.5333\n",
      "Epoch 1/1\n",
      "15/15 [==============================] - 0s 2ms/step - loss: 1.7404 - acc: 0.6000\n",
      "Epoch 1/1\n",
      "15/15 [==============================] - 0s 2ms/step - loss: 1.7263 - acc: 0.6667\n",
      "Epoch 1/1\n",
      "15/15 [==============================] - 0s 2ms/step - loss: 1.7126 - acc: 0.6667\n",
      "Epoch 1/1\n",
      "15/15 [==============================] - 0s 2ms/step - loss: 1.6992 - acc: 0.6667\n",
      "Epoch 1/1\n",
      "15/15 [==============================] - 0s 2ms/step - loss: 1.6861 - acc: 0.6667\n",
      "Epoch 1/1\n",
      "15/15 [==============================] - 0s 2ms/step - loss: 1.6732 - acc: 0.6667\n",
      "Epoch 1/1\n",
      "15/15 [==============================] - 0s 1ms/step - loss: 1.6605 - acc: 0.6667\n",
      "Epoch 1/1\n",
      "15/15 [==============================] - 0s 1ms/step - loss: 1.6481 - acc: 0.6667\n",
      "Epoch 1/1\n",
      "15/15 [==============================] - 0s 2ms/step - loss: 1.6359 - acc: 0.6667\n",
      "Epoch 1/1\n",
      "15/15 [==============================] - 0s 1ms/step - loss: 1.6239 - acc: 0.6667\n",
      "Epoch 1/1\n",
      "15/15 [==============================] - 0s 2ms/step - loss: 1.6121 - acc: 0.6667\n",
      "Epoch 1/1\n",
      "15/15 [==============================] - 0s 2ms/step - loss: 1.6004 - acc: 0.6667\n",
      "Epoch 1/1\n",
      "15/15 [==============================] - 0s 2ms/step - loss: 1.5887 - acc: 0.7333\n",
      "Epoch 1/1\n",
      "15/15 [==============================] - 0s 2ms/step - loss: 1.5766 - acc: 0.7333\n",
      "Epoch 1/1\n",
      "15/15 [==============================] - 0s 2ms/step - loss: 1.5650 - acc: 0.7333\n",
      "Epoch 1/1\n",
      "15/15 [==============================] - 0s 2ms/step - loss: 1.5535 - acc: 0.7333\n",
      "Epoch 1/1\n",
      "15/15 [==============================] - 0s 2ms/step - loss: 1.5413 - acc: 0.7333\n",
      "Epoch 1/1\n",
      "15/15 [==============================] - 0s 2ms/step - loss: 1.5299 - acc: 0.8000\n",
      "Epoch 1/1\n",
      "15/15 [==============================] - 0s 2ms/step - loss: 1.5189 - acc: 0.8000\n",
      "Epoch 1/1\n",
      "15/15 [==============================] - 0s 2ms/step - loss: 1.5080 - acc: 0.8000\n",
      "Epoch 1/1\n",
      "15/15 [==============================] - 0s 2ms/step - loss: 1.4972 - acc: 0.8000\n",
      "Epoch 1/1\n",
      "15/15 [==============================] - 0s 2ms/step - loss: 1.4860 - acc: 0.8000\n",
      "Epoch 1/1\n",
      "15/15 [==============================] - 0s 2ms/step - loss: 1.4752 - acc: 0.8000\n",
      "Epoch 1/1\n",
      "15/15 [==============================] - 0s 2ms/step - loss: 1.4642 - acc: 0.8000\n",
      "Epoch 1/1\n",
      "15/15 [==============================] - 0s 2ms/step - loss: 1.4510 - acc: 0.8000\n",
      "Epoch 1/1\n",
      "15/15 [==============================] - 0s 2ms/step - loss: 1.4405 - acc: 0.8000\n",
      "Epoch 1/1\n",
      "15/15 [==============================] - 0s 2ms/step - loss: 1.4307 - acc: 0.8000\n",
      "Epoch 1/1\n",
      "15/15 [==============================] - 0s 2ms/step - loss: 1.4212 - acc: 0.7333\n",
      "Epoch 1/1\n",
      "15/15 [==============================] - 0s 1ms/step - loss: 1.4120 - acc: 0.7333\n",
      "Epoch 1/1\n",
      "15/15 [==============================] - 0s 2ms/step - loss: 1.4029 - acc: 0.7333\n",
      "Epoch 1/1\n",
      "15/15 [==============================] - 0s 2ms/step - loss: 1.3938 - acc: 0.8000\n",
      "Epoch 1/1\n",
      "15/15 [==============================] - 0s 2ms/step - loss: 1.3850 - acc: 0.8000\n",
      "Epoch 1/1\n",
      "15/15 [==============================] - 0s 2ms/step - loss: 1.3764 - acc: 0.8000\n",
      "Epoch 1/1\n",
      "15/15 [==============================] - 0s 2ms/step - loss: 1.3679 - acc: 0.8000\n",
      "Epoch 1/1\n",
      "15/15 [==============================] - 0s 2ms/step - loss: 1.3588 - acc: 0.8000\n",
      "Epoch 1/1\n",
      "15/15 [==============================] - 0s 1ms/step - loss: 1.3505 - acc: 0.8000\n",
      "Epoch 1/1\n",
      "15/15 [==============================] - 0s 2ms/step - loss: 1.3416 - acc: 0.8000\n",
      "Epoch 1/1\n",
      "15/15 [==============================] - 0s 2ms/step - loss: 1.3333 - acc: 0.8000\n",
      "Epoch 1/1\n",
      "15/15 [==============================] - 0s 2ms/step - loss: 1.3259 - acc: 0.8000\n",
      "Epoch 1/1\n",
      "15/15 [==============================] - 0s 2ms/step - loss: 1.3186 - acc: 0.8000\n",
      "Epoch 1/1\n",
      "15/15 [==============================] - 0s 2ms/step - loss: 1.3116 - acc: 0.8000\n",
      "Epoch 1/1\n",
      "15/15 [==============================] - 0s 2ms/step - loss: 1.3047 - acc: 0.7333\n",
      "Epoch 1/1\n",
      "15/15 [==============================] - 0s 2ms/step - loss: 1.2979 - acc: 0.7333\n",
      "Epoch 1/1\n",
      "15/15 [==============================] - 0s 2ms/step - loss: 1.2911 - acc: 0.7333\n",
      "Epoch 1/1\n",
      "15/15 [==============================] - 0s 2ms/step - loss: 1.2844 - acc: 0.7333\n",
      "Epoch 1/1\n",
      "15/15 [==============================] - 0s 2ms/step - loss: 1.2764 - acc: 0.7333\n",
      "Epoch 1/1\n",
      "15/15 [==============================] - 0s 2ms/step - loss: 1.2653 - acc: 0.7333\n",
      "Epoch 1/1\n",
      "15/15 [==============================] - 0s 2ms/step - loss: 1.2577 - acc: 0.7333\n",
      "Epoch 1/1\n",
      "15/15 [==============================] - 0s 2ms/step - loss: 1.2510 - acc: 0.7333\n",
      "Epoch 1/1\n",
      "15/15 [==============================] - 0s 2ms/step - loss: 1.2442 - acc: 0.7333\n",
      "Epoch 1/1\n",
      "15/15 [==============================] - 0s 2ms/step - loss: 1.2375 - acc: 0.6667\n",
      "Epoch 1/1\n",
      "15/15 [==============================] - 0s 2ms/step - loss: 1.2285 - acc: 0.6667\n",
      "Epoch 1/1\n",
      "15/15 [==============================] - 0s 2ms/step - loss: 1.2206 - acc: 0.6667\n",
      "Epoch 1/1\n",
      "15/15 [==============================] - 0s 2ms/step - loss: 1.2135 - acc: 0.6667\n",
      "Epoch 1/1\n",
      "15/15 [==============================] - 0s 2ms/step - loss: 1.2068 - acc: 0.6667\n",
      "Epoch 1/1\n",
      "15/15 [==============================] - 0s 2ms/step - loss: 1.1977 - acc: 0.6667\n",
      "Epoch 1/1\n",
      "15/15 [==============================] - 0s 2ms/step - loss: 1.1831 - acc: 0.6667\n",
      "Epoch 1/1\n",
      "15/15 [==============================] - 0s 2ms/step - loss: 1.1748 - acc: 0.6667\n",
      "Epoch 1/1\n",
      "15/15 [==============================] - 0s 1ms/step - loss: 1.1681 - acc: 0.6667\n",
      "Epoch 1/1\n",
      "15/15 [==============================] - 0s 2ms/step - loss: 1.1617 - acc: 0.6667\n",
      "Epoch 1/1\n",
      "15/15 [==============================] - 0s 2ms/step - loss: 1.1553 - acc: 0.6667\n",
      "Epoch 1/1\n",
      "15/15 [==============================] - 0s 1ms/step - loss: 1.1483 - acc: 0.6667\n",
      "Epoch 1/1\n",
      "15/15 [==============================] - 0s 1ms/step - loss: 1.1384 - acc: 0.6667\n",
      "Epoch 1/1\n",
      "15/15 [==============================] - 0s 2ms/step - loss: 1.1308 - acc: 0.6667\n",
      "Epoch 1/1\n",
      "15/15 [==============================] - 0s 1ms/step - loss: 1.1236 - acc: 0.6667\n",
      "Epoch 1/1\n",
      "15/15 [==============================] - 0s 1ms/step - loss: 1.1143 - acc: 0.6667\n",
      "Epoch 1/1\n",
      "15/15 [==============================] - 0s 1ms/step - loss: 1.1063 - acc: 0.6667\n",
      "Epoch 1/1\n",
      "15/15 [==============================] - 0s 1ms/step - loss: 1.0987 - acc: 0.6667\n",
      "Epoch 1/1\n",
      "15/15 [==============================] - 0s 1ms/step - loss: 1.0891 - acc: 0.7333\n",
      "Epoch 1/1\n",
      "15/15 [==============================] - 0s 1ms/step - loss: 1.0808 - acc: 0.7333\n",
      "Epoch 1/1\n",
      "15/15 [==============================] - 0s 1ms/step - loss: 1.0727 - acc: 0.7333\n",
      "Epoch 1/1\n",
      "15/15 [==============================] - 0s 2ms/step - loss: 1.0645 - acc: 0.7333\n",
      "Epoch 1/1\n",
      "15/15 [==============================] - 0s 1ms/step - loss: 1.0563 - acc: 0.7333\n",
      "Epoch 1/1\n",
      "15/15 [==============================] - 0s 1ms/step - loss: 1.0481 - acc: 0.7333\n",
      "Epoch 1/1\n",
      "15/15 [==============================] - 0s 2ms/step - loss: 1.0398 - acc: 0.7333\n",
      "Epoch 1/1\n",
      "15/15 [==============================] - 0s 2ms/step - loss: 1.0314 - acc: 0.7333\n",
      "Epoch 1/1\n",
      "15/15 [==============================] - 0s 1ms/step - loss: 1.0231 - acc: 0.7333\n",
      "Epoch 1/1\n",
      "15/15 [==============================] - 0s 1ms/step - loss: 1.0148 - acc: 0.7333\n",
      "Epoch 1/1\n",
      "15/15 [==============================] - 0s 1ms/step - loss: 1.0065 - acc: 0.7333\n",
      "Epoch 1/1\n",
      "15/15 [==============================] - 0s 2ms/step - loss: 0.9983 - acc: 0.7333\n",
      "Epoch 1/1\n",
      "15/15 [==============================] - 0s 1ms/step - loss: 0.9901 - acc: 0.8000\n",
      "Epoch 1/1\n",
      "15/15 [==============================] - 0s 2ms/step - loss: 0.9819 - acc: 0.8000\n",
      "Epoch 1/1\n",
      "15/15 [==============================] - 0s 2ms/step - loss: 0.9738 - acc: 0.8000\n",
      "Epoch 1/1\n",
      "15/15 [==============================] - 0s 2ms/step - loss: 0.9657 - acc: 0.7333\n",
      "Epoch 1/1\n",
      "15/15 [==============================] - 0s 2ms/step - loss: 0.9577 - acc: 0.7333\n",
      "Epoch 1/1\n",
      "15/15 [==============================] - 0s 2ms/step - loss: 0.9497 - acc: 0.7333\n",
      "Epoch 1/1\n",
      "15/15 [==============================] - 0s 2ms/step - loss: 0.9418 - acc: 0.8000\n",
      "Epoch 1/1\n",
      "15/15 [==============================] - 0s 2ms/step - loss: 0.9339 - acc: 0.8000\n",
      "Epoch 1/1\n",
      "15/15 [==============================] - 0s 1ms/step - loss: 0.9261 - acc: 0.8000\n",
      "Epoch 1/1\n",
      "15/15 [==============================] - 0s 2ms/step - loss: 0.9183 - acc: 0.8000\n",
      "Epoch 1/1\n",
      "15/15 [==============================] - 0s 2ms/step - loss: 0.9106 - acc: 0.8000\n",
      "Epoch 1/1\n",
      "15/15 [==============================] - 0s 2ms/step - loss: 0.9028 - acc: 0.8000\n",
      "Epoch 1/1\n",
      "15/15 [==============================] - 0s 2ms/step - loss: 0.8932 - acc: 0.8000\n",
      "Epoch 1/1\n",
      "15/15 [==============================] - 0s 2ms/step - loss: 0.8852 - acc: 0.8000\n",
      "Epoch 1/1\n",
      "15/15 [==============================] - 0s 2ms/step - loss: 0.8783 - acc: 0.8000\n",
      "Epoch 1/1\n",
      "15/15 [==============================] - 0s 2ms/step - loss: 0.8714 - acc: 0.8000\n",
      "Epoch 1/1\n",
      "15/15 [==============================] - 0s 2ms/step - loss: 0.8642 - acc: 0.8000\n",
      "Epoch 1/1\n",
      "15/15 [==============================] - 0s 1ms/step - loss: 0.8570 - acc: 0.8000\n",
      "Epoch 1/1\n",
      "15/15 [==============================] - 0s 2ms/step - loss: 0.8497 - acc: 0.8000\n",
      "Epoch 1/1\n",
      "15/15 [==============================] - 0s 1ms/step - loss: 0.8421 - acc: 0.8000\n",
      "Epoch 1/1\n",
      "15/15 [==============================] - 0s 1ms/step - loss: 0.8358 - acc: 0.8000\n",
      "Epoch 1/1\n",
      "15/15 [==============================] - 0s 2ms/step - loss: 0.8290 - acc: 0.8667\n",
      "Epoch 1/1\n",
      "15/15 [==============================] - 0s 2ms/step - loss: 0.8214 - acc: 0.8667\n",
      "Epoch 1/1\n",
      "15/15 [==============================] - 0s 2ms/step - loss: 0.8126 - acc: 0.8667\n",
      "Epoch 1/1\n",
      "15/15 [==============================] - 0s 2ms/step - loss: 0.8054 - acc: 0.8667\n",
      "Epoch 1/1\n",
      "15/15 [==============================] - 0s 1ms/step - loss: 0.7981 - acc: 0.8667\n",
      "Epoch 1/1\n",
      "15/15 [==============================] - 0s 2ms/step - loss: 0.7899 - acc: 0.8667\n",
      "Epoch 1/1\n",
      "15/15 [==============================] - 0s 1ms/step - loss: 0.7826 - acc: 0.8667\n",
      "Epoch 1/1\n",
      "15/15 [==============================] - 0s 1ms/step - loss: 0.7747 - acc: 0.8667\n",
      "Epoch 1/1\n",
      "15/15 [==============================] - 0s 2ms/step - loss: 0.7686 - acc: 0.8667\n",
      "Epoch 1/1\n",
      "15/15 [==============================] - 0s 2ms/step - loss: 0.7615 - acc: 0.8667\n",
      "Epoch 1/1\n",
      "15/15 [==============================] - 0s 1ms/step - loss: 0.7548 - acc: 0.8667\n",
      "Epoch 1/1\n",
      "15/15 [==============================] - 0s 2ms/step - loss: 0.7484 - acc: 0.8667\n",
      "Epoch 1/1\n",
      "15/15 [==============================] - 0s 2ms/step - loss: 0.7423 - acc: 0.8667\n",
      "Epoch 1/1\n",
      "15/15 [==============================] - 0s 1ms/step - loss: 0.7370 - acc: 0.8667\n",
      "Epoch 1/1\n",
      "15/15 [==============================] - 0s 2ms/step - loss: 0.7332 - acc: 0.8667\n",
      "Epoch 1/1\n",
      "15/15 [==============================] - 0s 2ms/step - loss: 0.7296 - acc: 0.8667\n",
      "Epoch 1/1\n",
      "15/15 [==============================] - 0s 2ms/step - loss: 0.7246 - acc: 0.8000\n",
      "Epoch 1/1\n",
      "15/15 [==============================] - 0s 1ms/step - loss: 0.7144 - acc: 0.8667\n",
      "Epoch 1/1\n",
      "15/15 [==============================] - 0s 1ms/step - loss: 0.7068 - acc: 0.8667\n",
      "Epoch 1/1\n",
      "15/15 [==============================] - 0s 2ms/step - loss: 0.7020 - acc: 0.8667\n",
      "Epoch 1/1\n",
      "15/15 [==============================] - 0s 2ms/step - loss: 0.6935 - acc: 0.8667\n",
      "Epoch 1/1\n",
      "15/15 [==============================] - 0s 2ms/step - loss: 0.6876 - acc: 0.8667\n",
      "Epoch 1/1\n",
      "15/15 [==============================] - 0s 2ms/step - loss: 0.6820 - acc: 0.8667\n",
      "Epoch 1/1\n",
      "15/15 [==============================] - 0s 1ms/step - loss: 0.6766 - acc: 0.8667\n",
      "Epoch 1/1\n",
      "15/15 [==============================] - 0s 2ms/step - loss: 0.6717 - acc: 0.8667\n",
      "Epoch 1/1\n",
      "15/15 [==============================] - 0s 2ms/step - loss: 0.6672 - acc: 0.8667\n",
      "Epoch 1/1\n",
      "15/15 [==============================] - 0s 2ms/step - loss: 0.6628 - acc: 0.8667\n",
      "Epoch 1/1\n",
      "15/15 [==============================] - 0s 1ms/step - loss: 0.6584 - acc: 0.8667\n",
      "Epoch 1/1\n",
      "15/15 [==============================] - 0s 2ms/step - loss: 0.6541 - acc: 0.9333\n",
      "Epoch 1/1\n",
      "15/15 [==============================] - 0s 2ms/step - loss: 0.6498 - acc: 0.9333\n",
      "Epoch 1/1\n",
      "15/15 [==============================] - 0s 2ms/step - loss: 0.6449 - acc: 0.9333\n",
      "Epoch 1/1\n",
      "15/15 [==============================] - 0s 1ms/step - loss: 0.6399 - acc: 0.9333\n",
      "Epoch 1/1\n",
      "15/15 [==============================] - 0s 2ms/step - loss: 0.6349 - acc: 0.9333\n",
      "Epoch 1/1\n",
      "15/15 [==============================] - 0s 2ms/step - loss: 0.6304 - acc: 0.9333\n",
      "Epoch 1/1\n",
      "15/15 [==============================] - 0s 1ms/step - loss: 0.6263 - acc: 0.9333\n",
      "Epoch 1/1\n",
      "15/15 [==============================] - 0s 2ms/step - loss: 0.6224 - acc: 0.9333\n",
      "Epoch 1/1\n",
      "15/15 [==============================] - 0s 1ms/step - loss: 0.6182 - acc: 0.9333\n",
      "Epoch 1/1\n",
      "15/15 [==============================] - 0s 2ms/step - loss: 0.6139 - acc: 0.9333\n",
      "Epoch 1/1\n",
      "15/15 [==============================] - 0s 1ms/step - loss: 0.6090 - acc: 0.9333\n",
      "Epoch 1/1\n",
      "15/15 [==============================] - 0s 2ms/step - loss: 0.6030 - acc: 0.9333\n",
      "Epoch 1/1\n",
      "15/15 [==============================] - 0s 1ms/step - loss: 0.5982 - acc: 0.9333\n",
      "Epoch 1/1\n",
      "15/15 [==============================] - 0s 1ms/step - loss: 0.5935 - acc: 0.9333\n",
      "Epoch 1/1\n",
      "15/15 [==============================] - 0s 2ms/step - loss: 0.5869 - acc: 0.9333\n",
      "Epoch 1/1\n",
      "15/15 [==============================] - 0s 1ms/step - loss: 0.5822 - acc: 0.9333\n",
      "Epoch 1/1\n",
      "15/15 [==============================] - 0s 2ms/step - loss: 0.5780 - acc: 0.9333\n",
      "Epoch 1/1\n",
      "15/15 [==============================] - 0s 1ms/step - loss: 0.5738 - acc: 1.0000\n",
      "Epoch 1/1\n",
      "15/15 [==============================] - 0s 2ms/step - loss: 0.5691 - acc: 1.0000\n",
      "Epoch 1/1\n",
      "15/15 [==============================] - 0s 1ms/step - loss: 0.5636 - acc: 1.0000\n",
      "Epoch 1/1\n",
      "15/15 [==============================] - 0s 1ms/step - loss: 0.5588 - acc: 1.0000\n",
      "Epoch 1/1\n",
      "15/15 [==============================] - 0s 2ms/step - loss: 0.5543 - acc: 1.0000\n",
      "Epoch 1/1\n",
      "15/15 [==============================] - 0s 2ms/step - loss: 0.5499 - acc: 1.0000\n",
      "Epoch 1/1\n",
      "15/15 [==============================] - 0s 1ms/step - loss: 0.5451 - acc: 1.0000\n",
      "Epoch 1/1\n",
      "15/15 [==============================] - 0s 2ms/step - loss: 0.5401 - acc: 1.0000\n",
      "Epoch 1/1\n",
      "15/15 [==============================] - 0s 2ms/step - loss: 0.5350 - acc: 1.0000\n",
      "Epoch 1/1\n",
      "15/15 [==============================] - 0s 2ms/step - loss: 0.5300 - acc: 1.0000\n",
      "Epoch 1/1\n",
      "15/15 [==============================] - 0s 1ms/step - loss: 0.5251 - acc: 1.0000\n",
      "Epoch 1/1\n",
      "15/15 [==============================] - 0s 2ms/step - loss: 0.5221 - acc: 1.0000\n",
      "Epoch 1/1\n",
      "15/15 [==============================] - 0s 1ms/step - loss: 0.5167 - acc: 1.0000\n",
      "Epoch 1/1\n",
      "15/15 [==============================] - 0s 2ms/step - loss: 0.5098 - acc: 1.0000\n",
      "Epoch 1/1\n",
      "15/15 [==============================] - 0s 1ms/step - loss: 0.5034 - acc: 1.0000\n",
      "Epoch 1/1\n",
      "15/15 [==============================] - 0s 2ms/step - loss: 0.4984 - acc: 1.0000\n",
      "Epoch 1/1\n",
      "15/15 [==============================] - 0s 1ms/step - loss: 0.4923 - acc: 1.0000\n",
      "Epoch 1/1\n",
      "15/15 [==============================] - 0s 2ms/step - loss: 0.4887 - acc: 1.0000\n",
      "Epoch 1/1\n",
      "15/15 [==============================] - 0s 1ms/step - loss: 0.4859 - acc: 1.0000\n",
      "Epoch 1/1\n",
      "15/15 [==============================] - 0s 2ms/step - loss: 0.4825 - acc: 1.0000\n",
      "Epoch 1/1\n",
      "15/15 [==============================] - 0s 1ms/step - loss: 0.4785 - acc: 1.0000\n",
      "Epoch 1/1\n",
      "15/15 [==============================] - 0s 2ms/step - loss: 0.4724 - acc: 1.0000\n",
      "Epoch 1/1\n",
      "15/15 [==============================] - 0s 1ms/step - loss: 0.4674 - acc: 1.0000\n",
      "Epoch 1/1\n",
      "15/15 [==============================] - 0s 2ms/step - loss: 0.4637 - acc: 1.0000\n",
      "Epoch 1/1\n",
      "15/15 [==============================] - 0s 1ms/step - loss: 0.4601 - acc: 1.0000\n",
      "Epoch 1/1\n",
      "15/15 [==============================] - 0s 2ms/step - loss: 0.4531 - acc: 1.0000\n",
      "Epoch 1/1\n",
      "15/15 [==============================] - 0s 2ms/step - loss: 0.4493 - acc: 1.0000\n",
      "Epoch 1/1\n",
      "15/15 [==============================] - 0s 1ms/step - loss: 0.4470 - acc: 1.0000\n",
      "Epoch 1/1\n",
      "15/15 [==============================] - 0s 2ms/step - loss: 0.4446 - acc: 1.0000\n",
      "Epoch 1/1\n",
      "15/15 [==============================] - 0s 1ms/step - loss: 0.4413 - acc: 1.0000\n",
      "Epoch 1/1\n",
      "15/15 [==============================] - 0s 2ms/step - loss: 0.4374 - acc: 1.0000\n",
      "Epoch 1/1\n",
      "15/15 [==============================] - 0s 1ms/step - loss: 0.4335 - acc: 1.0000\n",
      "Epoch 1/1\n",
      "15/15 [==============================] - 0s 2ms/step - loss: 0.4296 - acc: 1.0000\n",
      "Epoch 1/1\n",
      "15/15 [==============================] - 0s 1ms/step - loss: 0.4258 - acc: 1.0000\n",
      "Epoch 1/1\n",
      "15/15 [==============================] - 0s 2ms/step - loss: 0.4221 - acc: 1.0000\n",
      "Epoch 1/1\n",
      "15/15 [==============================] - 0s 2ms/step - loss: 0.4182 - acc: 1.0000\n",
      "Epoch 1/1\n",
      "15/15 [==============================] - 0s 2ms/step - loss: 0.4120 - acc: 1.0000\n",
      "Epoch 1/1\n",
      "15/15 [==============================] - 0s 1ms/step - loss: 0.4075 - acc: 1.0000\n",
      "Epoch 1/1\n",
      "15/15 [==============================] - 0s 1ms/step - loss: 0.4047 - acc: 1.0000\n",
      "Epoch 1/1\n",
      "15/15 [==============================] - 0s 2ms/step - loss: 0.4018 - acc: 1.0000\n",
      "Epoch 1/1\n",
      "15/15 [==============================] - 0s 1ms/step - loss: 0.3983 - acc: 1.0000\n",
      "Epoch 1/1\n",
      "15/15 [==============================] - 0s 2ms/step - loss: 0.3942 - acc: 1.0000\n",
      "Epoch 1/1\n",
      "15/15 [==============================] - 0s 1ms/step - loss: 0.3900 - acc: 1.0000\n",
      "Epoch 1/1\n",
      "15/15 [==============================] - 0s 2ms/step - loss: 0.3854 - acc: 1.0000\n",
      "Epoch 1/1\n",
      "15/15 [==============================] - 0s 1ms/step - loss: 0.3803 - acc: 1.0000\n",
      "Epoch 1/1\n",
      "15/15 [==============================] - 0s 2ms/step - loss: 0.3748 - acc: 1.0000\n",
      "Epoch 1/1\n",
      "15/15 [==============================] - 0s 1ms/step - loss: 0.3711 - acc: 1.0000\n",
      "Epoch 1/1\n",
      "15/15 [==============================] - 0s 1ms/step - loss: 0.3676 - acc: 1.0000\n",
      "Epoch 1/1\n",
      "15/15 [==============================] - 0s 2ms/step - loss: 0.3642 - acc: 1.0000\n",
      "Epoch 1/1\n",
      "15/15 [==============================] - 0s 1ms/step - loss: 0.3609 - acc: 1.0000\n",
      "Epoch 1/1\n",
      "15/15 [==============================] - 0s 2ms/step - loss: 0.3586 - acc: 1.0000\n",
      "Epoch 1/1\n",
      "15/15 [==============================] - 0s 1ms/step - loss: 0.3564 - acc: 1.0000\n",
      "Epoch 1/1\n",
      "15/15 [==============================] - 0s 2ms/step - loss: 0.3531 - acc: 1.0000\n",
      "Epoch 1/1\n",
      "15/15 [==============================] - 0s 1ms/step - loss: 0.3498 - acc: 1.0000\n",
      "Epoch 1/1\n",
      "15/15 [==============================] - 0s 1ms/step - loss: 0.3465 - acc: 1.0000\n",
      "Epoch 1/1\n",
      "15/15 [==============================] - 0s 2ms/step - loss: 0.3432 - acc: 1.0000\n",
      "Epoch 1/1\n",
      "15/15 [==============================] - 0s 1ms/step - loss: 0.3403 - acc: 1.0000\n",
      "Epoch 1/1\n",
      "15/15 [==============================] - 0s 2ms/step - loss: 0.3370 - acc: 1.0000\n",
      "Epoch 1/1\n",
      "15/15 [==============================] - 0s 1ms/step - loss: 0.3340 - acc: 1.0000\n",
      "Epoch 1/1\n",
      "15/15 [==============================] - 0s 1ms/step - loss: 0.3317 - acc: 1.0000\n",
      "Epoch 1/1\n",
      "15/15 [==============================] - 0s 1ms/step - loss: 0.3294 - acc: 1.0000\n",
      "Epoch 1/1\n",
      "15/15 [==============================] - 0s 1ms/step - loss: 0.3272 - acc: 1.0000\n",
      "Epoch 1/1\n",
      "15/15 [==============================] - 0s 2ms/step - loss: 0.3250 - acc: 1.0000\n",
      "Epoch 1/1\n",
      "15/15 [==============================] - 0s 1ms/step - loss: 0.3223 - acc: 1.0000\n",
      "Epoch 1/1\n",
      "15/15 [==============================] - 0s 1ms/step - loss: 0.3196 - acc: 1.0000\n",
      "Epoch 1/1\n",
      "15/15 [==============================] - 0s 2ms/step - loss: 0.3170 - acc: 1.0000\n",
      "Epoch 1/1\n",
      "15/15 [==============================] - 0s 2ms/step - loss: 0.3144 - acc: 1.0000\n",
      "Epoch 1/1\n",
      "15/15 [==============================] - 0s 1ms/step - loss: 0.3118 - acc: 1.0000\n",
      "Epoch 1/1\n",
      "15/15 [==============================] - 0s 1ms/step - loss: 0.3090 - acc: 1.0000\n",
      "Epoch 1/1\n",
      "15/15 [==============================] - 0s 2ms/step - loss: 0.3048 - acc: 1.0000\n",
      "Epoch 1/1\n",
      "15/15 [==============================] - 0s 1ms/step - loss: 0.3016 - acc: 1.0000\n",
      "Epoch 1/1\n",
      "15/15 [==============================] - 0s 1ms/step - loss: 0.2985 - acc: 1.0000\n",
      "Epoch 1/1\n",
      "15/15 [==============================] - 0s 2ms/step - loss: 0.2954 - acc: 1.0000\n",
      "Epoch 1/1\n",
      "15/15 [==============================] - 0s 1ms/step - loss: 0.2924 - acc: 1.0000\n",
      "Epoch 1/1\n",
      "15/15 [==============================] - 0s 2ms/step - loss: 0.2895 - acc: 1.0000\n",
      "Epoch 1/1\n",
      "15/15 [==============================] - 0s 1ms/step - loss: 0.2863 - acc: 1.0000\n",
      "Epoch 1/1\n",
      "15/15 [==============================] - 0s 1ms/step - loss: 0.2807 - acc: 1.0000\n",
      "Epoch 1/1\n",
      "15/15 [==============================] - 0s 2ms/step - loss: 0.2776 - acc: 1.0000\n",
      "Epoch 1/1\n",
      "15/15 [==============================] - 0s 1ms/step - loss: 0.2750 - acc: 1.0000\n",
      "Epoch 1/1\n",
      "15/15 [==============================] - 0s 1ms/step - loss: 0.2727 - acc: 1.0000\n",
      "Epoch 1/1\n",
      "15/15 [==============================] - 0s 2ms/step - loss: 0.2704 - acc: 1.0000\n",
      "Epoch 1/1\n",
      "15/15 [==============================] - 0s 1ms/step - loss: 0.2681 - acc: 1.0000\n",
      "Epoch 1/1\n",
      "15/15 [==============================] - 0s 2ms/step - loss: 0.2660 - acc: 1.0000\n",
      "Epoch 1/1\n",
      "15/15 [==============================] - 0s 2ms/step - loss: 0.2638 - acc: 1.0000\n",
      "Epoch 1/1\n",
      "15/15 [==============================] - 0s 1ms/step - loss: 0.2617 - acc: 1.0000\n",
      "Epoch 1/1\n",
      "15/15 [==============================] - 0s 2ms/step - loss: 0.2597 - acc: 1.0000\n",
      "Epoch 1/1\n",
      "15/15 [==============================] - 0s 1ms/step - loss: 0.2576 - acc: 1.0000\n",
      "Epoch 1/1\n",
      "15/15 [==============================] - 0s 1ms/step - loss: 0.2556 - acc: 1.0000\n",
      "Epoch 1/1\n",
      "15/15 [==============================] - 0s 2ms/step - loss: 0.2536 - acc: 1.0000\n",
      "Epoch 1/1\n",
      "15/15 [==============================] - 0s 1ms/step - loss: 0.2517 - acc: 1.0000\n",
      "Epoch 1/1\n",
      "15/15 [==============================] - 0s 1ms/step - loss: 0.2493 - acc: 1.0000\n",
      "Epoch 1/1\n",
      "15/15 [==============================] - 0s 2ms/step - loss: 0.2456 - acc: 1.0000\n",
      "Epoch 1/1\n",
      "15/15 [==============================] - 0s 2ms/step - loss: 0.2451 - acc: 1.0000\n",
      "Epoch 1/1\n",
      "15/15 [==============================] - 0s 2ms/step - loss: 0.2435 - acc: 1.0000\n",
      "Epoch 1/1\n",
      "15/15 [==============================] - 0s 2ms/step - loss: 0.2417 - acc: 1.0000\n",
      "Epoch 1/1\n",
      "15/15 [==============================] - 0s 1ms/step - loss: 0.2400 - acc: 1.0000\n",
      "Epoch 1/1\n",
      "15/15 [==============================] - 0s 2ms/step - loss: 0.2385 - acc: 1.0000\n",
      "Epoch 1/1\n",
      "15/15 [==============================] - 0s 2ms/step - loss: 0.2371 - acc: 1.0000\n",
      "Epoch 1/1\n",
      "15/15 [==============================] - 0s 1ms/step - loss: 0.2353 - acc: 1.0000\n",
      "Epoch 1/1\n",
      "15/15 [==============================] - 0s 1ms/step - loss: 0.2341 - acc: 1.0000\n",
      "Epoch 1/1\n",
      "15/15 [==============================] - 0s 1ms/step - loss: 0.2331 - acc: 1.0000\n",
      "Epoch 1/1\n",
      "15/15 [==============================] - 0s 1ms/step - loss: 0.2323 - acc: 1.0000\n",
      "Epoch 1/1\n",
      "15/15 [==============================] - 0s 1ms/step - loss: 0.2318 - acc: 1.0000\n",
      "Epoch 1/1\n",
      "15/15 [==============================] - 0s 1ms/step - loss: 0.2326 - acc: 1.0000\n",
      "Epoch 1/1\n",
      "15/15 [==============================] - 0s 2ms/step - loss: 0.2315 - acc: 1.0000\n",
      "Epoch 1/1\n",
      "15/15 [==============================] - 0s 1ms/step - loss: 0.2326 - acc: 1.0000\n",
      "Epoch 1/1\n",
      "15/15 [==============================] - 0s 2ms/step - loss: 0.2324 - acc: 1.0000\n",
      "Epoch 1/1\n",
      "15/15 [==============================] - 0s 2ms/step - loss: 0.2332 - acc: 1.0000\n",
      "Epoch 1/1\n",
      "15/15 [==============================] - 0s 1ms/step - loss: 0.2349 - acc: 1.0000\n",
      "Epoch 1/1\n",
      "15/15 [==============================] - 0s 2ms/step - loss: 0.2366 - acc: 1.0000\n",
      "Epoch 1/1\n",
      "15/15 [==============================] - 0s 2ms/step - loss: 0.2377 - acc: 1.0000\n",
      "Epoch 1/1\n",
      "15/15 [==============================] - 0s 1ms/step - loss: 0.2380 - acc: 1.0000\n",
      "Epoch 1/1\n",
      "15/15 [==============================] - 0s 2ms/step - loss: 0.2394 - acc: 1.0000\n",
      "Epoch 1/1\n",
      "15/15 [==============================] - 0s 1ms/step - loss: 0.2385 - acc: 1.0000\n"
     ]
    }
   ],
   "source": [
    "model_4.compile(optimizer='adam', loss='categorical_crossentropy', metrics=['accuracy'])\n",
    "for i in range(300):\n",
    "    model_4.fit(X, y, epochs=1, batch_size=batch_size, verbose=1, shuffle=False)\n",
    "    model_4.reset_states()"
   ]
  },
  {
   "cell_type": "markdown",
   "metadata": {},
   "source": [
    "#### Secuencias variables en Keras\n",
    "#### Padding + Masking"
   ]
  },
  {
   "cell_type": "code",
   "execution_count": 28,
   "metadata": {},
   "outputs": [],
   "source": [
    "from keras.layers import Masking"
   ]
  },
  {
   "cell_type": "code",
   "execution_count": 32,
   "metadata": {},
   "outputs": [],
   "source": [
    "def code_chars(X, y, chars_to_indices):\n",
    "    X_coded = []\n",
    "    y_coded = []\n",
    "    for i, xi in enumerate(X):\n",
    "        one_h_y = [0]*(len(chars_to_indices) - 1) # Menos 1 por el '' agregado\n",
    "        vect = []\n",
    "        for c in xi:\n",
    "            one_h = [0]*(len(chars_to_indices) - 1)\n",
    "            if c == '':\n",
    "                vect.append(one_h)\n",
    "            else:\n",
    "                one_h[chars_to_indices[c]] = 1\n",
    "                vect.append(one_h)\n",
    "        X_coded.append(vect)\n",
    "        one_h_y[chars_to_indices[y[i]]] = 1\n",
    "        y_coded.append(one_h_y)\n",
    "    return np.array(X_coded), np.array(y_coded)"
   ]
  },
  {
   "cell_type": "code",
   "execution_count": 33,
   "metadata": {},
   "outputs": [],
   "source": [
    "def window_transform_text_padding_mode(text):\n",
    "    len_out = len(text)\n",
    "    text = text\n",
    "    X = []\n",
    "    y = []\n",
    "    for i in range(len_out):\n",
    "        #X.append()\n",
    "        output_start = ['']*(len_out-1)\n",
    "        output_start[len_out-i-1:len_out] = text[0:i]\n",
    "        X.append(output_start)\n",
    "        y.append(text[i])\n",
    "    return X, y"
   ]
  },
  {
   "cell_type": "code",
   "execution_count": 36,
   "metadata": {},
   "outputs": [],
   "source": [
    "X_5, y_5 = window_transform_text_padding_mode(text)"
   ]
  },
  {
   "cell_type": "code",
   "execution_count": 38,
   "metadata": {},
   "outputs": [],
   "source": [
    "chars = sorted(set(text))\n",
    "chars_to_indices = dict((c, i) for i, c in enumerate(chars))\n",
    "chars_to_indices[''] = -1\n",
    "X_coded, y_coded = code_chars(X_5, y_5, chars_to_indices)"
   ]
  },
  {
   "cell_type": "code",
   "execution_count": 39,
   "metadata": {},
   "outputs": [
    {
     "name": "stdout",
     "output_type": "stream",
     "text": [
      "_________________________________________________________________\n",
      "Layer (type)                 Output Shape              Param #   \n",
      "=================================================================\n",
      "masking_1 (Masking)          (None, 15, 11)            0         \n",
      "_________________________________________________________________\n",
      "simple_rnn_4 (SimpleRNN)     (None, 10)                220       \n",
      "_________________________________________________________________\n",
      "dense_4 (Dense)              (None, 11)                121       \n",
      "=================================================================\n",
      "Total params: 341\n",
      "Trainable params: 341\n",
      "Non-trainable params: 0\n",
      "_________________________________________________________________\n"
     ]
    }
   ],
   "source": [
    "model_6 = Sequential()\n",
    "model_6.add(Masking(mask_value=0., input_shape=(X_coded.shape[1],X_coded.shape[2])))\n",
    "model_6.add(SimpleRNN(10))\n",
    "model_6.add(Dense(len(chars), activation=\"softmax\"))\n",
    "model_6.summary()"
   ]
  },
  {
   "cell_type": "code",
   "execution_count": 40,
   "metadata": {},
   "outputs": [
    {
     "data": {
      "image/png": "[encoded data removed]",
      "text/plain": [
       "<matplotlib.figure.Figure at 0x18217fdc88>"
      ]
     },
     "metadata": {},
     "output_type": "display_data"
    },
    {
     "name": "stdout",
     "output_type": "stream",
     "text": [
      "Epoch 992/1000\n",
      "16/16 [==============================] - 0s 4ms/step - loss: 0.0054 - acc: 1.0000\n",
      "Epoch 993/1000\n",
      "16/16 [==============================] - 0s 4ms/step - loss: 0.0054 - acc: 1.0000\n",
      "Epoch 994/1000\n",
      "16/16 [==============================] - 0s 4ms/step - loss: 0.0054 - acc: 1.0000\n",
      "Epoch 995/1000\n",
      "16/16 [==============================] - 0s 4ms/step - loss: 0.0053 - acc: 1.0000\n",
      "Epoch 996/1000\n",
      "16/16 [==============================] - 0s 4ms/step - loss: 0.0053 - acc: 1.0000\n",
      "Epoch 997/1000\n",
      "16/16 [==============================] - 0s 4ms/step - loss: 0.0053 - acc: 1.0000\n",
      "Epoch 998/1000\n",
      "16/16 [==============================] - 0s 4ms/step - loss: 0.0052 - acc: 1.0000\n",
      "Epoch 999/1000\n",
      "16/16 [==============================] - 0s 4ms/step - loss: 0.0052 - acc: 1.0000\n",
      "Epoch 1000/1000\n",
      "16/16 [==============================] - 0s 4ms/step - loss: 0.0052 - acc: 1.0000\n"
     ]
    },
    {
     "data": {
      "text/plain": [
       "<keras.callbacks.History at 0x106743f60>"
      ]
     },
     "execution_count": 40,
     "metadata": {},
     "output_type": "execute_result"
    }
   ],
   "source": [
    "model_6.compile(optimizer='adam', loss='categorical_crossentropy', metrics=['accuracy'])\n",
    "plot_losses = PlotLosses(plot_interval=10, evaluate_interval=None)\n",
    "model_6.fit(X_coded,y_coded, epochs=1000, batch_size=1, verbose=1, callbacks=[plot_losses])"
   ]
  },
  {
   "cell_type": "code",
   "execution_count": 43,
   "metadata": {},
   "outputs": [
    {
     "name": "stdout",
     "output_type": "stream",
     "text": [
      "['', '', '', '', '', '', '', '', '', '', '', '', '', '', ''] -> M 0.92\n",
      "['', '', '', '', '', '', '', '', '', '', '', '', '', '', 'M'] -> A 0.99\n",
      "['', '', '', '', '', '', '', '', '', '', '', '', '', 'M', 'A'] -> C 0.99\n",
      "['', '', '', '', '', '', '', '', '', '', '', '', 'M', 'A', 'C'] -> H 0.99\n",
      "['', '', '', '', '', '', '', '', '', '', '', 'M', 'A', 'C', 'H'] -> I 0.99\n",
      "['', '', '', '', '', '', '', '', '', '', 'M', 'A', 'C', 'H', 'I'] -> N 0.99\n",
      "['', '', '', '', '', '', '', '', '', 'M', 'A', 'C', 'H', 'I', 'N'] -> E 0.99\n",
      "['', '', '', '', '', '', '', '', 'M', 'A', 'C', 'H', 'I', 'N', 'E'] ->   0.99\n",
      "['', '', '', '', '', '', '', 'M', 'A', 'C', 'H', 'I', 'N', 'E', ' '] -> L 0.99\n",
      "['', '', '', '', '', '', 'M', 'A', 'C', 'H', 'I', 'N', 'E', ' ', 'L'] -> E 0.99\n",
      "['', '', '', '', '', 'M', 'A', 'C', 'H', 'I', 'N', 'E', ' ', 'L', 'E'] -> A 0.99\n",
      "['', '', '', '', 'M', 'A', 'C', 'H', 'I', 'N', 'E', ' ', 'L', 'E', 'A'] -> R 0.99\n",
      "['', '', '', 'M', 'A', 'C', 'H', 'I', 'N', 'E', ' ', 'L', 'E', 'A', 'R'] -> N 0.99\n",
      "['', '', 'M', 'A', 'C', 'H', 'I', 'N', 'E', ' ', 'L', 'E', 'A', 'R', 'N'] -> I 0.99\n",
      "['', 'M', 'A', 'C', 'H', 'I', 'N', 'E', ' ', 'L', 'E', 'A', 'R', 'N', 'I'] -> N 0.99\n",
      "['M', 'A', 'C', 'H', 'I', 'N', 'E', ' ', 'L', 'E', 'A', 'R', 'N', 'I', 'N'] -> G 0.99\n"
     ]
    }
   ],
   "source": [
    "to_predict = X_coded\n",
    "predicted = model_6.predict(to_predict)\n",
    "for i, row in enumerate(predicted):\n",
    "    idx = np.argmax(row)\n",
    "    print(X_5[i], '->', indices_to_chars[idx], int(row[idx]*100)/100)"
   ]
  }
 ],
 "metadata": {
  "kernelspec": {
   "display_name": "Python 3",
   "language": "python",
   "name": "python3"
  },
  "language_info": {
   "codemirror_mode": {
    "name": "ipython",
    "version": 3
   },
   "file_extension": ".py",
   "mimetype": "text/x-python",
   "name": "python",
   "nbconvert_exporter": "python",
   "pygments_lexer": "ipython3",
   "version": "3.6.4"
  }
 },
 "nbformat": 4,
 "nbformat_minor": 2
}
