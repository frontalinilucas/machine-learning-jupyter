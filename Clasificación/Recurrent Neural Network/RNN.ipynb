{
 "cells": [
  {
   "cell_type": "markdown",
   "metadata": {},
   "source": [
    "# Redes Neuronales Recurrentes (RNN)"
   ]
  },
  {
   "cell_type": "markdown",
   "metadata": {},
   "source": [
    "- MLP y CNN solo aceptan un vector de entrada de tamaño fijo y devuelve un vector de salida de tamaño fijo, en cambio, RNN trabaja con secuencias variables tanto a la entrada como a la salida.\n",
    "- Encontrar una fórmula que explique una secuencia ordenada, recursivamente. \n",
    "- Usar la salida de una red, para entrenar otra red.\n",
    "- RNN tiene memoria a corto plazo, y a largo plazo suele tener problemas. Es ahí donde aparecen las LSTM (redes de memoria a largo plazo), para mejorar este aspecto."
   ]
  },
  {
   "cell_type": "markdown",
   "metadata": {},
   "source": [
    "![rnn.jpeg](../../Imagenes/rnn.jpeg)"
   ]
  },
  {
   "cell_type": "markdown",
   "metadata": {},
   "source": [
    "Aclaraciones: \n",
    "- Cada cuadrado NO es una neurona si no una capa que puede contener N neuronas\n",
    "- Cada flecha representa la interconexión entre dos capas. Los pesos forman una matriz de la N1xN2 donde N1 y N2 son la cantidad de neuronas en cada capa respectivamente."
   ]
  },
  {
   "cell_type": "markdown",
   "metadata": {},
   "source": [
    "#### Tipos\n",
    "- **One to One**: CNN, MLP\n",
    "- **One to many**: [Image captioning](https://www.youtube.com/watch?v=xKt21ucdBY0)\n",
    "- **Many to one**: Sentiment Analisys, Detectar voz de hombre vs voz de mujer\n",
    "- **Many to Many** [(sequence to sequence)](https://youtu.be/dkHdEAJnV_w): [Traducción](https://github.com/jganzabal/aind2-nlp-capstone/blob/master/machine_translation.ipynb)\n",
    "- **Many to Many Sincronizado**: Etiquetado de tramas de video, Controlar una silla de ruedas, POS (Part of Speech) cada palabra se clasifica en verbo, articulo, etc"
   ]
  },
  {
   "cell_type": "markdown",
   "metadata": {},
   "source": [
    "#### Usos\n",
    "- Predecir la proxima palabra en funcion de las anteriores\n",
    "- Predecir el proximo caracter en función de los anteriores\n",
    "- **No es buena** para predecir el futuro en secuencias temporales\n",
    "\n",
    "**Resultado**: Probabilidad en función de una secuencia\n",
    "\n",
    "(Mas allá de la posibilidad de generar texto):\n",
    "- OCR\n",
    "- Speach2Text\n",
    "- Detección de autores"
   ]
  },
  {
   "cell_type": "markdown",
   "metadata": {},
   "source": [
    "---\n",
    "**Parámetros**: \n",
    "- N => Cantidad de muestras\n",
    "- T => Longitud de la secuencia (Cantidad de caracteres de cada muestra)\n",
    "- D => Cantidad de features"
   ]
  },
  {
   "cell_type": "code",
   "execution_count": 2,
   "metadata": {},
   "outputs": [
    {
     "name": "stderr",
     "output_type": "stream",
     "text": [
      "/anaconda3/lib/python3.6/site-packages/h5py/__init__.py:36: FutureWarning: Conversion of the second argument of issubdtype from `float` to `np.floating` is deprecated. In future, it will be treated as `np.float64 == np.dtype(float).type`.\n",
      "  from ._conv import register_converters as _register_converters\n",
      "Using TensorFlow backend.\n"
     ]
    }
   ],
   "source": [
    "from keras.layers import SimpleRNN, Dense\n",
    "from keras.models import Sequential\n",
    "from RNN_utils import encode_io_pairs, chars_to_one_hot, sample, window_transform_text\n",
    "import numpy as np\n",
    "\n",
    "import sys\n",
    "sys.path.insert(0, '../../Utils')\n",
    "from fnn_helper import PlotLosses"
   ]
  },
  {
   "cell_type": "code",
   "execution_count": 3,
   "metadata": {},
   "outputs": [
    {
     "name": "stdout",
     "output_type": "stream",
     "text": [
      "[[[0 0 0 0 0 0 0 0 1 0 0]\n",
      "  [0 1 0 0 0 0 0 0 0 0 0]\n",
      "  [0 0 1 0 0 0 0 0 0 0 0]\n",
      "  [0 0 0 0 0 1 0 0 0 0 0]\n",
      "  [0 0 0 0 0 0 1 0 0 0 0]\n",
      "  [0 0 0 0 0 0 0 0 0 1 0]\n",
      "  [0 0 0 1 0 0 0 0 0 0 0]\n",
      "  [1 0 0 0 0 0 0 0 0 0 0]\n",
      "  [0 0 0 0 0 0 0 1 0 0 0]\n",
      "  [0 0 0 1 0 0 0 0 0 0 0]\n",
      "  [0 1 0 0 0 0 0 0 0 0 0]\n",
      "  [0 0 0 0 0 0 0 0 0 0 1]\n",
      "  [0 0 0 0 0 0 0 0 0 1 0]\n",
      "  [0 0 0 0 0 0 1 0 0 0 0]\n",
      "  [0 0 0 0 0 0 0 0 0 1 0]\n",
      "  [0 0 0 0 1 0 0 0 0 0 0]]]\n"
     ]
    }
   ],
   "source": [
    "text = \"MACHINE LEARNING\"\n",
    "chars = sorted(set(text))\n",
    "window_size = 1\n",
    "indices_to_chars = dict((i, c) for i, c in enumerate(chars))\n",
    "chars_to_indices = dict((c, i) for i, c in enumerate(chars))\n",
    "one_hot_text = chars_to_one_hot(text, chars, chars_to_indices, window_size)*1\n",
    "print(one_hot_text)"
   ]
  },
  {
   "cell_type": "markdown",
   "metadata": {},
   "source": [
    "### T = 1\n",
    "#### Stateless"
   ]
  },
  {
   "cell_type": "code",
   "execution_count": 4,
   "metadata": {},
   "outputs": [
    {
     "name": "stdout",
     "output_type": "stream",
     "text": [
      "N:  15\n",
      "T:  1\n",
      "D:  11\n"
     ]
    }
   ],
   "source": [
    "step_size = 1\n",
    "# encode_io_pairs llama a window_transform_text y despues codifica en one-hot\n",
    "X, y = encode_io_pairs(text, chars, window_size, step_size)\n",
    "print('N: ', X.shape[0])\n",
    "print('T: ', X.shape[1])\n",
    "print('D: ', X.shape[2])"
   ]
  },
  {
   "cell_type": "code",
   "execution_count": 5,
   "metadata": {},
   "outputs": [
    {
     "name": "stdout",
     "output_type": "stream",
     "text": [
      "[[0 0 0 0 0 0 0 0 1 0 0]] M\n",
      "[[0 1 0 0 0 0 0 0 0 0 0]] A\n",
      "[[0 0 1 0 0 0 0 0 0 0 0]] C\n",
      "[[0 0 0 0 0 1 0 0 0 0 0]] H\n",
      "[[0 0 0 0 0 0 1 0 0 0 0]] I\n",
      "[[0 0 0 0 0 0 0 0 0 1 0]] N\n",
      "[[0 0 0 1 0 0 0 0 0 0 0]] E\n",
      "[[1 0 0 0 0 0 0 0 0 0 0]]  \n",
      "[[0 0 0 0 0 0 0 1 0 0 0]] L\n",
      "[[0 0 0 1 0 0 0 0 0 0 0]] E\n",
      "[[0 1 0 0 0 0 0 0 0 0 0]] A\n",
      "[[0 0 0 0 0 0 0 0 0 0 1]] R\n",
      "[[0 0 0 0 0 0 0 0 0 1 0]] N\n",
      "[[0 0 0 0 0 0 1 0 0 0 0]] I\n",
      "[[0 0 0 0 0 0 0 0 0 1 0]] N\n"
     ]
    }
   ],
   "source": [
    "\n",
    "for xi in X:\n",
    "    print(xi*1, indices_to_chars[np.argmax(xi)])"
   ]
  },
  {
   "cell_type": "code",
   "execution_count": 6,
   "metadata": {},
   "outputs": [
    {
     "name": "stdout",
     "output_type": "stream",
     "text": [
      "[0 1 0 0 0 0 0 0 0 0 0] A\n",
      "[0 0 1 0 0 0 0 0 0 0 0] C\n",
      "[0 0 0 0 0 1 0 0 0 0 0] H\n",
      "[0 0 0 0 0 0 1 0 0 0 0] I\n",
      "[0 0 0 0 0 0 0 0 0 1 0] N\n",
      "[0 0 0 1 0 0 0 0 0 0 0] E\n",
      "[1 0 0 0 0 0 0 0 0 0 0]  \n",
      "[0 0 0 0 0 0 0 1 0 0 0] L\n",
      "[0 0 0 1 0 0 0 0 0 0 0] E\n",
      "[0 1 0 0 0 0 0 0 0 0 0] A\n",
      "[0 0 0 0 0 0 0 0 0 0 1] R\n",
      "[0 0 0 0 0 0 0 0 0 1 0] N\n",
      "[0 0 0 0 0 0 1 0 0 0 0] I\n",
      "[0 0 0 0 0 0 0 0 0 1 0] N\n",
      "[0 0 0 0 1 0 0 0 0 0 0] G\n"
     ]
    }
   ],
   "source": [
    "for yi in y:\n",
    "    print(yi*1, indices_to_chars[np.argmax(yi)])"
   ]
  },
  {
   "cell_type": "code",
   "execution_count": 7,
   "metadata": {},
   "outputs": [
    {
     "name": "stdout",
     "output_type": "stream",
     "text": [
      "_________________________________________________________________\n",
      "Layer (type)                 Output Shape              Param #   \n",
      "=================================================================\n",
      "simple_rnn_1 (SimpleRNN)     (None, 10)                220       \n",
      "_________________________________________________________________\n",
      "dense_1 (Dense)              (None, 11)                121       \n",
      "=================================================================\n",
      "Total params: 341\n",
      "Trainable params: 341\n",
      "Non-trainable params: 0\n",
      "_________________________________________________________________\n"
     ]
    }
   ],
   "source": [
    "model = Sequential()\n",
    "model.add(SimpleRNN(10, input_shape=(window_size,len(chars))))\n",
    "model.add(Dense(len(chars), activation=\"softmax\"))\n",
    "model.summary()"
   ]
  },
  {
   "cell_type": "code",
   "execution_count": 8,
   "metadata": {},
   "outputs": [
    {
     "data": {
      "image/png": "[encoded data removed]",
      "text/plain": [
       "<matplotlib.figure.Figure at 0x1823a5c748>"
      ]
     },
     "metadata": {},
     "output_type": "display_data"
    },
    {
     "name": "stdout",
     "output_type": "stream",
     "text": [
      "Epoch 492/500\n",
      "15/15 [==============================] - 0s 2ms/step - loss: 0.4231 - acc: 0.6667\n",
      "Epoch 493/500\n",
      "15/15 [==============================] - 0s 2ms/step - loss: 0.4227 - acc: 0.6667\n",
      "Epoch 494/500\n",
      "15/15 [==============================] - 0s 2ms/step - loss: 0.4228 - acc: 0.6000\n",
      "Epoch 495/500\n",
      "15/15 [==============================] - 0s 2ms/step - loss: 0.4209 - acc: 0.6667\n",
      "Epoch 496/500\n",
      "15/15 [==============================] - 0s 2ms/step - loss: 0.4216 - acc: 0.6000\n",
      "Epoch 497/500\n",
      "15/15 [==============================] - 0s 2ms/step - loss: 0.4228 - acc: 0.6000\n",
      "Epoch 498/500\n",
      "15/15 [==============================] - 0s 2ms/step - loss: 0.4222 - acc: 0.7333\n",
      "Epoch 499/500\n",
      "15/15 [==============================] - 0s 2ms/step - loss: 0.4224 - acc: 0.6667\n",
      "Epoch 500/500\n",
      "15/15 [==============================] - 0s 2ms/step - loss: 0.4228 - acc: 0.6667\n"
     ]
    },
    {
     "data": {
      "text/plain": [
       "<keras.callbacks.History at 0x1822eaac18>"
      ]
     },
     "execution_count": 8,
     "metadata": {},
     "output_type": "execute_result"
    }
   ],
   "source": [
    "model.compile(optimizer='adam', loss='categorical_crossentropy', metrics=['accuracy'])\n",
    "plot_losses = PlotLosses(plot_interval=10, evaluate_interval=None)\n",
    "model.fit(X,y, epochs=500, batch_size=1, verbose=1, callbacks=[plot_losses])"
   ]
  },
  {
   "cell_type": "code",
   "execution_count": 9,
   "metadata": {},
   "outputs": [
    {
     "name": "stdout",
     "output_type": "stream",
     "text": [
      "A 0.9827002\n"
     ]
    }
   ],
   "source": [
    "char_to_predict = text[0] # M\n",
    "to_predict = chars_to_one_hot(char_to_predict, chars, chars_to_indices, window_size)*1\n",
    "predicted = model.predict(to_predict)\n",
    "print(indices_to_chars[np.argmax(predicted)], np.max(predicted))"
   ]
  },
  {
   "cell_type": "markdown",
   "metadata": {},
   "source": [
    "### T = 3"
   ]
  },
  {
   "cell_type": "code",
   "execution_count": 10,
   "metadata": {},
   "outputs": [
    {
     "name": "stdout",
     "output_type": "stream",
     "text": [
      "MAC -> H\n",
      "ACH -> I\n",
      "CHI -> N\n",
      "HIN -> E\n",
      "INE ->  \n",
      "NE  -> L\n",
      "E L -> E\n",
      " LE -> A\n",
      "LEA -> R\n",
      "EAR -> N\n",
      "ARN -> I\n",
      "RNI -> N\n",
      "NIN -> G\n"
     ]
    }
   ],
   "source": [
    "window_size = 3\n",
    "x_3_t, y_3_t = window_transform_text(text, window_size, step_size)\n",
    "for i, te in enumerate(x_3_t):\n",
    "    print(te, '->' ,y_3_t[i])\n",
    "X_3, y_3 = encode_io_pairs(text, chars, window_size, step_size)"
   ]
  },
  {
   "cell_type": "code",
   "execution_count": 11,
   "metadata": {},
   "outputs": [
    {
     "name": "stdout",
     "output_type": "stream",
     "text": [
      "_________________________________________________________________\n",
      "Layer (type)                 Output Shape              Param #   \n",
      "=================================================================\n",
      "simple_rnn_2 (SimpleRNN)     (None, 10)                220       \n",
      "_________________________________________________________________\n",
      "dense_2 (Dense)              (None, 11)                121       \n",
      "=================================================================\n",
      "Total params: 341\n",
      "Trainable params: 341\n",
      "Non-trainable params: 0\n",
      "_________________________________________________________________\n"
     ]
    }
   ],
   "source": [
    "model_3 = Sequential()\n",
    "model_3.add(SimpleRNN(10, input_shape=(window_size,len(chars))))\n",
    "model_3.add(Dense(len(chars), activation=\"softmax\"))\n",
    "model_3.summary()"
   ]
  },
  {
   "cell_type": "code",
   "execution_count": 12,
   "metadata": {},
   "outputs": [
    {
     "data": {
      "image/png": "[encoded data removed]",
      "text/plain": [
       "<matplotlib.figure.Figure at 0x106ee2e10>"
      ]
     },
     "metadata": {},
     "output_type": "display_data"
    },
    {
     "name": "stdout",
     "output_type": "stream",
     "text": [
      "Epoch 492/500\n",
      "13/13 [==============================] - 0s 1ms/step - loss: 0.0526 - acc: 1.0000\n",
      "Epoch 493/500\n",
      "13/13 [==============================] - 0s 2ms/step - loss: 0.0523 - acc: 1.0000\n",
      "Epoch 494/500\n",
      "13/13 [==============================] - 0s 2ms/step - loss: 0.0521 - acc: 1.0000\n",
      "Epoch 495/500\n",
      "13/13 [==============================] - 0s 1ms/step - loss: 0.0519 - acc: 1.0000\n",
      "Epoch 496/500\n",
      "13/13 [==============================] - 0s 1ms/step - loss: 0.0516 - acc: 1.0000\n",
      "Epoch 497/500\n",
      "13/13 [==============================] - 0s 2ms/step - loss: 0.0513 - acc: 1.0000\n",
      "Epoch 498/500\n",
      "13/13 [==============================] - 0s 952us/step - loss: 0.0511 - acc: 1.0000\n",
      "Epoch 499/500\n",
      "13/13 [==============================] - 0s 1ms/step - loss: 0.0509 - acc: 1.0000\n",
      "Epoch 500/500\n",
      "13/13 [==============================] - 0s 2ms/step - loss: 0.0507 - acc: 1.0000\n"
     ]
    },
    {
     "data": {
      "text/plain": [
       "<keras.callbacks.History at 0x1825022ef0>"
      ]
     },
     "execution_count": 12,
     "metadata": {},
     "output_type": "execute_result"
    }
   ],
   "source": [
    "model_3.compile(optimizer='adam', loss='categorical_crossentropy', metrics=['accuracy'])\n",
    "plot_losses = PlotLosses(plot_interval=10, evaluate_interval=None)\n",
    "model_3.fit(X_3,y_3, epochs=500, batch_size=4, verbose=1, callbacks=[plot_losses])"
   ]
  },
  {
   "cell_type": "code",
   "execution_count": 13,
   "metadata": {},
   "outputs": [
    {
     "name": "stdout",
     "output_type": "stream",
     "text": [
      "H 0.9584166\n"
     ]
    }
   ],
   "source": [
    "char_to_predict = x_3_t[0] # MAC\n",
    "to_predict = chars_to_one_hot(char_to_predict, chars, chars_to_indices, window_size)*1\n",
    "predicted = model_3.predict(to_predict)\n",
    "print(indices_to_chars[np.argmax(predicted)], np.max(predicted))"
   ]
  },
  {
   "cell_type": "markdown",
   "metadata": {},
   "source": [
    "#### Stateful RNN"
   ]
  },
  {
   "cell_type": "code",
   "execution_count": 14,
   "metadata": {},
   "outputs": [
    {
     "name": "stdout",
     "output_type": "stream",
     "text": [
      "_________________________________________________________________\n",
      "Layer (type)                 Output Shape              Param #   \n",
      "=================================================================\n",
      "simple_rnn_3 (SimpleRNN)     (1, 10)                   220       \n",
      "_________________________________________________________________\n",
      "dense_3 (Dense)              (1, 11)                   121       \n",
      "=================================================================\n",
      "Total params: 341\n",
      "Trainable params: 341\n",
      "Non-trainable params: 0\n",
      "_________________________________________________________________\n"
     ]
    }
   ],
   "source": [
    "window_transform_text(text, 1, 1)\n",
    "batch_size = 1\n",
    "model_4 = Sequential()\n",
    "model_4.add(SimpleRNN(10, batch_input_shape=(batch_size,1,len(chars)), stateful=True))\n",
    "model_4.add(Dense(len(chars), activation=\"softmax\"))\n",
    "model_4.summary()"
   ]
  },
  {
   "cell_type": "code",
   "execution_count": 15,
   "metadata": {},
   "outputs": [
    {
     "name": "stdout",
     "output_type": "stream",
     "text": [
      "Epoch 1/1\n",
      "15/15 [==============================] - 0s 24ms/step - loss: 2.4476 - acc: 0.0000e+00\n",
      "Epoch 1/1\n",
      "15/15 [==============================] - 0s 1ms/step - loss: 2.4232 - acc: 0.0000e+00\n",
      "Epoch 1/1\n",
      "15/15 [==============================] - 0s 2ms/step - loss: 2.4042 - acc: 0.0667\n",
      "Epoch 1/1\n",
      "15/15 [==============================] - 0s 2ms/step - loss: 2.3855 - acc: 0.0667\n",
      "Epoch 1/1\n",
      "15/15 [==============================] - 0s 2ms/step - loss: 2.3655 - acc: 0.0667\n",
      "Epoch 1/1\n",
      "15/15 [==============================] - 0s 2ms/step - loss: 2.3469 - acc: 0.0667\n",
      "Epoch 1/1\n",
      "15/15 [==============================] - 0s 2ms/step - loss: 2.3281 - acc: 0.0667\n",
      "Epoch 1/1\n",
      "15/15 [==============================] - 0s 2ms/step - loss: 2.3099 - acc: 0.0667\n",
      "Epoch 1/1\n",
      "15/15 [==============================] - 0s 2ms/step - loss: 2.2915 - acc: 0.0667\n",
      "Epoch 1/1\n",
      "15/15 [==============================] - 0s 2ms/step - loss: 2.2732 - acc: 0.0667\n",
      "Epoch 1/1\n",
      "15/15 [==============================] - 0s 2ms/step - loss: 2.2556 - acc: 0.0667\n",
      "Epoch 1/1\n",
      "15/15 [==============================] - 0s 2ms/step - loss: 2.2375 - acc: 0.0667\n",
      "Epoch 1/1\n",
      "15/15 [==============================] - 0s 2ms/step - loss: 2.2202 - acc: 0.0667\n",
      "Epoch 1/1\n",
      "15/15 [==============================] - 0s 2ms/step - loss: 2.2030 - acc: 0.0667\n",
      "Epoch 1/1\n",
      "15/15 [==============================] - 0s 2ms/step - loss: 2.1859 - acc: 0.0667\n",
      "Epoch 1/1\n",
      "15/15 [==============================] - 0s 2ms/step - loss: 2.1689 - acc: 0.1333\n",
      "Epoch 1/1\n",
      "15/15 [==============================] - 0s 1ms/step - loss: 2.1520 - acc: 0.2000\n",
      "Epoch 1/1\n",
      "15/15 [==============================] - 0s 1ms/step - loss: 2.1351 - acc: 0.2000\n",
      "Epoch 1/1\n",
      "15/15 [==============================] - 0s 1ms/step - loss: 2.1183 - acc: 0.2000\n",
      "Epoch 1/1\n",
      "15/15 [==============================] - 0s 1ms/step - loss: 2.1016 - acc: 0.2000\n",
      "Epoch 1/1\n",
      "15/15 [==============================] - 0s 1ms/step - loss: 2.0850 - acc: 0.2667\n",
      "Epoch 1/1\n",
      "15/15 [==============================] - 0s 1ms/step - loss: 2.0684 - acc: 0.2667\n",
      "Epoch 1/1\n",
      "15/15 [==============================] - 0s 1ms/step - loss: 2.0519 - acc: 0.3333\n",
      "Epoch 1/1\n",
      "15/15 [==============================] - 0s 2ms/step - loss: 2.0355 - acc: 0.3333\n",
      "Epoch 1/1\n",
      "15/15 [==============================] - 0s 3ms/step - loss: 2.0192 - acc: 0.3333\n",
      "Epoch 1/1\n",
      "15/15 [==============================] - 0s 4ms/step - loss: 2.0030 - acc: 0.3333\n",
      "Epoch 1/1\n",
      "15/15 [==============================] - 0s 9ms/step - loss: 1.9870 - acc: 0.4000\n",
      "Epoch 1/1\n",
      "15/15 [==============================] - 0s 3ms/step - loss: 1.9710 - acc: 0.4000\n",
      "Epoch 1/1\n",
      "15/15 [==============================] - 0s 2ms/step - loss: 1.9552 - acc: 0.4000\n",
      "Epoch 1/1\n",
      "15/15 [==============================] - 0s 2ms/step - loss: 1.9395 - acc: 0.4000\n",
      "Epoch 1/1\n",
      "15/15 [==============================] - 0s 3ms/step - loss: 1.9240 - acc: 0.4000\n",
      "Epoch 1/1\n",
      "15/15 [==============================] - 0s 3ms/step - loss: 1.9087 - acc: 0.4000\n",
      "Epoch 1/1\n",
      "15/15 [==============================] - 0s 6ms/step - loss: 1.8936 - acc: 0.4000\n",
      "Epoch 1/1\n",
      "15/15 [==============================] - 0s 5ms/step - loss: 1.8787 - acc: 0.4000\n",
      "Epoch 1/1\n",
      "15/15 [==============================] - 0s 3ms/step - loss: 1.8640 - acc: 0.4000\n",
      "Epoch 1/1\n",
      "15/15 [==============================] - 0s 3ms/step - loss: 1.8496 - acc: 0.4000\n",
      "Epoch 1/1\n",
      "15/15 [==============================] - 0s 2ms/step - loss: 1.8354 - acc: 0.4000\n",
      "Epoch 1/1\n",
      "15/15 [==============================] - 0s 4ms/step - loss: 1.8214 - acc: 0.4000\n",
      "Epoch 1/1\n",
      "15/15 [==============================] - 0s 4ms/step - loss: 1.8076 - acc: 0.4667\n",
      "Epoch 1/1\n",
      "15/15 [==============================] - 0s 2ms/step - loss: 1.7934 - acc: 0.4667\n",
      "Epoch 1/1\n",
      "15/15 [==============================] - 0s 3ms/step - loss: 1.7801 - acc: 0.4667\n",
      "Epoch 1/1\n",
      "15/15 [==============================] - 0s 4ms/step - loss: 1.7671 - acc: 0.5333\n",
      "Epoch 1/1\n",
      "15/15 [==============================] - 0s 2ms/step - loss: 1.7528 - acc: 0.5333\n",
      "Epoch 1/1\n",
      "15/15 [==============================] - 0s 2ms/step - loss: 1.7394 - acc: 0.5333\n",
      "Epoch 1/1\n",
      "15/15 [==============================] - 0s 2ms/step - loss: 1.7271 - acc: 0.5333\n",
      "Epoch 1/1\n",
      "15/15 [==============================] - 0s 2ms/step - loss: 1.7153 - acc: 0.5333\n",
      "Epoch 1/1\n",
      "15/15 [==============================] - 0s 3ms/step - loss: 1.7041 - acc: 0.6000\n",
      "Epoch 1/1\n",
      "15/15 [==============================] - 0s 2ms/step - loss: 1.6924 - acc: 0.6000\n",
      "Epoch 1/1\n",
      "15/15 [==============================] - 0s 2ms/step - loss: 1.6765 - acc: 0.6000\n",
      "Epoch 1/1\n",
      "15/15 [==============================] - 0s 2ms/step - loss: 1.6646 - acc: 0.6000\n",
      "Epoch 1/1\n",
      "15/15 [==============================] - 0s 2ms/step - loss: 1.6541 - acc: 0.6667\n",
      "Epoch 1/1\n",
      "15/15 [==============================] - 0s 2ms/step - loss: 1.6434 - acc: 0.6667\n",
      "Epoch 1/1\n",
      "15/15 [==============================] - 0s 2ms/step - loss: 1.6334 - acc: 0.6667\n",
      "Epoch 1/1\n",
      "15/15 [==============================] - 0s 3ms/step - loss: 1.6239 - acc: 0.7333\n",
      "Epoch 1/1\n",
      "15/15 [==============================] - 0s 4ms/step - loss: 1.6146 - acc: 0.7333\n",
      "Epoch 1/1\n",
      "15/15 [==============================] - 0s 3ms/step - loss: 1.6056 - acc: 0.7333\n",
      "Epoch 1/1\n",
      "15/15 [==============================] - 0s 2ms/step - loss: 1.5966 - acc: 0.6667\n",
      "Epoch 1/1\n",
      "15/15 [==============================] - 0s 2ms/step - loss: 1.5881 - acc: 0.6667\n",
      "Epoch 1/1\n",
      "15/15 [==============================] - 0s 2ms/step - loss: 1.5791 - acc: 0.6667\n",
      "Epoch 1/1\n",
      "15/15 [==============================] - 0s 2ms/step - loss: 1.5710 - acc: 0.6667\n",
      "Epoch 1/1\n",
      "15/15 [==============================] - 0s 3ms/step - loss: 1.5631 - acc: 0.6000\n",
      "Epoch 1/1\n",
      "15/15 [==============================] - 0s 2ms/step - loss: 1.5523 - acc: 0.6000\n",
      "Epoch 1/1\n",
      "15/15 [==============================] - 0s 3ms/step - loss: 1.5439 - acc: 0.6000\n",
      "Epoch 1/1\n",
      "15/15 [==============================] - 0s 2ms/step - loss: 1.5361 - acc: 0.6667\n",
      "Epoch 1/1\n",
      "15/15 [==============================] - 0s 3ms/step - loss: 1.5273 - acc: 0.6667\n",
      "Epoch 1/1\n",
      "15/15 [==============================] - 0s 2ms/step - loss: 1.5201 - acc: 0.6667\n",
      "Epoch 1/1\n",
      "15/15 [==============================] - 0s 2ms/step - loss: 1.5131 - acc: 0.6000\n",
      "Epoch 1/1\n",
      "15/15 [==============================] - 0s 3ms/step - loss: 1.5055 - acc: 0.6000\n",
      "Epoch 1/1\n",
      "15/15 [==============================] - 0s 2ms/step - loss: 1.4988 - acc: 0.6000\n",
      "Epoch 1/1\n",
      "15/15 [==============================] - 0s 3ms/step - loss: 1.4924 - acc: 0.6000\n",
      "Epoch 1/1\n",
      "15/15 [==============================] - 0s 3ms/step - loss: 1.4861 - acc: 0.6000\n",
      "Epoch 1/1\n",
      "15/15 [==============================] - 0s 3ms/step - loss: 1.4759 - acc: 0.6667\n",
      "Epoch 1/1\n",
      "15/15 [==============================] - 0s 4ms/step - loss: 1.4686 - acc: 0.6667\n",
      "Epoch 1/1\n",
      "15/15 [==============================] - 0s 3ms/step - loss: 1.4622 - acc: 0.6667\n",
      "Epoch 1/1\n",
      "15/15 [==============================] - 0s 2ms/step - loss: 1.4569 - acc: 0.6667\n",
      "Epoch 1/1\n",
      "15/15 [==============================] - 0s 3ms/step - loss: 1.4511 - acc: 0.6667\n",
      "Epoch 1/1\n",
      "15/15 [==============================] - 0s 3ms/step - loss: 1.4452 - acc: 0.6000\n",
      "Epoch 1/1\n",
      "15/15 [==============================] - 0s 2ms/step - loss: 1.4385 - acc: 0.6000\n",
      "Epoch 1/1\n",
      "15/15 [==============================] - 0s 3ms/step - loss: 1.4216 - acc: 0.6000\n",
      "Epoch 1/1\n",
      "15/15 [==============================] - 0s 3ms/step - loss: 1.4131 - acc: 0.6000\n",
      "Epoch 1/1\n",
      "15/15 [==============================] - 0s 7ms/step - loss: 1.4012 - acc: 0.6667\n",
      "Epoch 1/1\n",
      "15/15 [==============================] - 0s 3ms/step - loss: 1.3927 - acc: 0.6000\n",
      "Epoch 1/1\n",
      "15/15 [==============================] - 0s 3ms/step - loss: 1.3867 - acc: 0.6000\n",
      "Epoch 1/1\n",
      "15/15 [==============================] - 0s 4ms/step - loss: 1.3813 - acc: 0.6000\n",
      "Epoch 1/1\n",
      "15/15 [==============================] - 0s 2ms/step - loss: 1.3756 - acc: 0.6000\n",
      "Epoch 1/1\n",
      "15/15 [==============================] - 0s 2ms/step - loss: 1.3696 - acc: 0.6000\n",
      "Epoch 1/1\n",
      "15/15 [==============================] - 0s 2ms/step - loss: 1.3631 - acc: 0.6000\n",
      "Epoch 1/1\n",
      "15/15 [==============================] - 0s 3ms/step - loss: 1.3561 - acc: 0.6000\n",
      "Epoch 1/1\n",
      "15/15 [==============================] - 0s 2ms/step - loss: 1.3486 - acc: 0.6000\n",
      "Epoch 1/1\n",
      "15/15 [==============================] - 0s 2ms/step - loss: 1.3406 - acc: 0.6000\n",
      "Epoch 1/1\n",
      "15/15 [==============================] - 0s 2ms/step - loss: 1.3322 - acc: 0.6000\n",
      "Epoch 1/1\n",
      "15/15 [==============================] - 0s 2ms/step - loss: 1.3228 - acc: 0.6000\n",
      "Epoch 1/1\n",
      "15/15 [==============================] - 0s 2ms/step - loss: 1.3076 - acc: 0.6000\n",
      "Epoch 1/1\n",
      "15/15 [==============================] - 0s 2ms/step - loss: 1.2972 - acc: 0.6000\n",
      "Epoch 1/1\n",
      "15/15 [==============================] - 0s 2ms/step - loss: 1.2884 - acc: 0.6000\n",
      "Epoch 1/1\n",
      "15/15 [==============================] - 0s 2ms/step - loss: 1.2805 - acc: 0.6000\n",
      "Epoch 1/1\n",
      "15/15 [==============================] - 0s 2ms/step - loss: 1.2720 - acc: 0.6667\n",
      "Epoch 1/1\n",
      "15/15 [==============================] - 0s 2ms/step - loss: 1.2622 - acc: 0.6667\n",
      "Epoch 1/1\n",
      "15/15 [==============================] - 0s 2ms/step - loss: 1.2517 - acc: 0.6000\n",
      "Epoch 1/1\n",
      "15/15 [==============================] - 0s 2ms/step - loss: 1.2411 - acc: 0.6000\n",
      "Epoch 1/1\n",
      "15/15 [==============================] - 0s 3ms/step - loss: 1.2304 - acc: 0.6000\n",
      "Epoch 1/1\n",
      "15/15 [==============================] - 0s 2ms/step - loss: 1.2196 - acc: 0.6000\n",
      "Epoch 1/1\n",
      "15/15 [==============================] - 0s 2ms/step - loss: 1.2088 - acc: 0.6000\n",
      "Epoch 1/1\n",
      "15/15 [==============================] - 0s 2ms/step - loss: 1.1980 - acc: 0.6000\n",
      "Epoch 1/1\n",
      "15/15 [==============================] - 0s 2ms/step - loss: 1.1873 - acc: 0.6667\n",
      "Epoch 1/1\n",
      "15/15 [==============================] - 0s 2ms/step - loss: 1.1765 - acc: 0.6667\n",
      "Epoch 1/1\n",
      "15/15 [==============================] - 0s 1ms/step - loss: 1.1658 - acc: 0.6667\n",
      "Epoch 1/1\n",
      "15/15 [==============================] - 0s 1ms/step - loss: 1.1552 - acc: 0.6667\n",
      "Epoch 1/1\n",
      "15/15 [==============================] - 0s 2ms/step - loss: 1.1447 - acc: 0.6667\n",
      "Epoch 1/1\n",
      "15/15 [==============================] - 0s 2ms/step - loss: 1.1344 - acc: 0.6667\n",
      "Epoch 1/1\n",
      "15/15 [==============================] - 0s 1ms/step - loss: 1.1242 - acc: 0.6667\n",
      "Epoch 1/1\n",
      "15/15 [==============================] - 0s 2ms/step - loss: 1.1142 - acc: 0.6667\n",
      "Epoch 1/1\n",
      "15/15 [==============================] - 0s 2ms/step - loss: 1.1044 - acc: 0.6667\n",
      "Epoch 1/1\n",
      "15/15 [==============================] - 0s 2ms/step - loss: 1.0945 - acc: 0.6667\n",
      "Epoch 1/1\n",
      "15/15 [==============================] - 0s 2ms/step - loss: 1.0843 - acc: 0.6667\n",
      "Epoch 1/1\n",
      "15/15 [==============================] - 0s 2ms/step - loss: 1.0752 - acc: 0.6667\n",
      "Epoch 1/1\n",
      "15/15 [==============================] - 0s 2ms/step - loss: 1.0664 - acc: 0.6667\n",
      "Epoch 1/1\n",
      "15/15 [==============================] - 0s 2ms/step - loss: 1.0578 - acc: 0.6667\n",
      "Epoch 1/1\n",
      "15/15 [==============================] - 0s 2ms/step - loss: 1.0493 - acc: 0.6667\n",
      "Epoch 1/1\n",
      "15/15 [==============================] - 0s 2ms/step - loss: 1.0410 - acc: 0.6667\n",
      "Epoch 1/1\n",
      "15/15 [==============================] - 0s 2ms/step - loss: 1.0327 - acc: 0.6667\n",
      "Epoch 1/1\n",
      "15/15 [==============================] - 0s 2ms/step - loss: 1.0245 - acc: 0.6667\n",
      "Epoch 1/1\n",
      "15/15 [==============================] - 0s 2ms/step - loss: 1.0163 - acc: 0.6667\n",
      "Epoch 1/1\n",
      "15/15 [==============================] - 0s 2ms/step - loss: 1.0081 - acc: 0.6667\n",
      "Epoch 1/1\n",
      "15/15 [==============================] - 0s 2ms/step - loss: 0.9999 - acc: 0.6667\n",
      "Epoch 1/1\n",
      "15/15 [==============================] - 0s 2ms/step - loss: 0.9917 - acc: 0.6667\n",
      "Epoch 1/1\n",
      "15/15 [==============================] - 0s 2ms/step - loss: 0.9834 - acc: 0.6667\n",
      "Epoch 1/1\n",
      "15/15 [==============================] - 0s 2ms/step - loss: 0.9752 - acc: 0.6667\n",
      "Epoch 1/1\n",
      "15/15 [==============================] - 0s 2ms/step - loss: 0.9670 - acc: 0.6667\n",
      "Epoch 1/1\n",
      "15/15 [==============================] - 0s 3ms/step - loss: 0.9589 - acc: 0.6667\n",
      "Epoch 1/1\n",
      "15/15 [==============================] - 0s 3ms/step - loss: 0.9489 - acc: 0.7333\n",
      "Epoch 1/1\n",
      "15/15 [==============================] - 0s 3ms/step - loss: 0.9390 - acc: 0.7333\n",
      "Epoch 1/1\n",
      "15/15 [==============================] - 0s 3ms/step - loss: 0.9306 - acc: 0.7333\n",
      "Epoch 1/1\n",
      "15/15 [==============================] - 0s 3ms/step - loss: 0.9225 - acc: 0.7333\n",
      "Epoch 1/1\n",
      "15/15 [==============================] - 0s 2ms/step - loss: 0.9146 - acc: 0.7333\n",
      "Epoch 1/1\n",
      "15/15 [==============================] - 0s 2ms/step - loss: 0.9067 - acc: 0.7333\n",
      "Epoch 1/1\n",
      "15/15 [==============================] - 0s 2ms/step - loss: 0.8989 - acc: 0.7333\n",
      "Epoch 1/1\n",
      "15/15 [==============================] - 0s 2ms/step - loss: 0.8912 - acc: 0.7333\n",
      "Epoch 1/1\n",
      "15/15 [==============================] - 0s 2ms/step - loss: 0.8830 - acc: 0.7333\n",
      "Epoch 1/1\n",
      "15/15 [==============================] - 0s 2ms/step - loss: 0.8752 - acc: 0.7333\n",
      "Epoch 1/1\n",
      "15/15 [==============================] - 0s 2ms/step - loss: 0.8677 - acc: 0.7333\n",
      "Epoch 1/1\n",
      "15/15 [==============================] - 0s 3ms/step - loss: 0.8603 - acc: 0.7333\n",
      "Epoch 1/1\n",
      "15/15 [==============================] - 0s 2ms/step - loss: 0.8530 - acc: 0.7333\n",
      "Epoch 1/1\n",
      "15/15 [==============================] - 0s 3ms/step - loss: 0.8459 - acc: 0.7333\n",
      "Epoch 1/1\n",
      "15/15 [==============================] - 0s 3ms/step - loss: 0.8388 - acc: 0.7333\n",
      "Epoch 1/1\n",
      "15/15 [==============================] - 0s 2ms/step - loss: 0.8318 - acc: 0.7333\n",
      "Epoch 1/1\n",
      "15/15 [==============================] - 0s 2ms/step - loss: 0.8248 - acc: 0.7333\n",
      "Epoch 1/1\n",
      "15/15 [==============================] - 0s 2ms/step - loss: 0.8180 - acc: 0.7333\n",
      "Epoch 1/1\n",
      "15/15 [==============================] - 0s 2ms/step - loss: 0.8113 - acc: 0.7333\n",
      "Epoch 1/1\n",
      "15/15 [==============================] - 0s 2ms/step - loss: 0.8046 - acc: 0.7333\n",
      "Epoch 1/1\n",
      "15/15 [==============================] - 0s 2ms/step - loss: 0.7981 - acc: 0.7333\n",
      "Epoch 1/1\n",
      "15/15 [==============================] - 0s 2ms/step - loss: 0.7917 - acc: 0.7333\n",
      "Epoch 1/1\n",
      "15/15 [==============================] - 0s 2ms/step - loss: 0.7853 - acc: 0.7333\n",
      "Epoch 1/1\n",
      "15/15 [==============================] - 0s 2ms/step - loss: 0.7791 - acc: 0.7333\n",
      "Epoch 1/1\n",
      "15/15 [==============================] - 0s 2ms/step - loss: 0.7730 - acc: 0.7333\n",
      "Epoch 1/1\n",
      "15/15 [==============================] - 0s 2ms/step - loss: 0.7671 - acc: 0.8000\n",
      "Epoch 1/1\n",
      "15/15 [==============================] - 0s 2ms/step - loss: 0.7613 - acc: 0.8000\n",
      "Epoch 1/1\n",
      "15/15 [==============================] - 0s 2ms/step - loss: 0.7556 - acc: 0.8000\n",
      "Epoch 1/1\n",
      "15/15 [==============================] - 0s 2ms/step - loss: 0.7494 - acc: 0.8000\n",
      "Epoch 1/1\n",
      "15/15 [==============================] - 0s 2ms/step - loss: 0.7441 - acc: 0.8000\n",
      "Epoch 1/1\n",
      "15/15 [==============================] - 0s 3ms/step - loss: 0.7391 - acc: 0.8000\n",
      "Epoch 1/1\n",
      "15/15 [==============================] - 0s 2ms/step - loss: 0.7344 - acc: 0.8000\n",
      "Epoch 1/1\n",
      "15/15 [==============================] - 0s 2ms/step - loss: 0.7302 - acc: 0.8000\n",
      "Epoch 1/1\n",
      "15/15 [==============================] - 0s 3ms/step - loss: 0.7265 - acc: 0.8667\n",
      "Epoch 1/1\n",
      "15/15 [==============================] - 0s 3ms/step - loss: 0.7232 - acc: 0.8667\n",
      "Epoch 1/1\n",
      "15/15 [==============================] - 0s 2ms/step - loss: 0.7203 - acc: 0.8667\n",
      "Epoch 1/1\n",
      "15/15 [==============================] - 0s 2ms/step - loss: 0.7178 - acc: 0.8667\n",
      "Epoch 1/1\n",
      "15/15 [==============================] - 0s 3ms/step - loss: 0.7158 - acc: 0.8667\n",
      "Epoch 1/1\n",
      "15/15 [==============================] - 0s 4ms/step - loss: 0.7143 - acc: 0.8667\n",
      "Epoch 1/1\n",
      "15/15 [==============================] - 0s 2ms/step - loss: 0.7133 - acc: 0.9333\n",
      "Epoch 1/1\n",
      "15/15 [==============================] - 0s 3ms/step - loss: 0.7129 - acc: 0.9333\n",
      "Epoch 1/1\n",
      "15/15 [==============================] - 0s 2ms/step - loss: 0.7129 - acc: 0.9333\n",
      "Epoch 1/1\n",
      "15/15 [==============================] - 0s 2ms/step - loss: 0.7135 - acc: 0.9333\n",
      "Epoch 1/1\n",
      "15/15 [==============================] - 0s 3ms/step - loss: 0.7146 - acc: 0.9333\n",
      "Epoch 1/1\n",
      "15/15 [==============================] - 0s 2ms/step - loss: 0.7163 - acc: 0.9333\n",
      "Epoch 1/1\n",
      "15/15 [==============================] - 0s 2ms/step - loss: 0.7185 - acc: 0.9333\n",
      "Epoch 1/1\n",
      "15/15 [==============================] - 0s 3ms/step - loss: 0.7201 - acc: 0.9333\n",
      "Epoch 1/1\n",
      "15/15 [==============================] - 0s 3ms/step - loss: 0.7229 - acc: 0.9333\n",
      "Epoch 1/1\n",
      "15/15 [==============================] - 0s 3ms/step - loss: 0.7252 - acc: 0.9333\n",
      "Epoch 1/1\n",
      "15/15 [==============================] - 0s 5ms/step - loss: 0.7258 - acc: 0.9333\n",
      "Epoch 1/1\n",
      "15/15 [==============================] - 0s 3ms/step - loss: 0.7262 - acc: 0.9333\n",
      "Epoch 1/1\n",
      "15/15 [==============================] - 0s 3ms/step - loss: 0.7256 - acc: 0.9333\n",
      "Epoch 1/1\n",
      "15/15 [==============================] - 0s 3ms/step - loss: 0.7239 - acc: 0.9333\n",
      "Epoch 1/1\n",
      "15/15 [==============================] - 0s 3ms/step - loss: 0.7207 - acc: 0.9333\n",
      "Epoch 1/1\n",
      "15/15 [==============================] - 0s 3ms/step - loss: 0.7133 - acc: 0.9333\n",
      "Epoch 1/1\n",
      "15/15 [==============================] - 0s 2ms/step - loss: 0.7063 - acc: 0.9333\n",
      "Epoch 1/1\n",
      "15/15 [==============================] - 0s 4ms/step - loss: 0.7018 - acc: 0.9333\n",
      "Epoch 1/1\n",
      "15/15 [==============================] - 0s 4ms/step - loss: 0.6976 - acc: 0.9333\n",
      "Epoch 1/1\n",
      "15/15 [==============================] - 0s 2ms/step - loss: 0.6933 - acc: 0.9333\n",
      "Epoch 1/1\n",
      "15/15 [==============================] - 0s 3ms/step - loss: 0.6889 - acc: 0.9333\n",
      "Epoch 1/1\n",
      "15/15 [==============================] - 0s 3ms/step - loss: 0.6839 - acc: 0.9333\n",
      "Epoch 1/1\n",
      "15/15 [==============================] - 0s 2ms/step - loss: 0.6780 - acc: 0.9333\n",
      "Epoch 1/1\n",
      "15/15 [==============================] - 0s 3ms/step - loss: 0.6733 - acc: 0.9333\n",
      "Epoch 1/1\n",
      "15/15 [==============================] - 0s 2ms/step - loss: 0.6683 - acc: 0.9333\n",
      "Epoch 1/1\n",
      "15/15 [==============================] - 0s 5ms/step - loss: 0.6634 - acc: 0.9333\n",
      "Epoch 1/1\n",
      "15/15 [==============================] - 0s 2ms/step - loss: 0.6593 - acc: 0.9333\n",
      "Epoch 1/1\n",
      "15/15 [==============================] - 0s 2ms/step - loss: 0.6551 - acc: 0.9333\n",
      "Epoch 1/1\n",
      "15/15 [==============================] - 0s 2ms/step - loss: 0.6493 - acc: 0.9333\n",
      "Epoch 1/1\n",
      "15/15 [==============================] - 0s 2ms/step - loss: 0.6453 - acc: 0.9333\n",
      "Epoch 1/1\n",
      "15/15 [==============================] - 0s 2ms/step - loss: 0.6417 - acc: 0.9333\n",
      "Epoch 1/1\n",
      "15/15 [==============================] - 0s 2ms/step - loss: 0.6382 - acc: 0.9333\n",
      "Epoch 1/1\n",
      "15/15 [==============================] - 0s 2ms/step - loss: 0.6348 - acc: 0.9333\n",
      "Epoch 1/1\n",
      "15/15 [==============================] - 0s 2ms/step - loss: 0.6313 - acc: 0.9333\n",
      "Epoch 1/1\n",
      "15/15 [==============================] - 0s 2ms/step - loss: 0.6276 - acc: 0.9333\n",
      "Epoch 1/1\n",
      "15/15 [==============================] - 0s 2ms/step - loss: 0.6236 - acc: 0.9333\n",
      "Epoch 1/1\n",
      "15/15 [==============================] - 0s 2ms/step - loss: 0.6199 - acc: 0.9333\n",
      "Epoch 1/1\n",
      "15/15 [==============================] - 0s 2ms/step - loss: 0.6164 - acc: 0.9333\n",
      "Epoch 1/1\n",
      "15/15 [==============================] - 0s 2ms/step - loss: 0.6129 - acc: 0.9333\n",
      "Epoch 1/1\n",
      "15/15 [==============================] - 0s 2ms/step - loss: 0.6093 - acc: 0.9333\n",
      "Epoch 1/1\n",
      "15/15 [==============================] - 0s 1ms/step - loss: 0.6056 - acc: 0.9333\n",
      "Epoch 1/1\n",
      "15/15 [==============================] - 0s 2ms/step - loss: 0.6017 - acc: 0.9333\n",
      "Epoch 1/1\n",
      "15/15 [==============================] - 0s 1ms/step - loss: 0.5977 - acc: 0.9333\n",
      "Epoch 1/1\n",
      "15/15 [==============================] - 0s 2ms/step - loss: 0.5936 - acc: 0.9333\n",
      "Epoch 1/1\n",
      "15/15 [==============================] - 0s 2ms/step - loss: 0.5893 - acc: 0.9333\n",
      "Epoch 1/1\n",
      "15/15 [==============================] - 0s 1ms/step - loss: 0.5849 - acc: 0.9333\n",
      "Epoch 1/1\n",
      "15/15 [==============================] - 0s 2ms/step - loss: 0.5803 - acc: 0.9333\n",
      "Epoch 1/1\n",
      "15/15 [==============================] - 0s 2ms/step - loss: 0.5755 - acc: 0.9333\n",
      "Epoch 1/1\n",
      "15/15 [==============================] - 0s 2ms/step - loss: 0.5705 - acc: 0.9333\n",
      "Epoch 1/1\n",
      "15/15 [==============================] - 0s 1ms/step - loss: 0.5654 - acc: 0.9333\n",
      "Epoch 1/1\n",
      "15/15 [==============================] - 0s 1ms/step - loss: 0.5602 - acc: 0.9333\n",
      "Epoch 1/1\n",
      "15/15 [==============================] - 0s 1ms/step - loss: 0.5549 - acc: 0.9333\n",
      "Epoch 1/1\n",
      "15/15 [==============================] - 0s 1ms/step - loss: 0.5495 - acc: 0.9333\n",
      "Epoch 1/1\n",
      "15/15 [==============================] - 0s 2ms/step - loss: 0.5440 - acc: 0.9333\n",
      "Epoch 1/1\n",
      "15/15 [==============================] - 0s 2ms/step - loss: 0.5386 - acc: 0.9333\n",
      "Epoch 1/1\n",
      "15/15 [==============================] - 0s 2ms/step - loss: 0.5331 - acc: 0.9333\n",
      "Epoch 1/1\n",
      "15/15 [==============================] - 0s 1ms/step - loss: 0.5277 - acc: 0.9333\n",
      "Epoch 1/1\n",
      "15/15 [==============================] - 0s 2ms/step - loss: 0.5224 - acc: 0.9333\n",
      "Epoch 1/1\n",
      "15/15 [==============================] - 0s 1ms/step - loss: 0.5171 - acc: 0.9333\n",
      "Epoch 1/1\n",
      "15/15 [==============================] - 0s 1ms/step - loss: 0.5120 - acc: 0.9333\n",
      "Epoch 1/1\n",
      "15/15 [==============================] - 0s 2ms/step - loss: 0.5069 - acc: 0.9333\n",
      "Epoch 1/1\n",
      "15/15 [==============================] - 0s 2ms/step - loss: 0.5020 - acc: 0.9333\n",
      "Epoch 1/1\n",
      "15/15 [==============================] - 0s 1ms/step - loss: 0.4973 - acc: 0.9333\n",
      "Epoch 1/1\n",
      "15/15 [==============================] - 0s 1ms/step - loss: 0.4927 - acc: 0.9333\n",
      "Epoch 1/1\n",
      "15/15 [==============================] - 0s 1ms/step - loss: 0.4882 - acc: 1.0000\n",
      "Epoch 1/1\n",
      "15/15 [==============================] - 0s 1ms/step - loss: 0.4840 - acc: 1.0000\n",
      "Epoch 1/1\n",
      "15/15 [==============================] - 0s 1ms/step - loss: 0.4799 - acc: 1.0000\n",
      "Epoch 1/1\n",
      "15/15 [==============================] - 0s 1ms/step - loss: 0.4760 - acc: 1.0000\n",
      "Epoch 1/1\n",
      "15/15 [==============================] - 0s 1ms/step - loss: 0.4724 - acc: 1.0000\n",
      "Epoch 1/1\n",
      "15/15 [==============================] - 0s 1ms/step - loss: 0.4690 - acc: 1.0000\n",
      "Epoch 1/1\n",
      "15/15 [==============================] - 0s 1ms/step - loss: 0.4659 - acc: 1.0000\n",
      "Epoch 1/1\n",
      "15/15 [==============================] - 0s 1ms/step - loss: 0.4631 - acc: 1.0000\n",
      "Epoch 1/1\n",
      "15/15 [==============================] - 0s 1ms/step - loss: 0.4607 - acc: 1.0000\n",
      "Epoch 1/1\n",
      "15/15 [==============================] - 0s 1ms/step - loss: 0.4585 - acc: 1.0000\n",
      "Epoch 1/1\n",
      "15/15 [==============================] - 0s 2ms/step - loss: 0.4564 - acc: 1.0000\n",
      "Epoch 1/1\n",
      "15/15 [==============================] - 0s 2ms/step - loss: 0.4549 - acc: 0.9333\n",
      "Epoch 1/1\n",
      "15/15 [==============================] - 0s 2ms/step - loss: 0.4537 - acc: 0.9333\n",
      "Epoch 1/1\n",
      "15/15 [==============================] - 0s 2ms/step - loss: 0.4529 - acc: 0.9333\n",
      "Epoch 1/1\n",
      "15/15 [==============================] - 0s 1ms/step - loss: 0.4522 - acc: 0.9333\n",
      "Epoch 1/1\n",
      "15/15 [==============================] - 0s 1ms/step - loss: 0.4516 - acc: 0.9333\n",
      "Epoch 1/1\n",
      "15/15 [==============================] - 0s 1ms/step - loss: 0.4511 - acc: 0.9333\n",
      "Epoch 1/1\n",
      "15/15 [==============================] - 0s 1ms/step - loss: 0.4505 - acc: 0.9333\n",
      "Epoch 1/1\n",
      "15/15 [==============================] - 0s 1ms/step - loss: 0.4501 - acc: 0.9333\n",
      "Epoch 1/1\n",
      "15/15 [==============================] - 0s 1ms/step - loss: 0.4498 - acc: 0.9333\n",
      "Epoch 1/1\n",
      "15/15 [==============================] - 0s 1ms/step - loss: 0.4495 - acc: 0.9333\n",
      "Epoch 1/1\n",
      "15/15 [==============================] - 0s 2ms/step - loss: 0.4493 - acc: 0.9333\n",
      "Epoch 1/1\n",
      "15/15 [==============================] - 0s 2ms/step - loss: 0.4493 - acc: 0.9333\n",
      "Epoch 1/1\n",
      "15/15 [==============================] - 0s 1ms/step - loss: 0.4495 - acc: 0.9333\n",
      "Epoch 1/1\n",
      "15/15 [==============================] - 0s 1ms/step - loss: 0.4499 - acc: 0.9333\n",
      "Epoch 1/1\n",
      "15/15 [==============================] - 0s 1ms/step - loss: 0.4504 - acc: 0.9333\n",
      "Epoch 1/1\n",
      "15/15 [==============================] - 0s 1ms/step - loss: 0.4511 - acc: 0.9333\n",
      "Epoch 1/1\n",
      "15/15 [==============================] - 0s 1ms/step - loss: 0.4519 - acc: 0.9333\n",
      "Epoch 1/1\n",
      "15/15 [==============================] - 0s 2ms/step - loss: 0.4527 - acc: 0.9333\n",
      "Epoch 1/1\n",
      "15/15 [==============================] - 0s 2ms/step - loss: 0.4534 - acc: 0.9333\n",
      "Epoch 1/1\n",
      "15/15 [==============================] - 0s 1ms/step - loss: 0.4547 - acc: 0.9333\n",
      "Epoch 1/1\n",
      "15/15 [==============================] - 0s 1ms/step - loss: 0.4549 - acc: 0.9333\n",
      "Epoch 1/1\n",
      "15/15 [==============================] - 0s 1ms/step - loss: 0.4545 - acc: 0.9333\n",
      "Epoch 1/1\n",
      "15/15 [==============================] - 0s 1ms/step - loss: 0.4537 - acc: 0.9333\n",
      "Epoch 1/1\n",
      "15/15 [==============================] - 0s 1ms/step - loss: 0.4526 - acc: 0.9333\n",
      "Epoch 1/1\n",
      "15/15 [==============================] - 0s 1ms/step - loss: 0.4512 - acc: 0.9333\n",
      "Epoch 1/1\n",
      "15/15 [==============================] - 0s 1ms/step - loss: 0.4497 - acc: 0.9333\n",
      "Epoch 1/1\n",
      "15/15 [==============================] - 0s 1ms/step - loss: 0.4481 - acc: 0.9333\n",
      "Epoch 1/1\n",
      "15/15 [==============================] - 0s 2ms/step - loss: 0.4465 - acc: 0.9333\n",
      "Epoch 1/1\n",
      "15/15 [==============================] - 0s 2ms/step - loss: 0.4447 - acc: 0.9333\n",
      "Epoch 1/1\n",
      "15/15 [==============================] - 0s 1ms/step - loss: 0.4429 - acc: 0.9333\n",
      "Epoch 1/1\n",
      "15/15 [==============================] - 0s 1ms/step - loss: 0.4408 - acc: 0.9333\n",
      "Epoch 1/1\n",
      "15/15 [==============================] - 0s 1ms/step - loss: 0.4386 - acc: 0.9333\n",
      "Epoch 1/1\n",
      "15/15 [==============================] - 0s 1ms/step - loss: 0.4358 - acc: 0.9333\n",
      "Epoch 1/1\n",
      "15/15 [==============================] - 0s 1ms/step - loss: 0.4330 - acc: 0.9333\n",
      "Epoch 1/1\n",
      "15/15 [==============================] - 0s 1ms/step - loss: 0.4297 - acc: 0.9333\n",
      "Epoch 1/1\n",
      "15/15 [==============================] - 0s 1ms/step - loss: 0.4263 - acc: 0.9333\n",
      "Epoch 1/1\n",
      "15/15 [==============================] - 0s 1ms/step - loss: 0.4235 - acc: 0.9333\n",
      "Epoch 1/1\n",
      "15/15 [==============================] - 0s 2ms/step - loss: 0.4222 - acc: 0.8667\n",
      "Epoch 1/1\n",
      "15/15 [==============================] - 0s 2ms/step - loss: 0.4210 - acc: 0.8667\n",
      "Epoch 1/1\n",
      "15/15 [==============================] - 0s 2ms/step - loss: 0.4194 - acc: 0.8667\n",
      "Epoch 1/1\n",
      "15/15 [==============================] - 0s 1ms/step - loss: 0.4169 - acc: 0.8667\n",
      "Epoch 1/1\n",
      "15/15 [==============================] - 0s 1ms/step - loss: 0.4134 - acc: 0.8667\n",
      "Epoch 1/1\n",
      "15/15 [==============================] - 0s 1ms/step - loss: 0.4086 - acc: 0.8667\n",
      "Epoch 1/1\n",
      "15/15 [==============================] - 0s 1ms/step - loss: 0.4027 - acc: 0.8667\n",
      "Epoch 1/1\n",
      "15/15 [==============================] - 0s 1ms/step - loss: 0.3960 - acc: 0.8667\n",
      "Epoch 1/1\n",
      "15/15 [==============================] - 0s 2ms/step - loss: 0.3888 - acc: 0.8667\n",
      "Epoch 1/1\n",
      "15/15 [==============================] - 0s 2ms/step - loss: 0.3814 - acc: 0.8667\n",
      "Epoch 1/1\n",
      "15/15 [==============================] - 0s 1ms/step - loss: 0.3779 - acc: 0.8667\n",
      "Epoch 1/1\n",
      "15/15 [==============================] - 0s 1ms/step - loss: 0.3697 - acc: 0.8667\n",
      "Epoch 1/1\n",
      "15/15 [==============================] - 0s 1ms/step - loss: 0.3609 - acc: 0.8667\n",
      "Epoch 1/1\n",
      "15/15 [==============================] - 0s 1ms/step - loss: 0.3534 - acc: 0.8667\n",
      "Epoch 1/1\n",
      "15/15 [==============================] - 0s 1ms/step - loss: 0.3460 - acc: 0.9333\n",
      "Epoch 1/1\n",
      "15/15 [==============================] - 0s 1ms/step - loss: 0.3393 - acc: 0.9333\n",
      "Epoch 1/1\n",
      "15/15 [==============================] - 0s 2ms/step - loss: 0.3336 - acc: 0.9333\n",
      "Epoch 1/1\n",
      "15/15 [==============================] - 0s 1ms/step - loss: 0.3287 - acc: 0.9333\n",
      "Epoch 1/1\n",
      "15/15 [==============================] - 0s 1ms/step - loss: 0.3248 - acc: 0.9333\n"
     ]
    }
   ],
   "source": [
    "model_4.compile(optimizer='adam', loss='categorical_crossentropy', metrics=['accuracy'])\n",
    "for i in range(300):\n",
    "    model_4.fit(X, y, epochs=1, batch_size=batch_size, verbose=1, shuffle=False)\n",
    "    model_4.reset_states()"
   ]
  },
  {
   "cell_type": "markdown",
   "metadata": {},
   "source": [
    "#### Secuencias variables en Keras\n",
    "#### Padding + Masking"
   ]
  },
  {
   "cell_type": "code",
   "execution_count": 16,
   "metadata": {},
   "outputs": [],
   "source": [
    "from keras.layers import Masking"
   ]
  },
  {
   "cell_type": "code",
   "execution_count": 17,
   "metadata": {},
   "outputs": [],
   "source": [
    "def code_chars(X, y, chars_to_indices):\n",
    "    X_coded = []\n",
    "    y_coded = []\n",
    "    for i, xi in enumerate(X):\n",
    "        one_h_y = [0]*(len(chars_to_indices) - 1) # Menos 1 por el '' agregado\n",
    "        vect = []\n",
    "        for c in xi:\n",
    "            one_h = [0]*(len(chars_to_indices) - 1)\n",
    "            if c == '':\n",
    "                vect.append(one_h)\n",
    "            else:\n",
    "                one_h[chars_to_indices[c]] = 1\n",
    "                vect.append(one_h)\n",
    "        X_coded.append(vect)\n",
    "        one_h_y[chars_to_indices[y[i]]] = 1\n",
    "        y_coded.append(one_h_y)\n",
    "    return np.array(X_coded), np.array(y_coded)"
   ]
  },
  {
   "cell_type": "code",
   "execution_count": 18,
   "metadata": {},
   "outputs": [],
   "source": [
    "def window_transform_text_padding_mode(text):\n",
    "    len_out = len(text)\n",
    "    text = text\n",
    "    X = []\n",
    "    y = []\n",
    "    for i in range(len_out):\n",
    "        #X.append()\n",
    "        output_start = ['']*(len_out-1)\n",
    "        output_start[len_out-i-1:len_out] = text[0:i]\n",
    "        X.append(output_start)\n",
    "        y.append(text[i])\n",
    "    return X, y"
   ]
  },
  {
   "cell_type": "code",
   "execution_count": 19,
   "metadata": {},
   "outputs": [],
   "source": [
    "X_5, y_5 = window_transform_text_padding_mode(text)"
   ]
  },
  {
   "cell_type": "code",
   "execution_count": 20,
   "metadata": {},
   "outputs": [],
   "source": [
    "chars = sorted(set(text))\n",
    "chars_to_indices = dict((c, i) for i, c in enumerate(chars))\n",
    "chars_to_indices[''] = -1\n",
    "X_coded, y_coded = code_chars(X_5, y_5, chars_to_indices)"
   ]
  },
  {
   "cell_type": "code",
   "execution_count": 21,
   "metadata": {},
   "outputs": [
    {
     "name": "stdout",
     "output_type": "stream",
     "text": [
      "_________________________________________________________________\n",
      "Layer (type)                 Output Shape              Param #   \n",
      "=================================================================\n",
      "masking_1 (Masking)          (None, 15, 11)            0         \n",
      "_________________________________________________________________\n",
      "simple_rnn_4 (SimpleRNN)     (None, 10)                220       \n",
      "_________________________________________________________________\n",
      "dense_4 (Dense)              (None, 11)                121       \n",
      "=================================================================\n",
      "Total params: 341\n",
      "Trainable params: 341\n",
      "Non-trainable params: 0\n",
      "_________________________________________________________________\n"
     ]
    }
   ],
   "source": [
    "model_6 = Sequential()\n",
    "model_6.add(Masking(mask_value=0., input_shape=(X_coded.shape[1],X_coded.shape[2])))\n",
    "model_6.add(SimpleRNN(10))\n",
    "model_6.add(Dense(len(chars), activation=\"softmax\"))\n",
    "model_6.summary()"
   ]
  },
  {
   "cell_type": "code",
   "execution_count": 22,
   "metadata": {},
   "outputs": [
    {
     "data": {
      "image/png": "[encoded data removed]",
      "text/plain": [
       "<matplotlib.figure.Figure at 0x1823b19d30>"
      ]
     },
     "metadata": {},
     "output_type": "display_data"
    },
    {
     "name": "stdout",
     "output_type": "stream",
     "text": [
      "Epoch 992/1000\n",
      "16/16 [==============================] - 0s 5ms/step - loss: 0.0044 - acc: 1.0000\n",
      "Epoch 993/1000\n",
      "16/16 [==============================] - 0s 6ms/step - loss: 0.0044 - acc: 1.0000\n",
      "Epoch 994/1000\n",
      "16/16 [==============================] - 0s 5ms/step - loss: 0.0044 - acc: 1.0000\n",
      "Epoch 995/1000\n",
      "16/16 [==============================] - 0s 5ms/step - loss: 0.0044 - acc: 1.0000\n",
      "Epoch 996/1000\n",
      "16/16 [==============================] - 0s 4ms/step - loss: 0.0043 - acc: 1.0000\n",
      "Epoch 997/1000\n",
      "16/16 [==============================] - 0s 4ms/step - loss: 0.0043 - acc: 1.0000\n",
      "Epoch 998/1000\n",
      "16/16 [==============================] - 0s 4ms/step - loss: 0.0043 - acc: 1.0000\n",
      "Epoch 999/1000\n",
      "16/16 [==============================] - 0s 4ms/step - loss: 0.0043 - acc: 1.0000\n",
      "Epoch 1000/1000\n",
      "16/16 [==============================] - 0s 4ms/step - loss: 0.0043 - acc: 1.0000\n"
     ]
    },
    {
     "data": {
      "text/plain": [
       "<keras.callbacks.History at 0x18232b3588>"
      ]
     },
     "execution_count": 22,
     "metadata": {},
     "output_type": "execute_result"
    }
   ],
   "source": [
    "model_6.compile(optimizer='adam', loss='categorical_crossentropy', metrics=['accuracy'])\n",
    "plot_losses = PlotLosses(plot_interval=10, evaluate_interval=None)\n",
    "model_6.fit(X_coded,y_coded, epochs=1000, batch_size=1, verbose=1, callbacks=[plot_losses])"
   ]
  },
  {
   "cell_type": "code",
   "execution_count": 23,
   "metadata": {},
   "outputs": [
    {
     "name": "stdout",
     "output_type": "stream",
     "text": [
      "['', '', '', '', '', '', '', '', '', '', '', '', '', '', ''] -> M 0.93\n",
      "['', '', '', '', '', '', '', '', '', '', '', '', '', '', 'M'] -> A 0.99\n",
      "['', '', '', '', '', '', '', '', '', '', '', '', '', 'M', 'A'] -> C 0.99\n",
      "['', '', '', '', '', '', '', '', '', '', '', '', 'M', 'A', 'C'] -> H 0.99\n",
      "['', '', '', '', '', '', '', '', '', '', '', 'M', 'A', 'C', 'H'] -> I 0.99\n",
      "['', '', '', '', '', '', '', '', '', '', 'M', 'A', 'C', 'H', 'I'] -> N 0.99\n",
      "['', '', '', '', '', '', '', '', '', 'M', 'A', 'C', 'H', 'I', 'N'] -> E 0.99\n",
      "['', '', '', '', '', '', '', '', 'M', 'A', 'C', 'H', 'I', 'N', 'E'] ->   0.99\n",
      "['', '', '', '', '', '', '', 'M', 'A', 'C', 'H', 'I', 'N', 'E', ' '] -> L 0.99\n",
      "['', '', '', '', '', '', 'M', 'A', 'C', 'H', 'I', 'N', 'E', ' ', 'L'] -> E 0.99\n",
      "['', '', '', '', '', 'M', 'A', 'C', 'H', 'I', 'N', 'E', ' ', 'L', 'E'] -> A 0.99\n",
      "['', '', '', '', 'M', 'A', 'C', 'H', 'I', 'N', 'E', ' ', 'L', 'E', 'A'] -> R 0.99\n",
      "['', '', '', 'M', 'A', 'C', 'H', 'I', 'N', 'E', ' ', 'L', 'E', 'A', 'R'] -> N 0.99\n",
      "['', '', 'M', 'A', 'C', 'H', 'I', 'N', 'E', ' ', 'L', 'E', 'A', 'R', 'N'] -> I 0.99\n",
      "['', 'M', 'A', 'C', 'H', 'I', 'N', 'E', ' ', 'L', 'E', 'A', 'R', 'N', 'I'] -> N 0.99\n",
      "['M', 'A', 'C', 'H', 'I', 'N', 'E', ' ', 'L', 'E', 'A', 'R', 'N', 'I', 'N'] -> G 0.99\n"
     ]
    }
   ],
   "source": [
    "to_predict = X_coded\n",
    "predicted = model_6.predict(to_predict)\n",
    "for i, row in enumerate(predicted):\n",
    "    idx = np.argmax(row)\n",
    "    print(X_5[i], '->', indices_to_chars[idx], int(row[idx]*100)/100)"
   ]
  },
  {
   "cell_type": "markdown",
   "metadata": {},
   "source": [
    "### Many to Many\n",
    "#### Return Sequence"
   ]
  },
  {
   "cell_type": "code",
   "execution_count": 24,
   "metadata": {},
   "outputs": [
    {
     "name": "stdout",
     "output_type": "stream",
     "text": [
      "Caracteres distintos:\n",
      "[' ', '#', '$', 'A', 'C', 'E', 'G', 'H', 'I', 'L', 'M', 'N', 'R']\n",
      "[[[0 1 0 0 0 0 0 0 0 0 0 0 0]\n",
      "  [0 0 0 0 0 0 0 0 0 0 1 0 0]\n",
      "  [0 0 0 1 0 0 0 0 0 0 0 0 0]\n",
      "  [0 0 0 0 1 0 0 0 0 0 0 0 0]\n",
      "  [0 0 0 0 0 0 0 1 0 0 0 0 0]\n",
      "  [0 0 0 0 0 0 0 0 1 0 0 0 0]\n",
      "  [0 0 0 0 0 0 0 0 0 0 0 1 0]\n",
      "  [0 0 0 0 0 1 0 0 0 0 0 0 0]\n",
      "  [1 0 0 0 0 0 0 0 0 0 0 0 0]\n",
      "  [0 0 0 0 0 0 0 0 0 1 0 0 0]\n",
      "  [0 0 0 0 0 1 0 0 0 0 0 0 0]\n",
      "  [0 0 0 1 0 0 0 0 0 0 0 0 0]\n",
      "  [0 0 0 0 0 0 0 0 0 0 0 0 1]\n",
      "  [0 0 0 0 0 0 0 0 0 0 0 1 0]\n",
      "  [0 0 0 0 0 0 0 0 1 0 0 0 0]\n",
      "  [0 0 0 0 0 0 0 0 0 0 0 1 0]\n",
      "  [0 0 0 0 0 0 1 0 0 0 0 0 0]\n",
      "  [0 0 1 0 0 0 0 0 0 0 0 0 0]]]\n",
      "(1, 18, 13)\n"
     ]
    }
   ],
   "source": [
    "text = \"#MACHINE LEARNING$\"\n",
    "chars = sorted(set(text))\n",
    "print('Caracteres distintos:')\n",
    "print(chars)\n",
    "window_size = 1\n",
    "chars_to_indices = dict((c, i) for i, c in enumerate(chars))  # map each unique character to unique integer\n",
    "indices_to_chars = dict((i, c) for i, c in enumerate(chars))\n",
    "one_hot_text = chars_to_one_hot(text, chars, chars_to_indices, window_size)*1\n",
    "print(one_hot_text)\n",
    "print(one_hot_text.shape)"
   ]
  },
  {
   "cell_type": "code",
   "execution_count": 26,
   "metadata": {},
   "outputs": [],
   "source": [
    "X_train = one_hot_text[:, :-1, :]\n",
    "y_train = one_hot_text[:, 1:, :]"
   ]
  },
  {
   "cell_type": "code",
   "execution_count": 27,
   "metadata": {},
   "outputs": [
    {
     "name": "stdout",
     "output_type": "stream",
     "text": [
      "_________________________________________________________________\n",
      "Layer (type)                 Output Shape              Param #   \n",
      "=================================================================\n",
      "simple_rnn_5 (SimpleRNN)     (None, 17, 10)            240       \n",
      "_________________________________________________________________\n",
      "dense_5 (Dense)              (None, 17, 13)            143       \n",
      "=================================================================\n",
      "Total params: 383\n",
      "Trainable params: 383\n",
      "Non-trainable params: 0\n",
      "_________________________________________________________________\n"
     ]
    }
   ],
   "source": [
    "model_7 = Sequential()\n",
    "model_7.add(SimpleRNN(10, return_sequences=True, input_shape=(X_train.shape[1],len(chars))))\n",
    "model_7.add(Dense(len(chars), activation=\"softmax\"))\n",
    "model_7.summary()"
   ]
  },
  {
   "cell_type": "code",
   "execution_count": 28,
   "metadata": {},
   "outputs": [
    {
     "data": {
      "image/png": "[encoded data removed]",
      "text/plain": [
       "<matplotlib.figure.Figure at 0x1826501ac8>"
      ]
     },
     "metadata": {},
     "output_type": "display_data"
    },
    {
     "name": "stdout",
     "output_type": "stream",
     "text": [
      "Epoch 492/500\n",
      "1/1 [==============================] - 0s 4ms/step - loss: 0.3177 - acc: 1.0000\n",
      "Epoch 493/500\n",
      "1/1 [==============================] - 0s 4ms/step - loss: 0.3165 - acc: 1.0000\n",
      "Epoch 494/500\n",
      "1/1 [==============================] - 0s 4ms/step - loss: 0.3152 - acc: 1.0000\n",
      "Epoch 495/500\n",
      "1/1 [==============================] - 0s 4ms/step - loss: 0.3140 - acc: 1.0000\n",
      "Epoch 496/500\n",
      "1/1 [==============================] - 0s 4ms/step - loss: 0.3127 - acc: 1.0000\n",
      "Epoch 497/500\n",
      "1/1 [==============================] - 0s 4ms/step - loss: 0.3115 - acc: 1.0000\n",
      "Epoch 498/500\n",
      "1/1 [==============================] - 0s 4ms/step - loss: 0.3103 - acc: 1.0000\n",
      "Epoch 499/500\n",
      "1/1 [==============================] - 0s 3ms/step - loss: 0.3090 - acc: 1.0000\n",
      "Epoch 500/500\n",
      "1/1 [==============================] - 0s 4ms/step - loss: 0.3078 - acc: 1.0000\n"
     ]
    },
    {
     "data": {
      "text/plain": [
       "<keras.callbacks.History at 0x1825718fd0>"
      ]
     },
     "execution_count": 28,
     "metadata": {},
     "output_type": "execute_result"
    }
   ],
   "source": [
    "model_7.compile(optimizer='adam', loss='categorical_crossentropy', metrics=['accuracy'])\n",
    "plot_losses = PlotLosses(plot_interval=10, evaluate_interval=None)\n",
    "model_7.fit(X_train,y_train, epochs=500, batch_size=1, verbose=1, callbacks=[plot_losses])"
   ]
  },
  {
   "cell_type": "code",
   "execution_count": 29,
   "metadata": {},
   "outputs": [
    {
     "data": {
      "text/plain": [
       "array([[10,  3,  4,  7,  8, 11,  5,  0,  9,  5,  3, 12, 11,  8, 11,  6,\n",
       "         2]])"
      ]
     },
     "execution_count": 29,
     "metadata": {},
     "output_type": "execute_result"
    }
   ],
   "source": [
    "model_7.predict_classes(X_train)"
   ]
  },
  {
   "cell_type": "code",
   "execution_count": null,
   "metadata": {},
   "outputs": [],
   "source": []
  }
 ],
 "metadata": {
  "kernelspec": {
   "display_name": "Python 3",
   "language": "python",
   "name": "python3"
  },
  "language_info": {
   "codemirror_mode": {
    "name": "ipython",
    "version": 3
   },
   "file_extension": ".py",
   "mimetype": "text/x-python",
   "name": "python",
   "nbconvert_exporter": "python",
   "pygments_lexer": "ipython3",
   "version": "3.6.4"
  }
 },
 "nbformat": 4,
 "nbformat_minor": 2
}
